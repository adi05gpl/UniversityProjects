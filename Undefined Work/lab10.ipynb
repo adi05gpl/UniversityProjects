{
  "nbformat": 4,
  "nbformat_minor": 0,
  "metadata": {
    "colab": {
      "name": "lab10.ipynb",
      "provenance": [],
      "collapsed_sections": []
    },
    "kernelspec": {
      "name": "python3",
      "display_name": "Python 3"
    }
  },
  "cells": [
    {
      "cell_type": "markdown",
      "metadata": {
        "id": "KcdaVkF95nsu"
      },
      "source": [
        "# Laborator 10\n",
        "\n",
        "În cadrul laboratorului, prin rezolvarea [problemei damelor](https://ro.wikipedia.org/wiki/Problema_damelor) (varianta generală), vom studia reprezentarea de tip permutație și operatorii de mutație și încucișare compatibili.\n",
        "\n",
        "\n",
        "Încă odată, începem prin instalarea DEAP, folosid comanda `pip install`:"
      ]
    },
    {
      "cell_type": "code",
      "metadata": {
        "colab": {
          "base_uri": "https://localhost:8080/"
        },
        "id": "xLccJUg_5kON",
        "outputId": "aa4e4af0-8057-4280-8bf8-06842c677947"
      },
      "source": [
        "!pip install deap"
      ],
      "execution_count": null,
      "outputs": [
        {
          "output_type": "stream",
          "text": [
            "Collecting deap\n",
            "\u001b[?25l  Downloading https://files.pythonhosted.org/packages/99/d1/803c7a387d8a7e6866160b1541307f88d534da4291572fb32f69d2548afb/deap-1.3.1-cp37-cp37m-manylinux2010_x86_64.whl (157kB)\n",
            "\r\u001b[K     |██                              | 10kB 13.3MB/s eta 0:00:01\r\u001b[K     |████▏                           | 20kB 13.8MB/s eta 0:00:01\r\u001b[K     |██████▏                         | 30kB 9.0MB/s eta 0:00:01\r\u001b[K     |████████▎                       | 40kB 6.8MB/s eta 0:00:01\r\u001b[K     |██████████▍                     | 51kB 4.0MB/s eta 0:00:01\r\u001b[K     |████████████▍                   | 61kB 4.5MB/s eta 0:00:01\r\u001b[K     |██████████████▌                 | 71kB 5.0MB/s eta 0:00:01\r\u001b[K     |████████████████▋               | 81kB 5.1MB/s eta 0:00:01\r\u001b[K     |██████████████████▋             | 92kB 5.2MB/s eta 0:00:01\r\u001b[K     |████████████████████▊           | 102kB 5.3MB/s eta 0:00:01\r\u001b[K     |██████████████████████▉         | 112kB 5.3MB/s eta 0:00:01\r\u001b[K     |████████████████████████▉       | 122kB 5.3MB/s eta 0:00:01\r\u001b[K     |███████████████████████████     | 133kB 5.3MB/s eta 0:00:01\r\u001b[K     |█████████████████████████████   | 143kB 5.3MB/s eta 0:00:01\r\u001b[K     |███████████████████████████████ | 153kB 5.3MB/s eta 0:00:01\r\u001b[K     |████████████████████████████████| 163kB 5.3MB/s \n",
            "\u001b[?25hRequirement already satisfied: numpy in /usr/local/lib/python3.7/dist-packages (from deap) (1.19.5)\n",
            "Installing collected packages: deap\n",
            "Successfully installed deap-1.3.1\n"
          ],
          "name": "stdout"
        }
      ]
    },
    {
      "cell_type": "markdown",
      "metadata": {
        "id": "tIjzi_PWAhZN"
      },
      "source": [
        "Importarea componentelor și librăriilor principale:"
      ]
    },
    {
      "cell_type": "code",
      "metadata": {
        "id": "Oe-ownsTAgoZ"
      },
      "source": [
        "from deap import algorithms\n",
        "from deap import base\n",
        "from deap import creator\n",
        "from deap import tools\n",
        "\n",
        "import numpy as np\n",
        "import random\n",
        "import array"
      ],
      "execution_count": null,
      "outputs": []
    },
    {
      "cell_type": "markdown",
      "metadata": {
        "id": "YR0Hgy8FA-Yg"
      },
      "source": [
        "# Probleme celor N dame\n",
        "\n",
        "Conform [descrierii](https://ro.wikipedia.org/wiki/Problema_damelor):\n",
        "\n",
        "  *Problema damelor (sau problema reginelor) tratează plasarea a opt regine de șah pe o tablă de șah astfel încât să nu existe două regine care se amenință reciproc. Astfel, se caută o soluție astfel încât nicio pereche de două regine să nu fie pe același rând, pe aceeași coloană, sau pe aceeași diagonală.*\n",
        "\n",
        "Dacă fiecărei regine îi este alocată o coloană fixă, printr-o reprezentare de tip permutație putem determina care este singura regină pe fiecare linie.\n",
        "\n",
        "În funcția \"fitness\" vom număra câte perechi de dame se atacă reciproc pe diagonală. Cu ajutorul algritmului evolutiv, vom căuta configurația care minimează acest număr al conflicteelor."
      ]
    },
    {
      "cell_type": "code",
      "metadata": {
        "id": "hA8edSwOAcNX"
      },
      "source": [
        "def checkConflicts(individual):\n",
        "  n = len(individual)\n",
        "\n",
        "  left_diagonal = np.zeros(2*n-1)\n",
        "  right_diagonal = np.zeros(2*n-1)\n",
        "    \n",
        "  # Calculam numarul de regine pe fiecare diagonala\n",
        "  for i in range(n):\n",
        "      left_diagonal[i+individual[i]] += 1\n",
        "      right_diagonal[n-1-i+individual[i]] += 1\n",
        "    \n",
        "  # Calculam numarul de conflicte pe fiecare diagonala\n",
        "  numConflicts = 0\n",
        "  for i in range(2*n-1):\n",
        "      if left_diagonal[i] > 1:\n",
        "            numConflicts += left_diagonal[i] - 1 # o piesa \n",
        "      if right_diagonal[i] > 1:\n",
        "            numConflicts += right_diagonal[i] - 1\n",
        "  return numConflicts, \n",
        "  #pentru ca va fi folosita ca functie fitness, rezultatul returnat trebuie sa fie iterabil \n",
        "  #chiar daca avem o singura valoare, punem si o virgula"
      ],
      "execution_count": null,
      "outputs": []
    },
    {
      "cell_type": "markdown",
      "metadata": {
        "id": "3t29wRyYc7u0"
      },
      "source": [
        "Definim o funcție pentru afișarea (pe tablă) a unei configurații codificate. "
      ]
    },
    {
      "cell_type": "code",
      "metadata": {
        "id": "03UBB5jFalLi"
      },
      "source": [
        "def displayBoard(individual):\n",
        "  n = len(individual)\n",
        "  board = [['.'] * n for _ in range(n)] \n",
        "  \n",
        "  for index in range(0, n):\n",
        "    row = index\n",
        "    column = individual[index] \n",
        "    board[column][row] = 'Q'\n",
        "  \n",
        "  for i in reversed(range(len(board))):\n",
        "    print(' '.join(board[i]))"
      ],
      "execution_count": null,
      "outputs": []
    },
    {
      "cell_type": "markdown",
      "metadata": {
        "id": "BVVJ6E6VB6kG"
      },
      "source": [
        "Testare:"
      ]
    },
    {
      "cell_type": "code",
      "metadata": {
        "colab": {
          "base_uri": "https://localhost:8080/"
        },
        "id": "VuqecKlEB9fi",
        "outputId": "624a16ba-442b-4d70-a3c9-6827f9d098a3"
      },
      "source": [
        "ind = [0,1,2,3,4,5,6,7]\n",
        "displayBoard(ind)\n",
        "print(checkConflicts(ind))"
      ],
      "execution_count": null,
      "outputs": [
        {
          "output_type": "stream",
          "text": [
            ". . . . . . . Q\n",
            ". . . . . . Q .\n",
            ". . . . . Q . .\n",
            ". . . . Q . . .\n",
            ". . . Q . . . .\n",
            ". . Q . . . . .\n",
            ". Q . . . . . .\n",
            "Q . . . . . . .\n",
            "(7.0,)\n"
          ],
          "name": "stdout"
        }
      ]
    },
    {
      "cell_type": "code",
      "metadata": {
        "colab": {
          "base_uri": "https://localhost:8080/"
        },
        "id": "urrSn9MNcDzu",
        "outputId": "73d9b461-ca95-4e56-c493-d7befea4173b"
      },
      "source": [
        "ind = [2,4,1,7,0,6,3,5]\n",
        "displayBoard(ind)\n",
        "print(checkConflicts(ind))"
      ],
      "execution_count": null,
      "outputs": [
        {
          "output_type": "stream",
          "text": [
            ". . . Q . . . .\n",
            ". . . . . Q . .\n",
            ". . . . . . . Q\n",
            ". Q . . . . . .\n",
            ". . . . . . Q .\n",
            "Q . . . . . . .\n",
            ". . Q . . . . .\n",
            ". . . . Q . . .\n",
            "(0,)\n"
          ],
          "name": "stdout"
        }
      ]
    },
    {
      "cell_type": "code",
      "metadata": {
        "colab": {
          "base_uri": "https://localhost:8080/"
        },
        "id": "C-3RHFpncqUc",
        "outputId": "1de7b25d-aef7-4057-eb2a-4b51cf6dacc1"
      },
      "source": [
        "for i in range(0, 5):\n",
        "  ind = np.random.permutation(8)\n",
        "  displayBoard(ind)\n",
        "  print(checkConflicts(ind))"
      ],
      "execution_count": null,
      "outputs": [
        {
          "output_type": "stream",
          "text": [
            ". . . . . . . Q\n",
            ". . . Q . . . .\n",
            ". . . . Q . . .\n",
            ". . . . . . Q .\n",
            "Q . . . . . . .\n",
            ". . . . . Q . .\n",
            ". Q . . . . . .\n",
            ". . Q . . . . .\n",
            "(5.0,)\n",
            ". . . . . . Q .\n",
            ". Q . . . . . .\n",
            ". . . . . Q . .\n",
            ". . Q . . . . .\n",
            ". . . . Q . . .\n",
            "Q . . . . . . .\n",
            ". . . . . . . Q\n",
            ". . . Q . . . .\n",
            "(2.0,)\n",
            ". . . Q . . . .\n",
            ". Q . . . . . .\n",
            ". . . . . . . Q\n",
            ". . Q . . . . .\n",
            ". . . . . . Q .\n",
            "Q . . . . . . .\n",
            ". . . . . Q . .\n",
            ". . . . Q . . .\n",
            "(3.0,)\n",
            ". . . . . . Q .\n",
            ". . . . Q . . .\n",
            ". . . . . Q . .\n",
            ". Q . . . . . .\n",
            ". . . Q . . . .\n",
            "Q . . . . . . .\n",
            ". . Q . . . . .\n",
            ". . . . . . . Q\n",
            "(3.0,)\n",
            ". . . . Q . . .\n",
            ". . . . . Q . .\n",
            ". . . Q . . . .\n",
            "Q . . . . . . .\n",
            ". . Q . . . . .\n",
            ". . . . . . . Q\n",
            ". Q . . . . . .\n",
            ". . . . . . Q .\n",
            "(2.0,)\n"
          ],
          "name": "stdout"
        }
      ]
    },
    {
      "cell_type": "markdown",
      "metadata": {
        "id": "oujNb5PlDPtx"
      },
      "source": [
        "Definim lungimea \"cromosomului\", a soluției. În formularea/reprezentarea folosită, fiecare piesă are o coordonată prestabilită, trebuie să codicăm doar a doua coordonată. "
      ]
    },
    {
      "cell_type": "code",
      "metadata": {
        "id": "ZHslyvErDpuw"
      },
      "source": [
        "NB_QUEENS = 8 # numarul pieselor\n",
        "IND_SIZE = NB_QUEENS * 1 # doar o singura coordonata"
      ],
      "execution_count": null,
      "outputs": []
    },
    {
      "cell_type": "markdown",
      "metadata": {
        "id": "b0I1Zbr9GiTv"
      },
      "source": [
        "Definim reprezenatrea soluțiilor, strategia de selecție și funcția fitness."
      ]
    },
    {
      "cell_type": "code",
      "metadata": {
        "colab": {
          "base_uri": "https://localhost:8080/"
        },
        "id": "B0Dq7T6XGhfJ",
        "outputId": "7866c9ec-7ebc-4e0c-8afb-394a60e6ad14"
      },
      "source": [
        "# dorim să minimizăm numărul conflictelor\n",
        "creator.create(\"FitnessMin\", base.Fitness, weights=(-1.0,))\n",
        "\n",
        "# reprezenatre - un șir de numere (ce formeaza o permutatie)\n",
        "creator.create(\"Individual\", list, fitness=creator.FitnessMin)\n",
        "toolbox = base.Toolbox()\n",
        "toolbox.register(\"permutation\", random.sample, range(IND_SIZE), IND_SIZE)\n",
        "\n",
        "toolbox.register(\"individual\", tools.initIterate, creator.Individual, toolbox.permutation)\n",
        "toolbox.register(\"population\", tools.initRepeat, list, toolbox.individual)\n",
        "\n",
        "toolbox.register(\"evaluate\", checkConflicts)\n",
        "\n",
        "# folosim operatori de variatie adecvate reprezentarii tip permutatie\n",
        "toolbox.register(\"mate\", tools.cxPartialyMatched)\n",
        "toolbox.register(\"mutate\", tools.mutShuffleIndexes, indpb=2.0/IND_SIZE)\n",
        "\n",
        "# selectie de tip turnir\n",
        "toolbox.register(\"select\", tools.selTournament, tournsize=4)"
      ],
      "execution_count": null,
      "outputs": [
        {
          "output_type": "stream",
          "text": [
            "/usr/local/lib/python3.7/dist-packages/deap/creator.py:141: RuntimeWarning: A class named 'FitnessMin' has already been created and it will be overwritten. Consider deleting previous creation of that class or rename it.\n",
            "  RuntimeWarning)\n",
            "/usr/local/lib/python3.7/dist-packages/deap/creator.py:141: RuntimeWarning: A class named 'Individual' has already been created and it will be overwritten. Consider deleting previous creation of that class or rename it.\n",
            "  RuntimeWarning)\n"
          ],
          "name": "stderr"
        }
      ]
    },
    {
      "cell_type": "markdown",
      "metadata": {
        "id": "h0Yau9ElSQ9V"
      },
      "source": [
        "Cu ajutorul modului `Statistics` putem genera (și afișa) statisticile aferente procesului de optimizare."
      ]
    },
    {
      "cell_type": "code",
      "metadata": {
        "id": "3GkK8xywSRnC"
      },
      "source": [
        "stats = tools.Statistics(lambda ind: ind.fitness.values)\n",
        "stats.register(\"avg\", np.mean)\n",
        "stats.register(\"std\", np.std)\n",
        "stats.register(\"min\", np.min)\n",
        "stats.register(\"max\", np.max)\n",
        "\n",
        "# reținem cele mai bune 10 soluții\n",
        "hof = tools.HallOfFame(10)"
      ],
      "execution_count": null,
      "outputs": []
    },
    {
      "cell_type": "code",
      "metadata": {
        "colab": {
          "base_uri": "https://localhost:8080/"
        },
        "id": "9HUQbu-WMWuF",
        "outputId": "5f97b865-f2f7-49fa-d254-e7bdbcb26a7a"
      },
      "source": [
        "pop = toolbox.population(n=100)\n",
        "\n",
        "# de data asta folosim o versiune cu selectie de tip generational (eaSimple)\n",
        "pop, logbook = algorithms.eaSimple(pop, toolbox, cxpb=0.5, mutpb=0.2, ngen=100, stats=stats,\n",
        "                        halloffame=hof, verbose=True)"
      ],
      "execution_count": null,
      "outputs": [
        {
          "output_type": "stream",
          "text": [
            "gen\tnevals\tavg \tstd    \tmin\tmax\n",
            "0  \t100   \t4.05\t1.43091\t1  \t8  \n",
            "1  \t52    \t3.04\t1.22409\t0  \t6  \n",
            "2  \t60    \t3.01\t1.46625\t0  \t7  \n",
            "3  \t50    \t2.37\t1.55342\t0  \t7  \n",
            "4  \t67    \t2.39\t1.47577\t0  \t5  \n",
            "5  \t63    \t2.32\t1.51578\t0  \t6  \n",
            "6  \t55    \t1.97\t1.4997 \t0  \t6  \n",
            "7  \t72    \t1.72\t1.57531\t0  \t6  \n",
            "8  \t55    \t1.23\t1.68437\t0  \t6  \n",
            "9  \t52    \t0.64\t1.36763\t0  \t5  \n",
            "10 \t51    \t0.38\t1.08425\t0  \t5  \n",
            "11 \t68    \t0.68\t1.34818\t0  \t5  \n",
            "12 \t59    \t0.97\t1.87326\t0  \t9  \n",
            "13 \t76    \t0.58\t1.4641 \t0  \t7  \n",
            "14 \t51    \t0.64\t1.41082\t0  \t6  \n",
            "15 \t53    \t0.49\t1.20412\t0  \t5  \n",
            "16 \t62    \t0.62\t1.26317\t0  \t4  \n",
            "17 \t68    \t0.59\t1.30457\t0  \t5  \n",
            "18 \t64    \t0.43\t1.13362\t0  \t5  \n",
            "19 \t55    \t0.5 \t1.22066\t0  \t5  \n",
            "20 \t66    \t0.58\t1.42955\t0  \t6  \n",
            "21 \t54    \t0.64\t1.41082\t0  \t6  \n",
            "22 \t69    \t0.52\t1.34521\t0  \t7  \n",
            "23 \t72    \t0.57\t1.36569\t0  \t6  \n",
            "24 \t56    \t0.5 \t1.27671\t0  \t7  \n",
            "25 \t61    \t0.44\t1.12534\t0  \t5  \n",
            "26 \t68    \t0.89\t1.73144\t0  \t6  \n",
            "27 \t74    \t0.58\t1.25841\t0  \t5  \n",
            "28 \t54    \t0.62\t1.30215\t0  \t6  \n",
            "29 \t51    \t0.52\t1.19566\t0  \t5  \n",
            "30 \t58    \t0.46\t1.21178\t0  \t6  \n",
            "31 \t47    \t0.34\t0.940425\t0  \t4  \n",
            "32 \t62    \t0.6 \t1.44222 \t0  \t6  \n",
            "33 \t59    \t0.59\t1.34235 \t0  \t5  \n",
            "34 \t64    \t0.61\t1.43454 \t0  \t6  \n",
            "35 \t42    \t0.31\t0.986864\t0  \t5  \n",
            "36 \t51    \t0.46\t1.1783  \t0  \t5  \n",
            "37 \t53    \t0.49\t1.19578 \t0  \t5  \n",
            "38 \t64    \t0.61\t1.31069 \t0  \t5  \n",
            "39 \t65    \t0.54\t1.27609 \t0  \t5  \n",
            "40 \t60    \t0.48\t1.16172 \t0  \t5  \n",
            "41 \t56    \t0.46\t1.26032 \t0  \t6  \n",
            "42 \t51    \t0.41\t1.0686  \t0  \t4  \n",
            "43 \t50    \t0.61\t1.29534 \t0  \t5  \n",
            "44 \t61    \t0.59\t1.32737 \t0  \t6  \n",
            "45 \t69    \t0.51\t1.20412 \t0  \t5  \n",
            "46 \t59    \t0.62\t1.40556 \t0  \t5  \n",
            "47 \t53    \t0.54\t1.39585 \t0  \t6  \n",
            "48 \t61    \t0.56\t1.40228 \t0  \t6  \n",
            "49 \t64    \t0.54\t1.29167 \t0  \t5  \n",
            "50 \t84    \t0.66\t1.33581 \t0  \t6  \n",
            "51 \t68    \t0.56\t1.17745 \t0  \t4  \n",
            "52 \t57    \t0.77\t1.53528 \t0  \t6  \n",
            "53 \t55    \t0.61\t1.48253 \t0  \t7  \n",
            "54 \t65    \t0.78\t1.52696 \t0  \t6  \n",
            "55 \t60    \t0.51\t1.24495 \t0  \t5  \n",
            "56 \t64    \t0.55\t1.29132 \t0  \t5  \n",
            "57 \t55    \t0.4 \t1.17473 \t0  \t6  \n",
            "58 \t50    \t0.66\t1.46438 \t0  \t6  \n",
            "59 \t62    \t0.43\t1.0794  \t0  \t4  \n",
            "60 \t61    \t0.8 \t1.67332 \t0  \t6  \n",
            "61 \t57    \t0.62\t1.17286 \t0  \t4  \n",
            "62 \t57    \t0.55\t1.11692 \t0  \t4  \n",
            "63 \t59    \t0.65\t1.37386 \t0  \t6  \n",
            "64 \t55    \t0.58\t1.40129 \t0  \t6  \n",
            "65 \t64    \t0.4 \t1.06771 \t0  \t5  \n",
            "66 \t54    \t0.52\t1.30752 \t0  \t5  \n",
            "67 \t59    \t0.77\t1.48899 \t0  \t6  \n",
            "68 \t58    \t0.76\t1.53049 \t0  \t5  \n",
            "69 \t62    \t0.59\t1.40068 \t0  \t5  \n",
            "70 \t67    \t0.58\t1.38694 \t0  \t6  \n",
            "71 \t43    \t0.45\t1.25996 \t0  \t5  \n",
            "72 \t58    \t0.54\t1.2839  \t0  \t6  \n",
            "73 \t57    \t0.34\t0.992169\t0  \t5  \n",
            "74 \t56    \t0.79\t1.55753 \t0  \t6  \n",
            "75 \t63    \t0.57\t1.21041 \t0  \t5  \n",
            "76 \t67    \t0.74\t1.47391 \t0  \t6  \n",
            "77 \t58    \t0.79\t1.55753 \t0  \t6  \n",
            "78 \t55    \t0.54\t1.29938 \t0  \t5  \n",
            "79 \t61    \t0.68\t1.59925 \t0  \t8  \n",
            "80 \t58    \t0.51\t1.20412 \t0  \t5  \n",
            "81 \t60    \t0.63\t1.3759  \t0  \t6  \n",
            "82 \t50    \t0.41\t1.11441 \t0  \t4  \n",
            "83 \t60    \t0.43\t1.27479 \t0  \t8  \n",
            "84 \t77    \t0.48\t1.29985 \t0  \t7  \n",
            "85 \t69    \t0.78\t1.55293 \t0  \t5  \n",
            "86 \t55    \t0.7 \t1.52643 \t0  \t6  \n",
            "87 \t59    \t0.49\t1.29996 \t0  \t5  \n",
            "88 \t57    \t0.62\t1.44069 \t0  \t6  \n",
            "89 \t60    \t0.48\t1.24483 \t0  \t5  \n",
            "90 \t63    \t0.5 \t1.18743 \t0  \t5  \n",
            "91 \t50    \t0.61\t1.39208 \t0  \t6  \n",
            "92 \t63    \t0.56\t1.30629 \t0  \t6  \n",
            "93 \t70    \t0.83\t1.53659 \t0  \t6  \n",
            "94 \t48    \t0.4 \t1.16619 \t0  \t5  \n",
            "95 \t51    \t0.46\t1.26032 \t0  \t6  \n",
            "96 \t68    \t0.73\t1.48899 \t0  \t5  \n",
            "97 \t79    \t0.52\t1.29985 \t0  \t6  \n",
            "98 \t58    \t0.51\t1.25296 \t0  \t5  \n",
            "99 \t69    \t0.79\t1.53815 \t0  \t6  \n",
            "100\t58    \t0.45\t1.19478 \t0  \t5  \n"
          ],
          "name": "stdout"
        }
      ]
    },
    {
      "cell_type": "markdown",
      "metadata": {
        "id": "c_5R_c4lS1V4"
      },
      "source": [
        "Afișsarea celor mai bune soluții:"
      ]
    },
    {
      "cell_type": "code",
      "metadata": {
        "colab": {
          "base_uri": "https://localhost:8080/"
        },
        "id": "zJ2cbMcmMeSu",
        "outputId": "90eea237-757e-4864-e32c-b45bb393dad7"
      },
      "source": [
        "for h in hof:\n",
        "  displayBoard(h)\n",
        "  print('Above configuration has the fitness: {}'.format(h.fitness))"
      ],
      "execution_count": null,
      "outputs": [
        {
          "output_type": "stream",
          "text": [
            ". . . . . Q . .\n",
            ". Q . . . . . .\n",
            ". . . . . . Q .\n",
            "Q . . . . . . .\n",
            ". . Q . . . . .\n",
            ". . . . Q . . .\n",
            ". . . . . . . Q\n",
            ". . . Q . . . .\n",
            "Above configuration has the fitness: (0.0,)\n",
            ". . . . Q . . .\n",
            ". Q . . . . . .\n",
            ". . . . . . . Q\n",
            "Q . . . . . . .\n",
            ". . . Q . . . .\n",
            ". . . . . . Q .\n",
            ". . Q . . . . .\n",
            ". . . . . Q . .\n",
            "Above configuration has the fitness: (0.0,)\n",
            ". . . . Q . . .\n",
            ". Q . . . . . .\n",
            ". . . . . Q . .\n",
            "Q . . . . . . .\n",
            ". . . . . . Q .\n",
            ". . . Q . . . .\n",
            ". . . . . . . Q\n",
            ". . Q . . . . .\n",
            "Above configuration has the fitness: (0.0,)\n",
            ". . Q . . . . .\n",
            "Q . . . . . . .\n",
            ". . . . . . Q .\n",
            ". Q . . . . . .\n",
            ". . . Q . . . .\n",
            ". . . . . Q . .\n",
            ". . . . . . . Q\n",
            ". . . . Q . . .\n",
            "Above configuration has the fitness: (1.0,)\n",
            "Q . . . . . . .\n",
            ". . . Q . . . .\n",
            ". . . . . . . Q\n",
            ". . Q . . . . .\n",
            ". . . . Q . . .\n",
            ". . . . . . Q .\n",
            ". Q . . . . . .\n",
            ". . . . . Q . .\n",
            "Above configuration has the fitness: (1.0,)\n",
            ". . . . . Q . .\n",
            ". Q . . . . . .\n",
            ". . . . Q . . .\n",
            "Q . . . . . . .\n",
            ". . . . . . Q .\n",
            ". . . Q . . . .\n",
            ". . . . . . . Q\n",
            ". . Q . . . . .\n",
            "Above configuration has the fitness: (1.0,)\n",
            ". Q . . . . . .\n",
            ". . . . . . Q .\n",
            ". . . . Q . . .\n",
            ". . Q . . . . .\n",
            ". . . . . . . Q\n",
            "Q . . . . . . .\n",
            ". . . Q . . . .\n",
            ". . . . . Q . .\n",
            "Above configuration has the fitness: (1.0,)\n",
            ". . . . Q . . .\n",
            ". Q . . . . . .\n",
            ". . . . . . . Q\n",
            ". . Q . . . . .\n",
            ". . . Q . . . .\n",
            ". . . . . . Q .\n",
            "Q . . . . . . .\n",
            ". . . . . Q . .\n",
            "Above configuration has the fitness: (1.0,)\n",
            ". . . . Q . . .\n",
            ". . . . . . . Q\n",
            ". Q . . . . . .\n",
            ". . . . . Q . .\n",
            ". . Q . . . . .\n",
            "Q . . . . . . .\n",
            ". . . . . . Q .\n",
            ". . . Q . . . .\n",
            "Above configuration has the fitness: (1.0,)\n",
            "Q . . . . . . .\n",
            ". . . . . . Q .\n",
            ". . . . Q . . .\n",
            ". . Q . . . . .\n",
            ". . . . . . . Q\n",
            ". . . . . Q . .\n",
            ". . . Q . . . .\n",
            ". Q . . . . . .\n",
            "Above configuration has the fitness: (1.0,)\n"
          ],
          "name": "stdout"
        }
      ]
    },
    {
      "cell_type": "markdown",
      "metadata": {
        "id": "o9l9p5k0VceB"
      },
      "source": [
        "# Exerciții\n",
        "\n",
        "1. Cum funcționează operatorii [`cxPartialyMatched`](https://www.hindawi.com/journals/cin/2017/7430125/) și [`mutShuffleIndexes`](https://deap.readthedocs.io/en/master/api/tools.html#deap.tools.mutShuffleIndexes) folosiți în exemplu?\n",
        "\n",
        "2. Ce operatori de încrucișare ar fi încă compatibile cu reprezentarea de tip permutație?\n",
        "\n",
        "3. În configurația curentă a metodei, până la ce număr de dame putem obține soluții optime în mod stabil (metoda găsește măcar o soluție optimă la fiecare 2-3 rulări)? \n",
        "\n",
        "4. Cu ce mărime de populație putem găsi soluțiile optime și penttru versiunea de problemă cu 32 de dame?\n",
        "\n",
        "5. Modificați rezolvarea problemei, trecând de la o reprezentare de tip permutație, la una de tip listă de coordonate  (`row`, `col` pt. fiecare piesă), unde algoritmul evolutiv va determina rândul și coloana pentru fiecare piesă (nu există  coordonate prestabilite). Cum afectează procesul de căutare, convergența metodei această reprezentare impropice?\n",
        "\n"
      ]
    },
    {
      "cell_type": "markdown",
      "metadata": {
        "id": "th_ybq8J06wO"
      },
      "source": [
        "csParialyMatched functioneaza ca operator de crossover pentru 2 parinti.\n",
        "folosind random cu 2 cutpoints(indexul cutpoint) - folosit ca separator\n",
        "\n",
        "Exemple:\n",
        "\n",
        "   P1 = (3 4 8 | 2 7 1 | 6 5)\n",
        "   --------------------------\n",
        "   P2 = (4 2 5 | 1 6 8 | 3 7)\n",
        "   --------------------------\n",
        "cutpointul este \" | \" \n",
        "mapare este facuta cu 2 cutpoints\n",
        "\n",
        "\n",
        "  P1 = (X X X | 1 6 8 | X X)\n",
        "  --------------------------\n",
        "  P2 = (X X X | 2 7 1 | X X) \n",
        "  --------------------------\n",
        "mapping 1 <> 2, 6<>7 si 8<>1\n",
        "input missing bits ( intre 2 cutpoints )\n",
        "\n",
        "\n",
        "  P1 = (3 4 X | 1 6 8 | X 5)\n",
        "  --------------------------\n",
        "  P2 = (4 X 5 | 2 7 1 | 3 X) \n",
        "  --------------------------\n",
        "Adaugare elemente lipsa. \n",
        "P1: se verifica valorile lipsa pentru elementul initial si se verifica ca ar trebui sa fie pus valoarea 8 dar aceasta deja exista. Prin urmare, se verifica maparea pentru 8, ar trebui sa punem valoarea 1 dar si aceasta exista. Se mai verifica o data si se vede ca pentru 1 punem valoarea 2. Cum 2 nu exista in sir => o valoare valida. Se repeta procesul pentru tot sirul si se trece la urmatorul, P2.\n",
        "\n",
        "\n",
        "Varianta finala va fi:\n",
        "\n",
        "  P1 = (3 4 2 | 1 6 8 | 7 5)\n",
        "  --------------------------\n",
        "  P2 = (4 8 5 | 2 7 1 | 3 6) \n",
        "  --------------------------"
      ]
    }
  ]
}
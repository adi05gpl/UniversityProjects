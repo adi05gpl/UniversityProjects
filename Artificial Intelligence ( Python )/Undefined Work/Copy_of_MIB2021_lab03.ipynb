{
  "nbformat": 4,
  "nbformat_minor": 0,
  "metadata": {
    "colab": {
      "name": "Copy of MIB2021-lab03",
      "provenance": [],
      "collapsed_sections": []
    },
    "kernelspec": {
      "name": "python3",
      "display_name": "Python 3"
    }
  },
  "cells": [
    {
      "cell_type": "markdown",
      "metadata": {
        "id": "Qbr__7rL5nyC"
      },
      "source": [
        "# Laborator 03.\n",
        "\n",
        "Optimizarea bazată pe gradient presupune că putem calcula prima (sau chiar a doua) derivată a funcției obiectiv. Sunt multe cazuri în nu putem calcula gradientul funcției, deoarece nici măcar nu cunoaștem sau dispunem de formularea analitică a funcției. În acestă scenariu de [\"cutie neagră\"](https://www.lix.polytechnique.fr/~dambrosio/blackbox_material/Cassioli_1.pdf) dispunem doar de o modalitate de a crea sau modifica intrările $x_1 \\dots x_d$ pentru funcția necunoscută, și de a observa rezultatul $y$ și \"calitatea\" acestuia, descris de o [funcție obiectiv](https://en.wikipedia.org/wiki/Loss_function) (denumit și fitness, funcție cost, energie etc.) $objFunc(y)$.\n",
        "\n",
        "![](https://www.researchgate.net/profile/Nacim_Belkhir/publication/322035981/figure/fig1/AS:574906124910592@1514079709331/black-box-Optimization.png)\n",
        "\n",
        "Fig. 1. Optimizare black-box.\n",
        "\n",
        "# Căutare locală, metode traiectorie\n",
        "\n",
        "[Căutare locală](https://en.wikipedia.org/wiki/Local_search_(optimization)) are ca scop găsirea soluției optime (ce minimizează sau maximizează funcția obiectiv) în [vecinătatea](https://en.wikipedia.org/wiki/Neighbourhood_(mathematics)) unei soluții inițiale $x$.\n",
        "\n",
        "Algoritmii de căutare locală se deplasează de la soluție la soluție în spațiul soluțiilor posibile (spațiul de căutare) prin aplicarea repetată a unor perturbări, modificări locale. Astfel, pe parcursul rulării, acești algoritmi descriu o \"traiectorie\" în spațiul de căutare. \n",
        "\n",
        "## Random Search\n",
        "\n",
        "Aceste [metode](https://en.wikipedia.org/wiki/Random_search) generează aleatoriu soluții din spațiul de căutare, și returnează aceea care obține evaluarea cea mai bună (conform fucției obiectiv). \n",
        "\n",
        "```\n",
        "t = 0;\n",
        "result = createNewSolution();\n",
        "evaluate(result);\n",
        "while notFinished(t) do\n",
        "    a = createNewSolution();\n",
        "    evaluate(a);\n",
        "    if a isBetterThan result then\n",
        "      result = a;\n",
        "    t = t+1;\n",
        "end_while\n",
        "```\n",
        "\n",
        "## Hill Climbing\n",
        "Este o familie de metode iterative ce realizează o căutare locală,\n",
        "denumită și Îmbunătățire iterativă ([Iterative Improvement](https://www.ocf.berkeley.edu/~shidi/cs61a/wiki/Iterative_improvement#:~:text=Iterative%20improvement%20is%20a%20technique,%3D%20update(guess)%20return%20guess)). Metoda printr-un operator de perturbație, modificare aleatorie actualizează-îmunătățește o soluție inițială, până când ajungem la soluția optimă (sau bugetul de timp alocat calculului, numărul maxim de încercări prestabilite este depășit).\n",
        "\n",
        "```\n",
        "t = 0;\n",
        "result = createNewSolution();\n",
        "evaluate(result);\n",
        "while notFinished(t) do\n",
        "    a = clone(result);\n",
        "    mutate(a);\n",
        "    evaluate(a);\n",
        "    if a isBetterThan result then\n",
        "      result = a;\n",
        "   t = t+1;\n",
        "end_while\n",
        "```\n",
        "\n",
        "\n",
        "Deseori se utilizează varianta iterată (Iterated Hill Climbing), în care algoritmul este repornit cu o soluție inițială nouă, pentru a mări gradul de explorare a spațiului de căutare."
      ]
    },
    {
      "cell_type": "markdown",
      "metadata": {
        "id": "SP3ToeLHFmmR"
      },
      "source": [
        "# Exerciții\n",
        "\n",
        "Vom încerca să ghicim o parolă (secvență de caractere presupus necunoscută) cu aceste metode."
      ]
    },
    {
      "cell_type": "code",
      "metadata": {
        "id": "NliJXOobcK2q"
      },
      "source": [
        "import random\n",
        "import numpy as np\n",
        "import datetime\n",
        "import matplotlib.pyplot as plt"
      ],
      "execution_count": null,
      "outputs": []
    },
    {
      "cell_type": "code",
      "metadata": {
        "id": "nu6m0opHewZo"
      },
      "source": [
        "random.seed(2001)"
      ],
      "execution_count": null,
      "outputs": []
    },
    {
      "cell_type": "code",
      "metadata": {
        "id": "MEXVKY4xexVl"
      },
      "source": [
        "alphabet = 'abcdefghijklmnopqrstuvwxyz0123456789'\n",
        "target = 'mib2021'\n",
        "target_length = len(target)"
      ],
      "execution_count": null,
      "outputs": []
    },
    {
      "cell_type": "markdown",
      "metadata": {
        "id": "y_wvx9NRGYhE"
      },
      "source": [
        "Avem nevoie de o metodă care să genereze aleatoriu dint-un alfabet, un șir de caractere de lungine specificată."
      ]
    },
    {
      "cell_type": "code",
      "metadata": {
        "id": "e1UP6RcIfCoQ"
      },
      "source": [
        "def generateRandomSolution(length, alphabet):\n",
        "    sol = random.choices(alphabet, k = length)\n",
        "    return ''.join(sol)"
      ],
      "execution_count": null,
      "outputs": []
    },
    {
      "cell_type": "markdown",
      "metadata": {
        "id": "uCH6qRldG0XR"
      },
      "source": [
        "Testarea funcției."
      ]
    },
    {
      "cell_type": "code",
      "metadata": {
        "colab": {
          "base_uri": "https://localhost:8080/"
        },
        "id": "DZxsmppjfXlZ",
        "outputId": "e93fae68-6154-443c-c9d2-2a42dc88583e"
      },
      "source": [
        "# generate random solutions of increasing lengths\n",
        "for i in range(2,10):\n",
        "  print(generateRandomSolution(i, alphabet))"
      ],
      "execution_count": null,
      "outputs": [
        {
          "output_type": "stream",
          "text": [
            "w6\n",
            "3tm\n",
            "r1j0\n",
            "2m1c5\n",
            "7qn3ln\n",
            "fgdhyc8\n",
            "hib26lcc\n",
            "0mva5ya2p\n"
          ],
          "name": "stdout"
        }
      ]
    },
    {
      "cell_type": "markdown",
      "metadata": {
        "id": "ZvhsygwiG3vm"
      },
      "source": [
        "Funcția obiectiv va specifica pentru o solțtie propusă, câte caractere se potrivesc, sunt la locul lor. "
      ]
    },
    {
      "cell_type": "code",
      "metadata": {
        "id": "Prd_Ap6Shf7T"
      },
      "source": [
        "def objFuncNumMatches(guess): # objective function, also called, fitness, energy etc.\n",
        "    return sum(1 for t, g in zip(target,guess) if t == g) # g = ce propunem , t- target  "
      ],
      "execution_count": null,
      "outputs": []
    },
    {
      "cell_type": "markdown",
      "metadata": {
        "id": "0tmbo4VeHU9O"
      },
      "source": [
        "Testarea funcției obiectiv."
      ]
    },
    {
      "cell_type": "code",
      "metadata": {
        "id": "D7TMOJXNny-8"
      },
      "source": [
        "# generate random solutions and calculate their \"fitness\" (objective function value that we are maximizing)\n",
        "for i in range(0,100):\n",
        "  ind = generateRandomSolution(target_length, alphabet)\n",
        "  fitness = objFuncNumMatches(ind)\n",
        "  print('Solutia {0} are fitness-ul de: {1}'.format(ind, fitness))"
      ],
      "execution_count": null,
      "outputs": []
    },
    {
      "cell_type": "markdown",
      "metadata": {
        "id": "1QSpaC1uHc33"
      },
      "source": [
        "## 1.\n",
        "Generați 10000000 de soluții și calculați calitatea acestora. \n",
        "\n",
        "- Care este timpul de rulare?\n",
        "- Care este distribuția valorilor de calitate? \n",
        "- Cât de des se potrivesc cel puțin 4 caractere?\n",
        "\n"
      ]
    },
    {
      "cell_type": "markdown",
      "metadata": {
        "id": "mRMJzlwMjvA7"
      },
      "source": [
        "### Răspuns\n",
        "........"
      ]
    },
    {
      "cell_type": "code",
      "metadata": {
        "id": "NJPpsXgVyY4c"
      },
      "source": [
        "# Pentru a vedea timpul de rulare\r\n",
        "import datetime "
      ],
      "execution_count": null,
      "outputs": []
    },
    {
      "cell_type": "code",
      "metadata": {
        "colab": {
          "base_uri": "https://localhost:8080/",
          "height": 316
        },
        "id": "2OB2dXcspIYo",
        "outputId": "2918be3e-44a1-4361-a693-e26dad2c33c2"
      },
      "source": [
        "hist = np.zeros(target_length)\n",
        "startTime = datetime.datetime.now()\n",
        "\n",
        "# TO DO generate and meassure solution's quality\n",
        "for i in range(0, 10000000):\n",
        "  ind = generateRandomSolution(target_length, alphabet)\n",
        "  fitness = objFuncNumMatches(ind)\n",
        "  hist[fitness] += 1\n",
        "endTime = datetime.datetime.now()\n",
        "\n",
        "print('Elapsed time: {0}'.format(str(endTime-startTime)))\n",
        "\n",
        "print(hist)\n",
        "plt.bar(range(0,target_length),hist)\n",
        "plt.yscale('log')"
      ],
      "execution_count": null,
      "outputs": [
        {
          "output_type": "stream",
          "text": [
            "Elapsed time: 0:00:45.740065\n",
            "[8.211027e+06 1.640655e+06 1.415220e+05 6.610000e+03 1.830000e+02\n",
            " 3.000000e+00 0.000000e+00]\n"
          ],
          "name": "stdout"
        },
        {
          "output_type": "display_data",
          "data": {
            "image/png": "[encoded data removed]",
            "text/plain": [
              "<Figure size 432x288 with 1 Axes>"
            ]
          },
          "metadata": {
            "tags": [],
            "needs_background": "light"
          }
        }
      ]
    },
    {
      "cell_type": "markdown",
      "metadata": {
        "id": "6FfI50pskKud"
      },
      "source": [
        "## 2.\n",
        "Implementați operatori de perturbație-modificare pentru o soluție în care:\n",
        "- Se schimbă un caracter, îm mod aleatoriu.\n",
        "- Caracterele sunt schimbate aleatoriu, cu o probabilitate specificată de utlizator."
      ]
    },
    {
      "cell_type": "code",
      "metadata": {
        "id": "7XdlkfjAkk13"
      },
      "source": [
        "# functie care face o perturbatie , schimba un caracter\n",
        "def randomSampleIndex(sol, index2Change):\n",
        "  mutateSol = list(sol)\n",
        "  mutateSol[index2Change] = random.sample(alphabet, 1)[0]\n",
        "  return ''.join(mutateSol)"
      ],
      "execution_count": null,
      "outputs": []
    },
    {
      "cell_type": "code",
      "metadata": {
        "id": "YakyXyppzHo1",
        "colab": {
          "base_uri": "https://localhost:8080/"
        },
        "outputId": "08d689d6-3065-41d8-b478-5134d4158942"
      },
      "source": [
        "# Pentru verificare metoda de mai sus \r\n",
        "ind = generateRandomSolution(target_length, alphabet)\r\n",
        "fitness = objFuncNumMatches(ind)\r\n",
        "mut = randomSampleIndex(ind, 0)\r\n",
        "print(ind)\r\n",
        "print(mut)"
      ],
      "execution_count": null,
      "outputs": [
        {
          "output_type": "stream",
          "text": [
            "721gulp\n",
            "j21gulp\n"
          ],
          "name": "stdout"
        }
      ]
    },
    {
      "cell_type": "code",
      "metadata": {
        "id": "jKxHa7k4kqL4"
      },
      "source": [
        "def mutateOneIndex(sol):\n",
        "  index2Change = random.randrange(0, len(sol))\n",
        "  return randomSampleIndex(sol,index2Change)"
      ],
      "execution_count": null,
      "outputs": []
    },
    {
      "cell_type": "code",
      "metadata": {
        "id": "vuShmhN5za-_",
        "colab": {
          "base_uri": "https://localhost:8080/"
        },
        "outputId": "938fc530-1b5f-4459-e86a-ab3ffa40f7aa"
      },
      "source": [
        "# Pentru verificare metoda de mai sus \r\n",
        "ind = generateRandomSolution(target_length, alphabet)\r\n",
        "mut = mutateOneIndex(ind)\r\n",
        "print(ind)\r\n",
        "print(mut)"
      ],
      "execution_count": null,
      "outputs": [
        {
          "output_type": "stream",
          "text": [
            "qkw2rxf\n",
            "qcw2rxf\n"
          ],
          "name": "stdout"
        }
      ]
    },
    {
      "cell_type": "code",
      "metadata": {
        "id": "KEDt6x86k2Qm"
      },
      "source": [
        "def mutateWithProb(sol, mutProb):\n",
        "  for index2Change in range(0, len(sol)):\n",
        "    if random.random() <= mutProb:\n",
        "      sol = randomSampleIndex(sol, index2Change)\n",
        "  return sol"
      ],
      "execution_count": null,
      "outputs": []
    },
    {
      "cell_type": "code",
      "metadata": {
        "id": "Idz5_Sgr0BCT",
        "colab": {
          "base_uri": "https://localhost:8080/"
        },
        "outputId": "8739aa2f-b5bb-496e-98d1-c082181c8e95"
      },
      "source": [
        "# Verificare solutie mutateWithProb\r\n",
        "ind = generateRandomSolution(target_length, alphabet)\r\n",
        "mut = mutateWithProb(ind, 0.1)\r\n",
        "\r\n",
        "print(ind)\r\n",
        "print(mut)"
      ],
      "execution_count": null,
      "outputs": [
        {
          "output_type": "stream",
          "text": [
            "pkyqmx9\n",
            "pkyqrx9\n"
          ],
          "name": "stdout"
        }
      ]
    },
    {
      "cell_type": "markdown",
      "metadata": {
        "id": "Yn7xkgGgilYQ"
      },
      "source": [
        "## 3.\n",
        " \n",
        "Implementați metodele 'hillClimber' și 'hillClimberSteepestAcent' prezentate la curs. \n",
        "\n",
        "- Care metodă și cu ce parametrizare are cele mai bune rezultate (pentru această problemă)?\n",
        "- Oare cum se explică diferența de performanță?\n",
        "- Pentru ce tipuri de probleme, rezultatul ar fi inversat (metoda mai slabă pe această problemă, să aibă o perfomranță mai bună)?"
      ]
    },
    {
      "cell_type": "markdown",
      "metadata": {
        "id": "b7w3DkUDj3Xz"
      },
      "source": [
        "### Răspuns\n",
        "Metoda mai rapida este HillClimber , se executa mai rapid si cu mai putine iteratii\n",
        "2. Diferenta se explica din punctul meu de vedere prin faptul ca trece prin fiecare caracter\n",
        "3. Probabil prin gasirea drumului optim , intre 2 puncte in care ne intereseaza cel mai rapid drum(sau drumul cu costul cel mai mic)"
      ]
    },
    {
      "cell_type": "code",
      "metadata": {
        "id": "mOSiHc9Sj1y4"
      },
      "source": [
        "def hillClimber(maxIterations = 10000, mutProb = 0.15):\n",
        "  result = generateRandomSolution(target_length, alphabet)\n",
        "  f = objFuncNumMatches(result)\n",
        "\n",
        "  for i in range(0, maxIterations):\n",
        "    # perturbam rezultatul partial\n",
        "    mut = mutateOneIndex(result)\n",
        "    fmut = objFuncNumMatches(mut)\n",
        "\n",
        "    if fmut > f:\n",
        "      f = fmut\n",
        "      result = mut\n",
        "\n",
        "    if f >= target_length:\n",
        "      break;\n",
        "    \n",
        "  return result, f, i"
      ],
      "execution_count": null,
      "outputs": []
    },
    {
      "cell_type": "code",
      "metadata": {
        "id": "YmGpITqC0RC-",
        "colab": {
          "base_uri": "https://localhost:8080/"
        },
        "outputId": "30c36e62-0a41-4f1d-f89e-7a783b72cb1d"
      },
      "source": [
        "startTime1 = datetime.datetime.now()\r\n",
        "s, f, iter = hillClimber(10000)\r\n",
        "endTime1 = datetime.datetime.now()\r\n",
        "print('Elapsed time: {0}'.format(str(endTime1-startTime1)))\r\n",
        "print(s)\r\n",
        "print(f)\r\n",
        "print(iter)"
      ],
      "execution_count": null,
      "outputs": [
        {
          "output_type": "stream",
          "text": [
            "Elapsed time: 0:00:00.005332\n",
            "mib2021\n",
            "7\n",
            "556\n"
          ],
          "name": "stdout"
        }
      ]
    },
    {
      "cell_type": "code",
      "metadata": {
        "id": "2-pNKMBNlAL_"
      },
      "source": [
        "def hillClimberSteepestAscent(maxIterations = 10000, mutProb = 0.05):\n",
        "  result = generateRandomSolution(target_length, alphabet)\n",
        "  f = objFuncNumMatches(result)\n",
        "  \n",
        "  for i in range(0, maxIterations):\n",
        "    # Generam MAI MULTe alternative din vecinatatea solutiei actuale - result\n",
        "    # Alegem alternativa cu cea mai mare imbunatatire adusa \n",
        "    # Daca depaseste calitatea solutiei actuale\n",
        "\n",
        "    # 2 variabile pentru a calcula maximum local\n",
        "    localResult = result\n",
        "    localf = f\n",
        "    for index2Change in range(0, target_length):\n",
        "      mut = randomSampleIndex(result, index2Change)\n",
        "      fmut = objFuncNumMatches(mut)\n",
        "      if fmut > localf:\n",
        "        localf = fmut\n",
        "        localResult = mut\n",
        "\n",
        "      if localf > f:\n",
        "        f = localf\n",
        "        result = localResult\n",
        "      \n",
        "      if f >= target_length:\n",
        "        break;\n",
        "\n",
        "    \n",
        "  return result, f, i"
      ],
      "execution_count": null,
      "outputs": []
    },
    {
      "cell_type": "code",
      "metadata": {
        "id": "Zs5ot4HH0upm",
        "colab": {
          "base_uri": "https://localhost:8080/"
        },
        "outputId": "899514b8-9a5d-49b5-a553-323405bc9ab5"
      },
      "source": [
        "startTime = datetime.datetime.now()\r\n",
        "s, f, iter = hillClimberSteepestAscent(10000, 0.15)\r\n",
        "endTime = datetime.datetime.now()\r\n",
        "print('Elapsed time: {0}'.format(str(endTime-startTime)))\r\n",
        "print(s)\r\n",
        "print(f)\r\n",
        "print(iter)"
      ],
      "execution_count": null,
      "outputs": [
        {
          "output_type": "stream",
          "text": [
            "Elapsed time: 0:00:00.067575\n",
            "mib2021\n",
            "7\n",
            "9999\n"
          ],
          "name": "stdout"
        }
      ]
    }
  ]
}
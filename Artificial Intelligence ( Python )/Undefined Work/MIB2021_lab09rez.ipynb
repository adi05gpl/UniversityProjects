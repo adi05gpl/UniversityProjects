{
  "nbformat": 4,
  "nbformat_minor": 0,
  "metadata": {
    "colab": {
      "name": "MIB2021-lab09rez.ipynb",
      "provenance": [],
      "collapsed_sections": []
    },
    "kernelspec": {
      "name": "python3",
      "display_name": "Python 3"
    }
  },
  "cells": [
    {
      "cell_type": "markdown",
      "metadata": {
        "id": "KcdaVkF95nsu"
      },
      "source": [
        "# Laborator 09\n",
        "\n",
        "În cadrul laboratorului vom studia cum pot fi utilizați algoritmii evolutivi pentru a approxima necunoscutele într-un sistem de ecuații liniare.\n",
        "\n",
        "Începem prin instalarea DEAP, folosid comanda `pip install`:"
      ]
    },
    {
      "cell_type": "code",
      "metadata": {
        "colab": {
          "base_uri": "https://localhost:8080/"
        },
        "id": "xLccJUg_5kON",
        "outputId": "e560dd58-9cbc-44f2-9341-d25e37f02cb0"
      },
      "source": [
        "!pip install deap"
      ],
      "execution_count": null,
      "outputs": [
        {
          "output_type": "stream",
          "text": [
            "Collecting deap\n",
            "\u001b[?25l  Downloading https://files.pythonhosted.org/packages/99/d1/803c7a387d8a7e6866160b1541307f88d534da4291572fb32f69d2548afb/deap-1.3.1-cp37-cp37m-manylinux2010_x86_64.whl (157kB)\n",
            "\r\u001b[K     |██                              | 10kB 13.0MB/s eta 0:00:01\r\u001b[K     |████▏                           | 20kB 8.3MB/s eta 0:00:01\r\u001b[K     |██████▏                         | 30kB 7.7MB/s eta 0:00:01\r\u001b[K     |████████▎                       | 40kB 7.3MB/s eta 0:00:01\r\u001b[K     |██████████▍                     | 51kB 4.3MB/s eta 0:00:01\r\u001b[K     |████████████▍                   | 61kB 4.8MB/s eta 0:00:01\r\u001b[K     |██████████████▌                 | 71kB 4.9MB/s eta 0:00:01\r\u001b[K     |████████████████▋               | 81kB 5.1MB/s eta 0:00:01\r\u001b[K     |██████████████████▋             | 92kB 5.5MB/s eta 0:00:01\r\u001b[K     |████████████████████▊           | 102kB 5.4MB/s eta 0:00:01\r\u001b[K     |██████████████████████▉         | 112kB 5.4MB/s eta 0:00:01\r\u001b[K     |████████████████████████▉       | 122kB 5.4MB/s eta 0:00:01\r\u001b[K     |███████████████████████████     | 133kB 5.4MB/s eta 0:00:01\r\u001b[K     |█████████████████████████████   | 143kB 5.4MB/s eta 0:00:01\r\u001b[K     |███████████████████████████████ | 153kB 5.4MB/s eta 0:00:01\r\u001b[K     |████████████████████████████████| 163kB 5.4MB/s \n",
            "\u001b[?25hRequirement already satisfied: numpy in /usr/local/lib/python3.7/dist-packages (from deap) (1.19.5)\n",
            "Installing collected packages: deap\n",
            "Successfully installed deap-1.3.1\n"
          ],
          "name": "stdout"
        }
      ]
    },
    {
      "cell_type": "markdown",
      "metadata": {
        "id": "tIjzi_PWAhZN"
      },
      "source": [
        "Importarea componentelor și librăriilor principale:"
      ]
    },
    {
      "cell_type": "code",
      "metadata": {
        "id": "Oe-ownsTAgoZ"
      },
      "source": [
        "from deap import algorithms\n",
        "from deap import base\n",
        "from deap import creator\n",
        "from deap import tools\n",
        "\n",
        "import numpy as np\n",
        "import random\n",
        "import array"
      ],
      "execution_count": null,
      "outputs": []
    },
    {
      "cell_type": "markdown",
      "metadata": {
        "id": "YR0Hgy8FA-Yg"
      },
      "source": [
        "# Sistem de două ecuații cu două necuoscute \n",
        "\n",
        "Fie sistemul de ecuații lineare: \n",
        "\n",
        "$\\begin{cases} x + 2y = 4 \\\\ 4x + 4y = 12 \\end{cases}$\n",
        "\n",
        "Avem nevoie de o funcție, care pentru niște valori presupuse, evaluează eroarea (diferența dintre valoarea reală și approximație:"
      ]
    },
    {
      "cell_type": "code",
      "metadata": {
        "id": "hA8edSwOAcNX"
      },
      "source": [
        "def error(genes):\n",
        "  x = genes[0] \n",
        "  y = genes[1]\n",
        "  err1 = x + 2 * y - 4\n",
        "  err2 = 4 * x + 4 * y - 12\n",
        "  totalErr = abs(err1) + abs(err2)\n",
        "  return totalErr, \n",
        "  #pentru ca va fi folosita ca functie fitness, rezultatul returnat trebuie sa fie iterabil \n",
        "  #chiar daca avem o singura valoare, punem si o virgula"
      ],
      "execution_count": null,
      "outputs": []
    },
    {
      "cell_type": "markdown",
      "metadata": {
        "id": "BVVJ6E6VB6kG"
      },
      "source": [
        "Testare:"
      ]
    },
    {
      "cell_type": "code",
      "metadata": {
        "colab": {
          "base_uri": "https://localhost:8080/"
        },
        "id": "VuqecKlEB9fi",
        "outputId": "b44578fa-34a7-4c1f-8835-68b626e5dad8"
      },
      "source": [
        "print(error([0,0]))\n",
        "print(error([1,2]))\n",
        "print(error([2,1]))"
      ],
      "execution_count": null,
      "outputs": [
        {
          "output_type": "stream",
          "text": [
            "(16,)\n",
            "(1,)\n",
            "(0,)\n"
          ],
          "name": "stdout"
        }
      ]
    },
    {
      "cell_type": "markdown",
      "metadata": {
        "id": "b0I1Zbr9GiTv"
      },
      "source": [
        "Într-un prim pas, definim reprezenatrea soluțiilor, strategia de selecție și funcția fitness."
      ]
    },
    {
      "cell_type": "code",
      "metadata": {
        "colab": {
          "base_uri": "https://localhost:8080/"
        },
        "id": "B0Dq7T6XGhfJ",
        "outputId": "1953eb0c-e457-4f57-8f0c-51c28d363d52"
      },
      "source": [
        "# dorim să minimizăm funcția erroare\n",
        "creator.create(\"FitnessMin\", base.Fitness, weights=(-1.0,))\n",
        "\n",
        "# reprezenatre - un șir (array) de numere reale (double)\n",
        "creator.create(\"Individual\", array.array, typecode=\"d\", fitness=creator.FitnessMin, strategy=None)\n",
        "creator.create(\"Strategy\", array.array, typecode=\"d\")"
      ],
      "execution_count": null,
      "outputs": [
        {
          "output_type": "stream",
          "text": [
            "/usr/local/lib/python3.7/dist-packages/deap/creator.py:141: RuntimeWarning: A class named 'FitnessMin' has already been created and it will be overwritten. Consider deleting previous creation of that class or rename it.\n",
            "  RuntimeWarning)\n",
            "/usr/local/lib/python3.7/dist-packages/deap/creator.py:141: RuntimeWarning: A class named 'Individual' has already been created and it will be overwritten. Consider deleting previous creation of that class or rename it.\n",
            "  RuntimeWarning)\n",
            "/usr/local/lib/python3.7/dist-packages/deap/creator.py:141: RuntimeWarning: A class named 'Strategy' has already been created and it will be overwritten. Consider deleting previous creation of that class or rename it.\n",
            "  RuntimeWarning)\n"
          ],
          "name": "stderr"
        }
      ]
    },
    {
      "cell_type": "markdown",
      "metadata": {
        "id": "oujNb5PlDPtx"
      },
      "source": [
        "Definim lungimea \"cromosomului\", a soluției. Pentru exemplul actual $x, y$, 2 numere reale:"
      ]
    },
    {
      "cell_type": "code",
      "metadata": {
        "id": "ZHslyvErDpuw"
      },
      "source": [
        "IND_SIZE = 2"
      ],
      "execution_count": null,
      "outputs": []
    },
    {
      "cell_type": "markdown",
      "metadata": {
        "id": "effEIL-4H5wM"
      },
      "source": [
        "Definim funcțiile ce facilitează utilizarea reprezentării alese pentru a genera indivizi (în algoritmul evolutiv) și a forma o populație. "
      ]
    },
    {
      "cell_type": "code",
      "metadata": {
        "id": "j9OQ8PmnFZUD"
      },
      "source": [
        "def generateES(individual, strategy, size):\n",
        "    ind = individual(np.random.normal() for _ in range(size))\n",
        "    ind.strategy = strategy(np.random.normal() for _ in range(size))\n",
        "    return ind\n",
        "\n",
        "toolbox = base.Toolbox()\n",
        "\n",
        "# functii pt. generarea indivizilor si a populatiei\n",
        "toolbox.register(\"individual\", generateES, creator.Individual, creator.Strategy, IND_SIZE)\n",
        "toolbox.register(\"population\", tools.initRepeat, list, toolbox.individual)"
      ],
      "execution_count": null,
      "outputs": []
    },
    {
      "cell_type": "markdown",
      "metadata": {
        "id": "jjqL0kZHR-Tf"
      },
      "source": [
        "Parametrizăm algoritmul, spețificând operatorii predefiniți pe care dorim să îi foolosim: https://deap.readthedocs.io/en/master/api/algo.html"
      ]
    },
    {
      "cell_type": "code",
      "metadata": {
        "id": "dFZdXF9pK0F1"
      },
      "source": [
        "# parametrii pt. alg algorithms.eaMuCommaLambda\n",
        "\n",
        "toolbox.register(\"evaluate\", error)\n",
        "\n",
        "toolbox.register(\"mate\", tools.cxESBlend, alpha=0.1)\n",
        "toolbox.register(\"mutate\", tools.mutESLogNormal, c=1.0, indpb=0.3)\n",
        "toolbox.register(\"select\", tools.selTournament, tournsize=4)"
      ],
      "execution_count": null,
      "outputs": []
    },
    {
      "cell_type": "markdown",
      "metadata": {
        "id": "h0Yau9ElSQ9V"
      },
      "source": [
        "Cu ajutorul modului `Statistics` putem genera statisticile (și afișsa) aferente prodesului de optimizare."
      ]
    },
    {
      "cell_type": "code",
      "metadata": {
        "id": "3GkK8xywSRnC"
      },
      "source": [
        "stats = tools.Statistics(lambda ind: ind.fitness.values)\n",
        "stats.register(\"avg\", np.mean)\n",
        "stats.register(\"std\", np.std)\n",
        "stats.register(\"min\", np.min)\n",
        "stats.register(\"max\", np.max)\n",
        "\n",
        "# reținem cele mai bune 10 soluții\n",
        "hof = tools.HallOfFame(10)"
      ],
      "execution_count": null,
      "outputs": []
    },
    {
      "cell_type": "code",
      "metadata": {
        "colab": {
          "base_uri": "https://localhost:8080/"
        },
        "id": "9HUQbu-WMWuF",
        "outputId": "8d66613b-c4f6-4ff5-abe4-da530f09d1e2"
      },
      "source": [
        "pop = toolbox.population(n=100)\n",
        "\n",
        "pop, logbook = algorithms.eaMuCommaLambda(pop, toolbox, mu=100, lambda_=200, \n",
        "            cxpb=0.6, mutpb=0.2, ngen=100, stats=stats, halloffame=hof, verbose=True)"
      ],
      "execution_count": null,
      "outputs": [
        {
          "output_type": "stream",
          "text": [
            "gen\tnevals\tavg    \tstd    \tmin    \tmax    \n",
            "0  \t100   \t16.8139\t7.72415\t1.45137\t32.9762\n",
            "1  \t164   \t10.0517\t4.40583\t1.01326\t21.8522\n",
            "2  \t155   \t6.0827 \t2.62817\t0.274307\t12.0913\n",
            "3  \t151   \t3.07223\t1.71604\t0.508477\t8.72251\n",
            "4  \t151   \t1.49164\t0.854447\t0.407305\t4.6175 \n",
            "5  \t153   \t0.786355\t0.448558\t0.166141\t2.5176 \n",
            "6  \t161   \t0.48765 \t0.175657\t0.166141\t1.09117\n",
            "7  \t160   \t0.344442\t0.0889232\t0.166141\t0.634781\n",
            "8  \t157   \t0.286726\t0.0490464\t0.178843\t0.469366\n",
            "9  \t161   \t0.242109\t0.0502047\t0.168423\t0.434055\n",
            "10 \t148   \t0.218548\t0.0382467\t0.17351 \t0.382836\n",
            "11 \t163   \t0.201177\t0.0312854\t0.170973\t0.334853\n",
            "12 \t158   \t0.178435\t0.00943072\t0.16601 \t0.223744\n",
            "13 \t156   \t0.172507\t0.00341392\t0.165259\t0.196071\n",
            "14 \t151   \t0.170369\t0.00245236\t0.164841\t0.176428\n",
            "15 \t156   \t0.169521\t0.00257599\t0.164841\t0.174863\n",
            "16 \t163   \t0.167984\t0.00244201\t0.164841\t0.171885\n",
            "17 \t158   \t0.166172\t0.00157642\t0.164481\t0.172864\n",
            "18 \t171   \t0.165121\t0.000661757\t0.164084\t0.167354\n",
            "19 \t154   \t0.164631\t0.000259648\t0.164187\t0.165357\n",
            "20 \t159   \t0.164511\t0.00020318 \t0.163899\t0.165118\n",
            "21 \t163   \t0.164405\t0.000165134\t0.164058\t0.16492 \n",
            "22 \t153   \t0.16425 \t0.000113983\t0.163964\t0.164579\n",
            "23 \t154   \t0.164124\t8.28952e-05\t0.163964\t0.164296\n",
            "24 \t166   \t0.164067\t6.00948e-05\t0.163911\t0.164226\n",
            "25 \t166   \t0.164003\t5.52038e-05\t0.163895\t0.164136\n",
            "26 \t156   \t0.16395 \t3.85719e-05\t0.163886\t0.164084\n",
            "27 \t158   \t0.16392 \t2.20526e-05\t0.163887\t0.163982\n",
            "28 \t154   \t0.163901\t1.53263e-05\t0.163883\t0.163946\n",
            "29 \t157   \t0.163887\t6.00918e-06\t0.163876\t0.163908\n",
            "30 \t155   \t0.163881\t3.57977e-06\t0.163876\t0.163891\n",
            "31 \t168   \t0.163878\t1.6347e-06 \t0.163876\t0.163884\n",
            "32 \t160   \t0.163877\t7.61715e-07\t0.163876\t0.16388 \n",
            "33 \t160   \t0.163877\t4.0866e-07 \t0.163876\t0.163878\n",
            "34 \t151   \t0.163876\t2.54162e-07\t0.163876\t0.163877\n",
            "35 \t160   \t0.163876\t1.68012e-07\t0.163876\t0.163877\n",
            "36 \t169   \t0.163876\t1.08372e-07\t0.163876\t0.163876\n",
            "37 \t158   \t0.163876\t9.50327e-08\t0.163876\t0.163876\n",
            "38 \t155   \t0.163876\t5.31871e-08\t0.163876\t0.163876\n",
            "39 \t161   \t0.163876\t2.70691e-08\t0.163876\t0.163876\n",
            "40 \t161   \t0.163876\t1.6644e-08 \t0.163876\t0.163876\n",
            "41 \t164   \t0.163876\t1.2261e-08 \t0.163876\t0.163876\n",
            "42 \t154   \t0.163876\t4.63744e-09\t0.163876\t0.163876\n",
            "43 \t158   \t0.163876\t1.23385e-09\t0.163876\t0.163876\n",
            "44 \t166   \t0.163876\t3.90403e-10\t0.163876\t0.163876\n",
            "45 \t168   \t0.163876\t7.76599e-11\t0.163876\t0.163876\n",
            "46 \t166   \t0.163876\t6.25874e-11\t0.163876\t0.163876\n",
            "47 \t152   \t0.163876\t4.94722e-11\t0.163876\t0.163876\n",
            "48 \t165   \t0.163882\t6.5352e-05 \t0.163876\t0.164533\n",
            "49 \t158   \t0.163041\t0.00408805 \t0.143014\t0.163876\n",
            "50 \t165   \t0.162011\t0.00569487 \t0.143014\t0.163876\n",
            "51 \t167   \t0.154631\t0.026626   \t0.0575234\t0.163876\n",
            "52 \t161   \t0.138038\t0.0418079  \t0.0588031\t0.25203 \n",
            "53 \t152   \t0.1183  \t0.0448631  \t0.0486963\t0.233985\n",
            "54 \t167   \t0.0844198\t0.0342768  \t0.0380393\t0.203909\n",
            "55 \t166   \t0.0632244\t0.0181567  \t0.0380393\t0.131658\n",
            "56 \t162   \t0.0506942\t0.00849602 \t0.0259073\t0.0706745\n",
            "57 \t160   \t0.0440365\t0.00642192 \t0.0259073\t0.0630191\n",
            "58 \t152   \t0.0396616\t0.00509654 \t0.0259073\t0.0483377\n",
            "59 \t154   \t0.0372154\t0.00433919 \t0.0259073\t0.0436627\n",
            "60 \t156   \t0.0338168\t0.00443963 \t0.0256726\t0.0439596\n",
            "61 \t169   \t0.0309509\t0.00357034 \t0.0256566\t0.04007  \n",
            "62 \t160   \t0.0278251\t0.00234979 \t0.0256566\t0.0340593\n",
            "63 \t156   \t0.0262165\t0.000921018\t0.0252964\t0.0305273\n",
            "64 \t159   \t0.0254771\t0.000353418\t0.0248408\t0.0274705\n",
            "65 \t162   \t0.0251785\t0.000226196\t0.0247753\t0.0257918\n",
            "66 \t155   \t0.0249982\t0.000140335\t0.0247549\t0.0254044\n",
            "67 \t171   \t0.0248736\t6.8754e-05 \t0.0247549\t0.0250976\n",
            "68 \t163   \t0.0248151\t4.37286e-05\t0.0247542\t0.0249295\n",
            "69 \t160   \t0.0247783\t2.5191e-05 \t0.0247542\t0.0248683\n",
            "70 \t166   \t0.0247618\t1.11197e-05\t0.0247517\t0.0248113\n",
            "71 \t157   \t0.0247549\t3.75568e-06\t0.0247498\t0.0247751\n",
            "72 \t150   \t0.0247526\t1.92407e-06\t0.0247483\t0.0247581\n",
            "73 \t164   \t0.0247514\t2.12171e-06\t0.0247481\t0.0247598\n",
            "74 \t152   \t0.0247497\t1.31818e-06\t0.0247476\t0.0247548\n",
            "75 \t167   \t0.0247484\t5.99706e-07\t0.0247476\t0.0247504\n",
            "76 \t163   \t0.0247479\t3.30336e-07\t0.0247476\t0.0247491\n",
            "77 \t172   \t0.0247477\t1.4129e-07 \t0.0247475\t0.0247482\n",
            "78 \t169   \t0.0247476\t3.76085e-08\t0.0247475\t0.0247478\n",
            "79 \t159   \t0.0247476\t1.34915e-08\t0.0247475\t0.0247476\n",
            "80 \t166   \t0.0247475\t6.94365e-09\t0.0247475\t0.0247476\n",
            "81 \t158   \t0.0247475\t4.19469e-09\t0.0247475\t0.0247475\n",
            "82 \t169   \t0.0247475\t2.63577e-09\t0.0247475\t0.0247475\n",
            "83 \t163   \t0.0247475\t1.71718e-09\t0.0247475\t0.0247475\n",
            "84 \t159   \t0.0247475\t9.89346e-10\t0.0247475\t0.0247475\n",
            "85 \t167   \t0.0247475\t5.16904e-10\t0.0247475\t0.0247475\n",
            "86 \t159   \t0.0247475\t2.33291e-10\t0.0247475\t0.0247475\n",
            "87 \t153   \t0.0247475\t1.23717e-10\t0.0247475\t0.0247475\n",
            "88 \t155   \t0.0247475\t7.01441e-11\t0.0247475\t0.0247475\n",
            "89 \t159   \t0.0247475\t6.28063e-11\t0.0247475\t0.0247475\n",
            "90 \t169   \t0.0247475\t5.44161e-11\t0.0247475\t0.0247475\n",
            "91 \t161   \t0.0247475\t3.29051e-11\t0.0247475\t0.0247475\n",
            "92 \t161   \t0.0247475\t2.16245e-11\t0.0247475\t0.0247475\n",
            "93 \t156   \t0.0247475\t6.31658e-12\t0.0247475\t0.0247475\n",
            "94 \t162   \t0.0247475\t2.60683e-12\t0.0247475\t0.0247475\n",
            "95 \t152   \t0.0247475\t1.84386e-12\t0.0247475\t0.0247475\n",
            "96 \t162   \t0.0247475\t1.44099e-12\t0.0247475\t0.0247475\n",
            "97 \t156   \t0.0247475\t6.0162e-13 \t0.0247475\t0.0247475\n",
            "98 \t161   \t0.0247475\t3.61045e-13\t0.0247475\t0.0247475\n",
            "99 \t154   \t0.0247475\t1.04279e-13\t0.0247475\t0.0247475\n",
            "100\t155   \t0.0247475\t7.92071e-14\t0.0247475\t0.0247475\n"
          ],
          "name": "stdout"
        }
      ]
    },
    {
      "cell_type": "markdown",
      "metadata": {
        "id": "c_5R_c4lS1V4"
      },
      "source": [
        "Afișsarea celor mai bune soluții:"
      ]
    },
    {
      "cell_type": "code",
      "metadata": {
        "colab": {
          "base_uri": "https://localhost:8080/"
        },
        "id": "zJ2cbMcmMeSu",
        "outputId": "25a7ccc1-fd78-4f82-b13b-91aa1572f0d3"
      },
      "source": [
        "for h in hof:\n",
        "  print('Solution [x={}, y={}]  has fitness {}'.format(h[0], h[1], h.fitness))"
      ],
      "execution_count": null,
      "outputs": [
        {
          "output_type": "stream",
          "text": [
            "Solution [x=2.003184615127936, y=0.9968153848720639]  has fitness (0.003184615127936219,)\n",
            "Solution [x=2.003184615127936, y=0.9968153848720638]  has fitness (0.003184615127936219,)\n",
            "Solution [x=2.003184615127936, y=0.9968153848720637]  has fitness (0.003184615127936219,)\n",
            "Solution [x=2.0031846151279367, y=0.9968153848720634]  has fitness (0.003184615127936219,)\n",
            "Solution [x=2.0031846151279367, y=0.9968153848720636]  has fitness (0.003184615127936219,)\n",
            "Solution [x=2.003184615127937, y=0.9968153848720631]  has fitness (0.003184615127936663,)\n",
            "Solution [x=2.0031846151279367, y=0.9968153848720633]  has fitness (0.003184615127936663,)\n",
            "Solution [x=2.003184615127936, y=0.9968153848720636]  has fitness (0.003184615127936663,)\n",
            "Solution [x=2.003184615127937, y=0.9968153848720628]  has fitness (0.003184615127937107,)\n",
            "Solution [x=2.003184615127937, y=0.9968153848720629]  has fitness (0.003184615127937107,)\n"
          ],
          "name": "stdout"
        }
      ]
    },
    {
      "cell_type": "markdown",
      "metadata": {
        "id": "o9l9p5k0VceB"
      },
      "source": [
        "# Exerciții\n",
        "\n",
        "1. Approximați (folosind un algoritm evolutiv) soluțiile sistemelor de ecuații:\n",
        "\n",
        "  a)  $\\begin{cases} 2x + y - 2z = -1 \\\\ 3x - 3y -z = 5  \\\\ x  - 2y + 3z = 6 \\end{cases}$\n",
        "\n",
        "  b)  $\\begin{cases} x + y +z = 7 \\\\ 3x - 2y -z = 4  \\\\ x  + 6y + 5z = 24 \\end{cases}$\n",
        "\n",
        "\n",
        "2. Generalizați procesul de approximare astfel încât să putem rezolva sisteme lineare de ecuații cu un număr arbitrar de variabile. Observați, cum numărul de variabile și ecuații este egal cu `sqrt(len(genes))`: pentru 2 variabile și 2 ecuații `len(genes) = 4`, pentru  3 variabile și 3 ecuații `len(genes) = 9`,  `k` variabile și `k` ecuații `len(genes) = k*k`. \n",
        "\n"
      ]
    },
    {
      "cell_type": "code",
      "metadata": {
        "id": "Cq-P8ctPzZ88"
      },
      "source": [
        "def err1(genes):\n",
        "  x = genes[0] \n",
        "  y = genes[1]\n",
        "  z = genes[2]\n",
        "  errX = 2* x  +  y  - 2 * z + 1\n",
        "  errY = 3 * x - 3 * y - z - 5\n",
        "  errZ = 3 * x - 3 * y - z - 5"
      ],
      "execution_count": 2,
      "outputs": []
    },
    {
      "cell_type": "code",
      "metadata": {
        "id": "yqypJrOczdz2",
        "outputId": "c9fcec81-c371-4a4f-f9bc-e16d4adc7871",
        "colab": {
          "base_uri": "https://localhost:8080/",
          "height": 214
        }
      },
      "source": [
        "  totalErr = abs(errX) + abs(errY) + abs(errZ)\n",
        "  return totalErr \n",
        "  #pentru ca va fi folosita ca functie fitness, rezultatul returnat trebuie sa fie iterabil \n",
        "  #chiar daca avem o singura valoare, punem si o virgula"
      ],
      "execution_count": 8,
      "outputs": [
        {
          "output_type": "error",
          "ename": "NameError",
          "evalue": "ignored",
          "traceback": [
            "\u001b[0;31m---------------------------------------------------------------------------\u001b[0m",
            "\u001b[0;31mNameError\u001b[0m                                 Traceback (most recent call last)",
            "\u001b[0;32m<ipython-input-8-97a08c8db5bd>\u001b[0m in \u001b[0;36m<module>\u001b[0;34m()\u001b[0m\n\u001b[0;32m----> 1\u001b[0;31m \u001b[0mtotalErr\u001b[0m \u001b[0;34m=\u001b[0m \u001b[0mabs\u001b[0m\u001b[0;34m(\u001b[0m\u001b[0merrX\u001b[0m\u001b[0;34m)\u001b[0m \u001b[0;34m+\u001b[0m \u001b[0mabs\u001b[0m\u001b[0;34m(\u001b[0m\u001b[0merrY\u001b[0m\u001b[0;34m)\u001b[0m \u001b[0;34m+\u001b[0m \u001b[0mabs\u001b[0m\u001b[0;34m(\u001b[0m\u001b[0merrZ\u001b[0m\u001b[0;34m)\u001b[0m\u001b[0;34m\u001b[0m\u001b[0;34m\u001b[0m\u001b[0m\n\u001b[0m\u001b[1;32m      2\u001b[0m \u001b[0;32mreturn\u001b[0m \u001b[0mtotalErr\u001b[0m\u001b[0;34m\u001b[0m\u001b[0;34m\u001b[0m\u001b[0m\n\u001b[1;32m      3\u001b[0m \u001b[0;31m#pentru ca va fi folosita ca functie fitness, rezultatul returnat trebuie sa fie iterabil\u001b[0m\u001b[0;34m\u001b[0m\u001b[0;34m\u001b[0m\u001b[0;34m\u001b[0m\u001b[0m\n\u001b[1;32m      4\u001b[0m \u001b[0;31m#chiar daca avem o singura valoare, punem si o virgula\u001b[0m\u001b[0;34m\u001b[0m\u001b[0;34m\u001b[0m\u001b[0;34m\u001b[0m\u001b[0m\n",
            "\u001b[0;31mNameError\u001b[0m: name 'errX' is not defined"
          ]
        }
      ]
    },
    {
      "cell_type": "code",
      "metadata": {
        "id": "8guSp-enzh5X",
        "outputId": "dd186e23-21c0-490f-9c69-572d34479ee5",
        "colab": {
          "base_uri": "https://localhost:8080/"
        }
      },
      "source": [
        "print(err1([0,0,0]))\n",
        "print(err1([1,2,3]))\n",
        "print(err1([2,1,3]))"
      ],
      "execution_count": 7,
      "outputs": [
        {
          "output_type": "stream",
          "text": [
            "None\n",
            "None\n",
            "None\n"
          ],
          "name": "stdout"
        }
      ]
    },
    {
      "cell_type": "code",
      "metadata": {
        "id": "62tXJX1SzjMA"
      },
      "source": [
        "def err2(genes):\n",
        "  x = genes[0] \n",
        "  y = genes[1]\n",
        "  z = genes[2]\n",
        "  errX2 = x  +  y + z - 7\n",
        "  errY2 = 3 * x - 2 * y - z - 4\n",
        "  errZ2 = x + 6 * y + 5 * z - 24"
      ],
      "execution_count": 5,
      "outputs": []
    },
    {
      "cell_type": "code",
      "metadata": {
        "id": "KVdvB0dezoNY"
      },
      "source": [
        "totalErr2 = abs(errX2) + abs(errY2) + abs(errZ2)\n",
        "  return totalErr2, \n",
        "  #pentru ca va fi folosita ca functie fitness, rezultatul returnat trebuie sa fie iterabil \n",
        "  #chiar daca avem o singura valoare, punem si o virgula"
      ],
      "execution_count": null,
      "outputs": []
    },
    {
      "cell_type": "code",
      "metadata": {
        "id": "62PZOOgHzplg"
      },
      "source": [
        "print(err2([0,0,0]))\n",
        "print(err2([1,2,3]))\n",
        "print(err2([2,1,3]))"
      ],
      "execution_count": null,
      "outputs": []
    }
  ]
}
{
  "nbformat": 4,
  "nbformat_minor": 0,
  "metadata": {
    "colab": {
      "name": "MIB2021-lab05-06",
      "provenance": [],
      "collapsed_sections": [],
      "toc_visible": true
    },
    "kernelspec": {
      "name": "python3",
      "display_name": "Python 3"
    }
  },
  "cells": [
    {
      "cell_type": "markdown",
      "metadata": {
        "id": "4R4jpwTmkri1"
      },
      "source": [
        "# Laborator 05-06\n",
        "\n",
        "În laboratorul trecut am observat cum rezultatul metodelor hill climbing depinde foarte mult de punctul de pornire și de parametrizare. Un alt algoritm stohastic, ce poate oferi o mai bună balanță între explorare și exploatare și o independență în cea ce privește punctul de start este inspirat din călirea metalurgică. Încălzirea urmată de răcirea controlată a unui material rezultă în creșterea dimensiunii cristalelor și reduce defectele structurale.\n",
        "\n",
        "\n",
        "![](https://image.slidesharecdn.com/f-annealing-131118222251-phpapp02/95/annealing-39-638.jpg?cb=1384813935)\n",
        "\n",
        "Fig. 1. Exemplificarea procesului de cristalizare prin călire. [Sursa imaginii](https://www.slideshare.net/RakeshSingh125/f-annealing). \n",
        "\n",
        "\n",
        "Inițial, prin creșterea temperaturii, [căldura dislocă atomii](https://www.sciencelearn.org.nz/resources/750-heat-energy) din poziţiile fixe (minim local) şi permite acestora să [viziteze aleatoriu stări cu energie mai ridicată](https://www.youtube.com/watch?v=qW59Y9lJso8). Apoi, o răcire graduală și lentă acordă timp și implicit mai multe şanse atomilor dislocați să găsească o configuraţie mai bună, cu o energie internă mai mică decât cea iniţială.\n",
        "\n",
        "\n",
        "## Călirea simulată\n",
        "\n",
        "Călirea simulată, denumit în engleză [Simulated Annealing](https://en.wikipedia.org/wiki/Simulated_annealing), este o metodă stocastică pentru aproximarea optimului global al unei funcții, ce permite la fiecare pas trecerea într-o stare inferioară (soluție mai slabă calitativ) cu o probabilitate direct proporțională cu \"temperatura\" (simulată) actuală (linia 13, pseudocod fig. 2). \n",
        "\n",
        "Metoda pornește cu o temperatură inițială ridicată și tinde în timp la 0, conform unui program de răcire (o funcție monoton descrescătoare, `calculate_tempereature(i)` - linia 7, pseudocod fig. 2).). Astfel la început, probabilitatea acceptării a unor stări inferioare este foarte mare, algoritmul poate ușor ieși din vecinătatea unui optim local. În această fază metoda probează spațiul de căutare în mod aleatoriu, traiectoria descrisă este haotică ([random walk](https://www.mit.edu/~kardar/teaching/projects/chemotaxis(AndreaSchmidt)/random.htm)), explorarea este maximă. Scăderea graduală a temperaturii induce o focusare din ce în ce mai pronunțată spre îmbunătățire, o trecere graduală de la explorare accentuată spre exploatare accentuată. În această fază comportamentul metodei se aseamănă cu [coborârea cu gradient stocastic](https://arxiv.org/abs/1609.04747) ([stochastic gradient descent](https://en.wikipedia.org/wiki/Stochastic_gradient_descent)). În final, la temperaturi scăzute, probabilitatea acceptării unei soluții inferioare devine minusculă (dar nu 0, imposibilă), metoda este axată pe exploatare.\n",
        "\n",
        "![](https://d3i71xaburhd42.cloudfront.net/9f01f2a70d64f2abbbf8d8a75d340a7f27586a25/8-Figure3-1.png)\n",
        "\n",
        "Fig. 2. Pseudocod pentru metoda călirii simulate. [Sursa imaginii](https://link.springer.com/article/10.1007/s00500-016-2067-4).\n",
        "\n",
        "Cu un program de răcire suficient de lung (teoretic infinit) și lent (cu suficiente iterații la fiecare nivel de temperatură), algoritmul garantează găsirea optimului global, din păcate într-un număr exponențial de pași în raport cu dimensiunea problemei\n",
        "\n",
        "Pentru obținerea unor rezultate bune, în practică trebuie bine echilibrată tranziția de la explorare spre exploatare. În cazul unei funcții obiectiv extrem de multimodal, folosirea unui program de răcire prea agresiv poate duce la o \"înghețare\" prematură, blocare într-un minim local. Utilizarea unui program de răcire mai lent scade probabilitatea convergenței premature într-un minim local, însă ea necesită cerințe de calcul crescute.\n"
      ]
    },
    {
      "cell_type": "markdown",
      "metadata": {
        "id": "zjEPjhyIClJz"
      },
      "source": [
        "# Exemplu optimizare\n",
        "\n",
        "Considerăm problema [comis-voiajorului](https://ro.wikipedia.org/wiki/Problema_comis-voiajorului) pentru cele mai mari 20 de orașe din SUA, folosind o [implementație a metodei în Python](https://github.com/perrygeo/simanneal)."
      ]
    },
    {
      "cell_type": "code",
      "metadata": {
        "colab": {
          "base_uri": "https://localhost:8080/"
        },
        "id": "n1sdsfjtEe_L",
        "outputId": "f1cbe46a-b6d4-45b2-935d-5f906ab1939e"
      },
      "source": [
        "!pip install simanneal"
      ],
      "execution_count": 9,
      "outputs": [
        {
          "output_type": "stream",
          "text": [
            "Requirement already satisfied: simanneal in /usr/local/lib/python3.7/dist-packages (0.5.0)\n"
          ],
          "name": "stdout"
        }
      ]
    },
    {
      "cell_type": "code",
      "metadata": {
        "id": "MluzjZRsEhKU"
      },
      "source": [
        "from simanneal import Annealer\n",
        "import math"
      ],
      "execution_count": 10,
      "outputs": []
    },
    {
      "cell_type": "code",
      "metadata": {
        "id": "Ey-L-OphFX7O"
      },
      "source": [
        "def geographicDistance(a, b):\n",
        "    \"\"\"Calculates distance between two latitude-longitude coordinates.\"\"\"\n",
        "    R = 6378.1  # equatorial radius of Earth https://imagine.gsfc.nasa.gov/features/cosmic/earth_info.html\n",
        "    lat1, lon1 = math.radians(a[0]), math.radians(a[1])\n",
        "    lat2, lon2 = math.radians(b[0]), math.radians(b[1])\n",
        "    return math.acos(math.sin(lat1) * math.sin(lat2) +\n",
        "                     math.cos(lat1) * math.cos(lat2) * math.cos(lon1 - lon2)) * R"
      ],
      "execution_count": 11,
      "outputs": []
    },
    {
      "cell_type": "code",
      "metadata": {
        "id": "6TTKgeXUEs4Z"
      },
      "source": [
        "class TravellingSalesmanProblem(Annealer):\n",
        "    \"\"\"Test annealer with a travelling salesman problem.\"\"\"\n",
        "    def __init__(self, state, distance_matrix_ro):\n",
        "        self.distance_matrix_ro = distance_matrix_ro\n",
        "        super(TravellingSalesmanProblem, self).__init__(state)  \n",
        "\n",
        "    def move(self):\n",
        "        \"\"\"Swaps two cities in the route.\"\"\"\n",
        "        initial_energy = self.energy()\n",
        "\n",
        "        a = random.randint(0, len(self.state) - 1)\n",
        "        b = random.randint(0, len(self.state) - 1)\n",
        "        self.state[a], self.state[b] = self.state[b], self.state[a]\n",
        "\n",
        "        return self.energy() - initial_energy\n",
        "\n",
        "    def energy(self):\n",
        "        \"\"\"Calculates the length of the route.\"\"\"\n",
        "        e = 0\n",
        "        for i in range(len(self.state)):\n",
        "            e += self.distance_matrix_ro[self.state[i-1]][self.state[i]]\n",
        "        return e"
      ],
      "execution_count": 12,
      "outputs": []
    },
    {
      "cell_type": "code",
      "metadata": {
        "id": "1xd-jefAIDGX"
      },
      "source": [
        "# latitude and longitude for the twenty largest U.S. cities\n",
        "# https://en.wikipedia.org/wiki/List_of_United_States_cities_by_population\n",
        "\n",
        "ro_city = {\n",
        "        'Bucuresti': (44.26, 26.6),\n",
        "        'Bacau': (46.35, 26.55),\n",
        "        'Brasov': (45.36, 25.36),\n",
        "        'Braila': (45.16, 27.57),\n",
        "        'Galati': (45.26, 28.2),\n",
        "        'Cluj-Napoca': (46.46, 23.35),\n",
        "        'Constanta': (44.1, 28.38),\n",
        "        'Craiova': (44.2, 23.49),\n",
        "        'Iasi': (47.9, 27.35),\n",
        "        'Oradea': (47.04, 21.55),\n",
        "        'Ploiesti': (44.56, 26.1),\n",
        "        'Timisoara': (45.47, 21.17),\n",
        "    }"
      ],
      "execution_count": 13,
      "outputs": []
    },
    {
      "cell_type": "code",
      "metadata": {
        "colab": {
          "base_uri": "https://localhost:8080/"
        },
        "id": "6ITFi5WiIdLZ",
        "outputId": "b58919c3-b096-403d-e985-4fb3f109176f"
      },
      "source": [
        "import random\n",
        "init_state_ro = list(ro_city)\n",
        "random.shuffle(init_state_ro)\n",
        "print(init_state_ro)"
      ],
      "execution_count": 14,
      "outputs": [
        {
          "output_type": "stream",
          "text": [
            "['Cluj-Napoca', 'Bacau', 'Ploiesti', 'Craiova', 'Galati', 'Timisoara', 'Brasov', 'Oradea', 'Bucuresti', 'Braila', 'Constanta', 'Iasi']\n"
          ],
          "name": "stdout"
        }
      ]
    },
    {
      "cell_type": "code",
      "metadata": {
        "colab": {
          "base_uri": "https://localhost:8080/"
        },
        "id": "oTOhQPg4I1Y9",
        "outputId": "1bca68d9-e98b-40a6-b425-3b4225ec74dc"
      },
      "source": [
        "from collections import defaultdict\n",
        "# create an adjacency matrix - https://en.wikipedia.org/wiki/Adjacency_matrix\n",
        "distance_matrix_ro = defaultdict(dict)\n",
        "for ka, va in ro_city.items():\n",
        "  for kb, vb in ro_city.items():\n",
        "    distance_matrix_ro[ka][kb] = 0.0 if kb == ka else geographicDistance(va, vb)\n",
        "\n",
        "print('The distance from Iasi to Bacau is {0} kms.'.format(distance_matrix_ro['Iasi']['Bacau']))\n"
      ],
      "execution_count": 15,
      "outputs": [
        {
          "output_type": "stream",
          "text": [
            "The distance from Iasi to Bacau is 182.8715458550273 kms.\n"
          ],
          "name": "stdout"
        }
      ]
    },
    {
      "cell_type": "markdown",
      "metadata": {
        "id": "2J0snbwfKM1k"
      },
      "source": [
        "Confirm with Google:\n",
        "\n",
        "https://www.google.com/search?client=safari&rls=en&q=distance+new+york+to+houston&ie=UTF-8&oe=UTF-8\n",
        "\n",
        "![](https://www.google.com/maps/vt/data=6dwNcCGg2G7qCjzYYqmJEvOdwo3PgE9W1cAWPqOISd3KCjFsBMSOiQAICYx0I_jjWmQris4hQePQoQyrx4AlvoeJ_guXdArgnA6Kpte8Na4_RaUTcT_tLLnd4FCx5ITouhQKjNDCLdh3qLx409QSRDMKlxA4eVsp4p7wl__yGnMO1ronpZAjHtKBnmAd,3-zgxN7akVijwp6XwwoZFPZqIq2xWsAQvVlfYY3ZjKSbZlcBxOF74y4qPLf3M0G5_JzyiXpogRqPH290MBSfK418Y3GbASjpkdz5cCQy7FiGqCuKVcZ_vTPr_-IHYnfv0wWQvsLGp0J3AYXrnST-yz_SxrfYVOzvd4mjgNBnwDibdQxoFT6iHnfaq7zLTyAig23Lt-ehVUkeWySw-dCNCv1RGCFnmUqpgoS0Y278AqbMlfpxTCdmQdsEKURB7RfZ8YTFTXslG9tcd6WV-N62Y8t4PJEalDmQUOgaLbrG_aK71_ZYUn_0hW8PYxtH4VFxt4ZMaxtZ_8J__w63usk9rXfT184R6ndQE6_CpwFArJF_uXI0WkZXIDZmKVBXZX5bO_y1GLM?scale=2&h=200&w=618)"
      ]
    },
    {
      "cell_type": "code",
      "metadata": {
        "colab": {
          "base_uri": "https://localhost:8080/"
        },
        "id": "o_UBokbELPPF",
        "outputId": "03a58a2d-f665-4d4d-fe4e-9d227984451f"
      },
      "source": [
        "#Optimizarea problemei\n",
        "\n",
        "\n",
        "\n",
        "tsp_ro = TravellingSalesmanProblem(init_state_ro, distance_matrix_ro)# Specificam starea initiala si matricea de distante\n",
        "tsp_ro.set_schedule(tsp_ro.auto(minutes = 1)) # Setam timpul de rulare maxim la 1 min\n",
        "\n",
        "tsp_ro.copy_strategy = 'slice'\n",
        "state_ro, e_ro = tsp_ro.anneal() # Initializam operatiunea de optimizare \n",
        "\n",
        "while state_ro[0] != 'Iasi':\n",
        "    state_ro = state_ro[1:] + state_ro[:1]  # rotate NYC to start\n",
        "\n",
        "print()\n",
        "print(\"%i km route:\" % e_ro)\n",
        "print(\" ➞  \".join(state_ro))"
      ],
      "execution_count": 17,
      "outputs": [
        {
          "output_type": "stream",
          "text": [
            " Temperature        Energy    Accept   Improve     Elapsed   Remaining\n",
            " Temperature        Energy    Accept   Improve     Elapsed   Remaining\n"
          ],
          "name": "stderr"
        },
        {
          "output_type": "stream",
          "text": [
            "\n",
            "1918 km route:\n",
            "Iasi ➞  Cluj-Napoca ➞  Oradea ➞  Timisoara ➞  Craiova ➞  Brasov ➞  Ploiesti ➞  Bucuresti ➞  Constanta ➞  Galati ➞  Braila ➞  Bacau\n"
          ],
          "name": "stdout"
        }
      ]
    },
    {
      "cell_type": "markdown",
      "metadata": {
        "id": "TWLBFpvKbV8j"
      },
      "source": [
        "### Vizualizarea rutei obținute\n"
      ]
    },
    {
      "cell_type": "code",
      "metadata": {
        "colab": {
          "base_uri": "https://localhost:8080/"
        },
        "id": "uYI2xOA0NH4Z",
        "outputId": "bccc7106-c6d9-449c-97b8-35c2ad2b1ff5"
      },
      "source": [
        "!pip install geopandas"
      ],
      "execution_count": 19,
      "outputs": [
        {
          "output_type": "stream",
          "text": [
            "Requirement already satisfied: geopandas in /usr/local/lib/python3.7/dist-packages (0.9.0)\n",
            "Requirement already satisfied: fiona>=1.8 in /usr/local/lib/python3.7/dist-packages (from geopandas) (1.8.18)\n",
            "Requirement already satisfied: shapely>=1.6 in /usr/local/lib/python3.7/dist-packages (from geopandas) (1.7.1)\n",
            "Requirement already satisfied: pandas>=0.24.0 in /usr/local/lib/python3.7/dist-packages (from geopandas) (1.1.5)\n",
            "Requirement already satisfied: pyproj>=2.2.0 in /usr/local/lib/python3.7/dist-packages (from geopandas) (3.0.1)\n",
            "Requirement already satisfied: attrs>=17 in /usr/local/lib/python3.7/dist-packages (from fiona>=1.8->geopandas) (20.3.0)\n",
            "Requirement already satisfied: munch in /usr/local/lib/python3.7/dist-packages (from fiona>=1.8->geopandas) (2.5.0)\n",
            "Requirement already satisfied: cligj>=0.5 in /usr/local/lib/python3.7/dist-packages (from fiona>=1.8->geopandas) (0.7.1)\n",
            "Requirement already satisfied: click<8,>=4.0 in /usr/local/lib/python3.7/dist-packages (from fiona>=1.8->geopandas) (7.1.2)\n",
            "Requirement already satisfied: six>=1.7 in /usr/local/lib/python3.7/dist-packages (from fiona>=1.8->geopandas) (1.15.0)\n",
            "Requirement already satisfied: click-plugins>=1.0 in /usr/local/lib/python3.7/dist-packages (from fiona>=1.8->geopandas) (1.1.1)\n",
            "Requirement already satisfied: certifi in /usr/local/lib/python3.7/dist-packages (from fiona>=1.8->geopandas) (2020.12.5)\n",
            "Requirement already satisfied: numpy>=1.15.4 in /usr/local/lib/python3.7/dist-packages (from pandas>=0.24.0->geopandas) (1.19.5)\n",
            "Requirement already satisfied: python-dateutil>=2.7.3 in /usr/local/lib/python3.7/dist-packages (from pandas>=0.24.0->geopandas) (2.8.1)\n",
            "Requirement already satisfied: pytz>=2017.2 in /usr/local/lib/python3.7/dist-packages (from pandas>=0.24.0->geopandas) (2018.9)\n"
          ],
          "name": "stdout"
        }
      ]
    },
    {
      "cell_type": "code",
      "metadata": {
        "colab": {
          "base_uri": "https://localhost:8080/"
        },
        "id": "O26CZE13uITi",
        "outputId": "8f3ea5bc-830f-4560-a83c-0fbd4e73e9be"
      },
      "source": [
        "!pip install geoplot"
      ],
      "execution_count": 20,
      "outputs": [
        {
          "output_type": "stream",
          "text": [
            "Collecting geoplot\n",
            "  Downloading https://files.pythonhosted.org/packages/e1/8f/46133752e1f02e70501939e739b81cbc85c79d7398c963b8a25a3178bffe/geoplot-0.4.1-py3-none-any.whl\n",
            "Requirement already satisfied: pandas in /usr/local/lib/python3.7/dist-packages (from geoplot) (1.1.5)\n",
            "Requirement already satisfied: geopandas in /usr/local/lib/python3.7/dist-packages (from geoplot) (0.9.0)\n",
            "Collecting contextily>=1.0.0\n",
            "  Downloading https://files.pythonhosted.org/packages/d3/8a/f7916ad000c30b86793a0c7a63946baa413f40f33edb5b10f78a1b150d24/contextily-1.1.0-py3-none-any.whl\n",
            "Collecting mapclassify>=2.1\n",
            "  Downloading https://files.pythonhosted.org/packages/22/8e/d968c0945d41bb02de0efaa92e31e43a817dc52d30e82b4dfdda407a1903/mapclassify-2.4.2-py3-none-any.whl\n",
            "Requirement already satisfied: seaborn in /usr/local/lib/python3.7/dist-packages (from geoplot) (0.11.1)\n",
            "Collecting cartopy\n",
            "\u001b[?25l  Downloading https://files.pythonhosted.org/packages/46/c1/04e50c9986842f00f7db0e7a65caa896840050d7328f74e5b7437aa01179/Cartopy-0.18.0.tar.gz (14.4MB)\n",
            "\u001b[K     |████████████████████████████████| 14.4MB 310kB/s \n",
            "\u001b[?25hRequirement already satisfied: descartes in /usr/local/lib/python3.7/dist-packages (from geoplot) (1.1.0)\n",
            "Requirement already satisfied: matplotlib in /usr/local/lib/python3.7/dist-packages (from geoplot) (3.2.2)\n",
            "Requirement already satisfied: python-dateutil>=2.7.3 in /usr/local/lib/python3.7/dist-packages (from pandas->geoplot) (2.8.1)\n",
            "Requirement already satisfied: pytz>=2017.2 in /usr/local/lib/python3.7/dist-packages (from pandas->geoplot) (2018.9)\n",
            "Requirement already satisfied: numpy>=1.15.4 in /usr/local/lib/python3.7/dist-packages (from pandas->geoplot) (1.19.5)\n",
            "Requirement already satisfied: fiona>=1.8 in /usr/local/lib/python3.7/dist-packages (from geopandas->geoplot) (1.8.18)\n",
            "Requirement already satisfied: pyproj>=2.2.0 in /usr/local/lib/python3.7/dist-packages (from geopandas->geoplot) (3.0.1)\n",
            "Requirement already satisfied: shapely>=1.6 in /usr/local/lib/python3.7/dist-packages (from geopandas->geoplot) (1.7.1)\n",
            "Collecting mercantile\n",
            "  Downloading https://files.pythonhosted.org/packages/b9/cd/ee6dbee0abca93edda53703fe408d2a6abdc8c1b248a3c9a4539089eafa2/mercantile-1.1.6-py3-none-any.whl\n",
            "Requirement already satisfied: joblib in /usr/local/lib/python3.7/dist-packages (from contextily>=1.0.0->geoplot) (1.0.1)\n",
            "Requirement already satisfied: pillow in /usr/local/lib/python3.7/dist-packages (from contextily>=1.0.0->geoplot) (7.0.0)\n",
            "Requirement already satisfied: geopy in /usr/local/lib/python3.7/dist-packages (from contextily>=1.0.0->geoplot) (1.17.0)\n",
            "Collecting rasterio\n",
            "\u001b[?25l  Downloading https://files.pythonhosted.org/packages/04/37/40712857e6c82cac52051d9faee43bc468e5806640ddbf88e10d591dbdf1/rasterio-1.2.1-cp37-cp37m-manylinux1_x86_64.whl (19.1MB)\n",
            "\u001b[K     |████████████████████████████████| 19.1MB 221kB/s \n",
            "\u001b[?25hRequirement already satisfied: requests in /usr/local/lib/python3.7/dist-packages (from contextily>=1.0.0->geoplot) (2.23.0)\n",
            "Requirement already satisfied: networkx in /usr/local/lib/python3.7/dist-packages (from mapclassify>=2.1->geoplot) (2.5)\n",
            "Requirement already satisfied: scikit-learn in /usr/local/lib/python3.7/dist-packages (from mapclassify>=2.1->geoplot) (0.22.2.post1)\n",
            "Requirement already satisfied: scipy>=1.0 in /usr/local/lib/python3.7/dist-packages (from mapclassify>=2.1->geoplot) (1.4.1)\n",
            "Collecting pyshp>=1.1.4\n",
            "\u001b[?25l  Downloading https://files.pythonhosted.org/packages/38/85/fbf87e7aa55103e0d06af756bdbc15cf821fa580414c23142d60a35d4f85/pyshp-2.1.3.tar.gz (219kB)\n",
            "\u001b[K     |████████████████████████████████| 225kB 41.0MB/s \n",
            "\u001b[?25hRequirement already satisfied: six>=1.3.0 in /usr/local/lib/python3.7/dist-packages (from cartopy->geoplot) (1.15.0)\n",
            "Requirement already satisfied: setuptools>=0.7.2 in /usr/local/lib/python3.7/dist-packages (from cartopy->geoplot) (54.1.2)\n",
            "Requirement already satisfied: pyparsing!=2.0.4,!=2.1.2,!=2.1.6,>=2.0.1 in /usr/local/lib/python3.7/dist-packages (from matplotlib->geoplot) (2.4.7)\n",
            "Requirement already satisfied: kiwisolver>=1.0.1 in /usr/local/lib/python3.7/dist-packages (from matplotlib->geoplot) (1.3.1)\n",
            "Requirement already satisfied: cycler>=0.10 in /usr/local/lib/python3.7/dist-packages (from matplotlib->geoplot) (0.10.0)\n",
            "Requirement already satisfied: click-plugins>=1.0 in /usr/local/lib/python3.7/dist-packages (from fiona>=1.8->geopandas->geoplot) (1.1.1)\n",
            "Requirement already satisfied: click<8,>=4.0 in /usr/local/lib/python3.7/dist-packages (from fiona>=1.8->geopandas->geoplot) (7.1.2)\n",
            "Requirement already satisfied: cligj>=0.5 in /usr/local/lib/python3.7/dist-packages (from fiona>=1.8->geopandas->geoplot) (0.7.1)\n",
            "Requirement already satisfied: attrs>=17 in /usr/local/lib/python3.7/dist-packages (from fiona>=1.8->geopandas->geoplot) (20.3.0)\n",
            "Requirement already satisfied: munch in /usr/local/lib/python3.7/dist-packages (from fiona>=1.8->geopandas->geoplot) (2.5.0)\n",
            "Requirement already satisfied: certifi in /usr/local/lib/python3.7/dist-packages (from fiona>=1.8->geopandas->geoplot) (2020.12.5)\n",
            "Requirement already satisfied: geographiclib<2,>=1.49 in /usr/local/lib/python3.7/dist-packages (from geopy->contextily>=1.0.0->geoplot) (1.50)\n",
            "Collecting affine\n",
            "  Downloading https://files.pythonhosted.org/packages/ac/a6/1a39a1ede71210e3ddaf623982b06ecfc5c5c03741ae659073159184cd3e/affine-2.3.0-py2.py3-none-any.whl\n",
            "Collecting snuggs>=1.4.1\n",
            "  Downloading https://files.pythonhosted.org/packages/cc/0e/d27d6e806d6c0d1a2cfdc5d1f088e42339a0a54a09c3343f7f81ec8947ea/snuggs-1.4.7-py3-none-any.whl\n",
            "Requirement already satisfied: chardet<4,>=3.0.2 in /usr/local/lib/python3.7/dist-packages (from requests->contextily>=1.0.0->geoplot) (3.0.4)\n",
            "Requirement already satisfied: urllib3!=1.25.0,!=1.25.1,<1.26,>=1.21.1 in /usr/local/lib/python3.7/dist-packages (from requests->contextily>=1.0.0->geoplot) (1.24.3)\n",
            "Requirement already satisfied: idna<3,>=2.5 in /usr/local/lib/python3.7/dist-packages (from requests->contextily>=1.0.0->geoplot) (2.10)\n",
            "Requirement already satisfied: decorator>=4.3.0 in /usr/local/lib/python3.7/dist-packages (from networkx->mapclassify>=2.1->geoplot) (4.4.2)\n",
            "Building wheels for collected packages: cartopy, pyshp\n",
            "  Building wheel for cartopy (setup.py) ... \u001b[?25l\u001b[?25hdone\n",
            "  Created wheel for cartopy: filename=Cartopy-0.18.0-cp37-cp37m-linux_x86_64.whl size=15127700 sha256=812535a59879d03c644ce0e4ee37926052076166e6e20ee7fcd40bff0d68b31f\n",
            "  Stored in directory: /root/.cache/pip/wheels/8d/f8/da/2c05136f2162370d2baec85bfbbf91d7729ab9e248da878acd\n",
            "  Building wheel for pyshp (setup.py) ... \u001b[?25l\u001b[?25hdone\n",
            "  Created wheel for pyshp: filename=pyshp-2.1.3-cp37-none-any.whl size=37264 sha256=90bb5526c48af1043988ee0184a031dc3e11f6a653c92e8e2fcf2016ca8552d2\n",
            "  Stored in directory: /root/.cache/pip/wheels/76/2b/d4/53e6b9a0fb0a9f9f29664cf82605af8bc81d5ab44d987896dd\n",
            "Successfully built cartopy pyshp\n",
            "Installing collected packages: mercantile, affine, snuggs, rasterio, contextily, mapclassify, pyshp, cartopy, geoplot\n",
            "Successfully installed affine-2.3.0 cartopy-0.18.0 contextily-1.1.0 geoplot-0.4.1 mapclassify-2.4.2 mercantile-1.1.6 pyshp-2.1.3 rasterio-1.2.1 snuggs-1.4.7\n"
          ],
          "name": "stdout"
        }
      ]
    },
    {
      "cell_type": "code",
      "metadata": {
        "id": "jm_0Y_MyM7XW"
      },
      "source": [
        "import numpy as np\n",
        "import pandas as pd\n",
        "import matplotlib.pyplot as plt\n",
        "import descartes\n",
        "import geopandas as gpd\n",
        "import geoplot as gplt\n",
        "import geoplot.crs as gcrs\n",
        "from shapely.geometry import Point, Polygon"
      ],
      "execution_count": 21,
      "outputs": []
    },
    {
      "cell_type": "code",
      "metadata": {
        "colab": {
          "base_uri": "https://localhost:8080/",
          "height": 204
        },
        "id": "87bIouW7POmU",
        "outputId": "c1565cfb-7588-40e9-d0a1-c50dce3a128a"
      },
      "source": [
        "df_ro = pd.DataFrame(\n",
        "    {'City': ro_city.keys(),\n",
        "     'Latitude': [m[0] for m in ro_city.values()],\n",
        "     'Longitude': [m[1] for m in ro_city.values()]})\n",
        "df_ro.head()\n"
      ],
      "execution_count": 23,
      "outputs": [
        {
          "output_type": "execute_result",
          "data": {
            "text/html": [
              "<div>\n",
              "<style scoped>\n",
              "    .dataframe tbody tr th:only-of-type {\n",
              "        vertical-align: middle;\n",
              "    }\n",
              "\n",
              "    .dataframe tbody tr th {\n",
              "        vertical-align: top;\n",
              "    }\n",
              "\n",
              "    .dataframe thead th {\n",
              "        text-align: right;\n",
              "    }\n",
              "</style>\n",
              "<table border=\"1\" class=\"dataframe\">\n",
              "  <thead>\n",
              "    <tr style=\"text-align: right;\">\n",
              "      <th></th>\n",
              "      <th>City</th>\n",
              "      <th>Latitude</th>\n",
              "      <th>Longitude</th>\n",
              "    </tr>\n",
              "  </thead>\n",
              "  <tbody>\n",
              "    <tr>\n",
              "      <th>0</th>\n",
              "      <td>Bucuresti</td>\n",
              "      <td>44.26</td>\n",
              "      <td>26.60</td>\n",
              "    </tr>\n",
              "    <tr>\n",
              "      <th>1</th>\n",
              "      <td>Bacau</td>\n",
              "      <td>46.35</td>\n",
              "      <td>26.55</td>\n",
              "    </tr>\n",
              "    <tr>\n",
              "      <th>2</th>\n",
              "      <td>Brasov</td>\n",
              "      <td>45.36</td>\n",
              "      <td>25.36</td>\n",
              "    </tr>\n",
              "    <tr>\n",
              "      <th>3</th>\n",
              "      <td>Braila</td>\n",
              "      <td>45.16</td>\n",
              "      <td>27.57</td>\n",
              "    </tr>\n",
              "    <tr>\n",
              "      <th>4</th>\n",
              "      <td>Galati</td>\n",
              "      <td>45.26</td>\n",
              "      <td>28.20</td>\n",
              "    </tr>\n",
              "  </tbody>\n",
              "</table>\n",
              "</div>"
            ],
            "text/plain": [
              "        City  Latitude  Longitude\n",
              "0  Bucuresti     44.26      26.60\n",
              "1      Bacau     46.35      26.55\n",
              "2     Brasov     45.36      25.36\n",
              "3     Braila     45.16      27.57\n",
              "4     Galati     45.26      28.20"
            ]
          },
          "metadata": {
            "tags": []
          },
          "execution_count": 23
        }
      ]
    },
    {
      "cell_type": "code",
      "metadata": {
        "id": "Uk-QQxKHO0_S",
        "colab": {
          "base_uri": "https://localhost:8080/",
          "height": 421
        },
        "outputId": "01301e8b-b0ff-4e4e-914c-90eab750d03b"
      },
      "source": [
        "# De la un dataframe trecem la un geodataframe\n",
        "\n",
        "gdf_ro = gpd.GeoDataFrame(\n",
        "    df_ro, geometry=gpd.points_from_xy(df_ro.Longitude, df_ro.Latitude), crs = 4326)\n",
        "\n",
        "gdf_ro"
      ],
      "execution_count": 24,
      "outputs": [
        {
          "output_type": "execute_result",
          "data": {
            "text/html": [
              "<div>\n",
              "<style scoped>\n",
              "    .dataframe tbody tr th:only-of-type {\n",
              "        vertical-align: middle;\n",
              "    }\n",
              "\n",
              "    .dataframe tbody tr th {\n",
              "        vertical-align: top;\n",
              "    }\n",
              "\n",
              "    .dataframe thead th {\n",
              "        text-align: right;\n",
              "    }\n",
              "</style>\n",
              "<table border=\"1\" class=\"dataframe\">\n",
              "  <thead>\n",
              "    <tr style=\"text-align: right;\">\n",
              "      <th></th>\n",
              "      <th>City</th>\n",
              "      <th>Latitude</th>\n",
              "      <th>Longitude</th>\n",
              "      <th>geometry</th>\n",
              "    </tr>\n",
              "  </thead>\n",
              "  <tbody>\n",
              "    <tr>\n",
              "      <th>0</th>\n",
              "      <td>Bucuresti</td>\n",
              "      <td>44.26</td>\n",
              "      <td>26.60</td>\n",
              "      <td>POINT (26.60000 44.26000)</td>\n",
              "    </tr>\n",
              "    <tr>\n",
              "      <th>1</th>\n",
              "      <td>Bacau</td>\n",
              "      <td>46.35</td>\n",
              "      <td>26.55</td>\n",
              "      <td>POINT (26.55000 46.35000)</td>\n",
              "    </tr>\n",
              "    <tr>\n",
              "      <th>2</th>\n",
              "      <td>Brasov</td>\n",
              "      <td>45.36</td>\n",
              "      <td>25.36</td>\n",
              "      <td>POINT (25.36000 45.36000)</td>\n",
              "    </tr>\n",
              "    <tr>\n",
              "      <th>3</th>\n",
              "      <td>Braila</td>\n",
              "      <td>45.16</td>\n",
              "      <td>27.57</td>\n",
              "      <td>POINT (27.57000 45.16000)</td>\n",
              "    </tr>\n",
              "    <tr>\n",
              "      <th>4</th>\n",
              "      <td>Galati</td>\n",
              "      <td>45.26</td>\n",
              "      <td>28.20</td>\n",
              "      <td>POINT (28.20000 45.26000)</td>\n",
              "    </tr>\n",
              "    <tr>\n",
              "      <th>5</th>\n",
              "      <td>Cluj-Napoca</td>\n",
              "      <td>46.46</td>\n",
              "      <td>23.35</td>\n",
              "      <td>POINT (23.35000 46.46000)</td>\n",
              "    </tr>\n",
              "    <tr>\n",
              "      <th>6</th>\n",
              "      <td>Constanta</td>\n",
              "      <td>44.10</td>\n",
              "      <td>28.38</td>\n",
              "      <td>POINT (28.38000 44.10000)</td>\n",
              "    </tr>\n",
              "    <tr>\n",
              "      <th>7</th>\n",
              "      <td>Craiova</td>\n",
              "      <td>44.20</td>\n",
              "      <td>23.49</td>\n",
              "      <td>POINT (23.49000 44.20000)</td>\n",
              "    </tr>\n",
              "    <tr>\n",
              "      <th>8</th>\n",
              "      <td>Iasi</td>\n",
              "      <td>47.90</td>\n",
              "      <td>27.35</td>\n",
              "      <td>POINT (27.35000 47.90000)</td>\n",
              "    </tr>\n",
              "    <tr>\n",
              "      <th>9</th>\n",
              "      <td>Oradea</td>\n",
              "      <td>47.04</td>\n",
              "      <td>21.55</td>\n",
              "      <td>POINT (21.55000 47.04000)</td>\n",
              "    </tr>\n",
              "    <tr>\n",
              "      <th>10</th>\n",
              "      <td>Ploiesti</td>\n",
              "      <td>44.56</td>\n",
              "      <td>26.10</td>\n",
              "      <td>POINT (26.10000 44.56000)</td>\n",
              "    </tr>\n",
              "    <tr>\n",
              "      <th>11</th>\n",
              "      <td>Timisoara</td>\n",
              "      <td>45.47</td>\n",
              "      <td>21.17</td>\n",
              "      <td>POINT (21.17000 45.47000)</td>\n",
              "    </tr>\n",
              "  </tbody>\n",
              "</table>\n",
              "</div>"
            ],
            "text/plain": [
              "           City  Latitude  Longitude                   geometry\n",
              "0     Bucuresti     44.26      26.60  POINT (26.60000 44.26000)\n",
              "1         Bacau     46.35      26.55  POINT (26.55000 46.35000)\n",
              "2        Brasov     45.36      25.36  POINT (25.36000 45.36000)\n",
              "3        Braila     45.16      27.57  POINT (27.57000 45.16000)\n",
              "4        Galati     45.26      28.20  POINT (28.20000 45.26000)\n",
              "5   Cluj-Napoca     46.46      23.35  POINT (23.35000 46.46000)\n",
              "6     Constanta     44.10      28.38  POINT (28.38000 44.10000)\n",
              "7       Craiova     44.20      23.49  POINT (23.49000 44.20000)\n",
              "8          Iasi     47.90      27.35  POINT (27.35000 47.90000)\n",
              "9        Oradea     47.04      21.55  POINT (21.55000 47.04000)\n",
              "10     Ploiesti     44.56      26.10  POINT (26.10000 44.56000)\n",
              "11    Timisoara     45.47      21.17  POINT (21.17000 45.47000)"
            ]
          },
          "metadata": {
            "tags": []
          },
          "execution_count": 24
        }
      ]
    },
    {
      "cell_type": "code",
      "metadata": {
        "colab": {
          "base_uri": "https://localhost:8080/",
          "height": 512
        },
        "id": "4vaYU78oQG83",
        "outputId": "1f0c9c83-2284-4397-ddd8-0fa1db38f767"
      },
      "source": [
        "# Incarcam harta lumii\n",
        "world = gpd.read_file(gpd.datasets.get_path('naturalearth_lowres'))\n",
        "\n",
        "# Selectam regiunea pentru Romania , afisam harta tarii\n",
        "ax = world[world.name == 'Romania'].plot(\n",
        "    color='white', edgecolor='black', figsize=(12, 10))\n",
        "\n",
        "gdf_ro.plot(ax=ax,color='red')\n",
        "\n",
        "# Parcurgem traseul gasit\n",
        "for i in range(0, len(state_ro)-1):\n",
        "  plt.plot( [df_ro[df_ro.City==state_ro[i]].Longitude, df_ro[df_ro.City==state_ro[i+1]].Longitude], [df_ro[df_ro.City==state_ro[i]].Latitude, df_ro[df_ro.City==state_ro[i+1]].Latitude])\n",
        "\n",
        "plt.show()"
      ],
      "execution_count": 25,
      "outputs": [
        {
          "output_type": "display_data",
          "data": {
            "image/png": "[encoded data removed]",
            "text/plain": [
              "<Figure size 864x720 with 1 Axes>"
            ]
          },
          "metadata": {
            "tags": [],
            "needs_background": "light"
          }
        }
      ]
    },
    {
      "cell_type": "markdown",
      "metadata": {
        "id": "VFNwr9oV87u3"
      },
      "source": [
        "# Exerciții\n",
        "\n",
        "1. Conform articolului [\"On the Convergence Time of Simulated Annealing\"](https://core.ac.uk/download/pdf/76359167.pdf) ce se poate afirma despre convergența metodei?\n",
        "2. Care [programe de răcire](https://www.researchgate.net/publication/282449315_A_Comparative_Study_of_Simulated_Annealing_with_different_Cooling_Schedules_for_Geometric_Optimization_of_a_Heat_Transfer_Problem_According_to_Constructal_Design) (cooling schedule) sunt cel mai des folosite? La ce tipuri de probleme se pretează programele de răcire mai lente?\n",
        "3. Conform [acestei](https://page.mi.fu-berlin.de/prechelt/Biblio/kangaroo_analogy.html) analogii amuzante, cum este descrisă dinamica călirii simulate? \n",
        "4. Cu ajutorul [`scipy.optimize.anneal`](https://docs.scipy.org/doc/scipy-0.14.0/reference/generated/scipy.optimize.anneal.html) găsiți optimele funcțiilor studiate laboratorul precedent (conform exemplului din documentație - schimbați definiția funcției `f`). Cum se compară performanța cu strategiile de îmbunătățire iterativă, în cazul funcțiilor multimodale?\n",
        "5. Rezolvați problema comis voiajorului pentru [municipiile de rang 0 din România](https://ro.wikipedia.org/wiki/Municipiile_României).\n",
        "6. *Implementați (soluție proprie) metoda călirii simulate, exemplificați funcționalitatea pe o problemă aleasă.* **(opțional, punct în plus)**."
      ]
    }
  ]
}
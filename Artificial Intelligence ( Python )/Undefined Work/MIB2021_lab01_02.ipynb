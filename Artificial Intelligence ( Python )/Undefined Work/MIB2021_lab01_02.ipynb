{
  "nbformat": 4,
  "nbformat_minor": 0,
  "metadata": {
    "colab": {
      "name": "MIB2021-lab01-02.ipynb",
      "provenance": [],
      "collapsed_sections": []
    },
    "kernelspec": {
      "name": "python3",
      "display_name": "Python 3"
    }
  },
  "cells": [
    {
      "cell_type": "markdown",
      "metadata": {
        "id": "qw8svAr0OpSR"
      },
      "source": [
        "# Tipuri de celule\n",
        "\n",
        "Un document interactiv Colab conține două tipuri de celule: cod și text (**formatat** *dacă* `este` nevoie). Acesta este o celulă de tip text. "
      ]
    },
    {
      "cell_type": "code",
      "metadata": {
        "colab": {
          "base_uri": "https://localhost:8080/"
        },
        "id": "No4DvZHoPekX",
        "outputId": "4c7152e0-71e9-469d-9be2-ca890b3a1bf4"
      },
      "source": [
        "# Pentru rulare apăsați butonul play din stânga sau selectați celula și apăsați Shift+Enter\n",
        "print('Iar acesta este o celulă de tip cod.')"
      ],
      "execution_count": null,
      "outputs": [
        {
          "output_type": "stream",
          "text": [
            "Iar acesta este o celulă de tip cod.\n"
          ],
          "name": "stdout"
        }
      ]
    },
    {
      "cell_type": "markdown",
      "metadata": {
        "id": "DONllmdBQE5f"
      },
      "source": [
        "# Comenzi sistem\n",
        "\n",
        "Notebook-ul Colab rulează într-o mașină virtuală la care avem accesa direct. Pentru a rula comenzi în terminalul VM, acestea trebuie prefixate cu semnul exclamării.  "
      ]
    },
    {
      "cell_type": "code",
      "metadata": {
        "id": "NKHIzuH-QEHJ"
      },
      "source": [
        "!touch fisiernou1.txt\n",
        "!echo \"Hello, World!\" > fisiernou2.txt\n",
        "print('Listare fisiere\\n')\n",
        "!ls -l\n",
        "print('Calea directorului de lucru actual este:\\n')\n",
        "!pwd\n",
        "print('Listare continut fisiernou2.txt\\n')\n",
        "!cat fisiernou2.txt"
      ],
      "execution_count": null,
      "outputs": []
    },
    {
      "cell_type": "code",
      "metadata": {
        "id": "p6a-BBVfTdKW"
      },
      "source": [
        "print('Listare versiune Python\\n')\n",
        "!python --version"
      ],
      "execution_count": null,
      "outputs": []
    },
    {
      "cell_type": "code",
      "metadata": {
        "id": "v20votZ-T3im"
      },
      "source": [
        "print('Listare informatii VM\\n')\n",
        "!df -h\n",
        "!lscpu\n",
        "!cat /proc/cpuinfo\n",
        "!cat /proc/meminfo | egrep 'MemTotal'\n"
      ],
      "execution_count": null,
      "outputs": []
    },
    {
      "cell_type": "code",
      "metadata": {
        "colab": {
          "base_uri": "https://localhost:8080/"
        },
        "id": "POhxnkYdSlr3",
        "outputId": "a62155da-0439-4ad0-82ab-29fbdb3b9ff0"
      },
      "source": [
        "print('Stergerea fisierelor txt create\\n')\n",
        "!rm *.txt\n",
        "!ls"
      ],
      "execution_count": null,
      "outputs": [
        {
          "output_type": "stream",
          "text": [
            "Stergerea fisierelor txt create\n",
            "\n",
            "sample_data\n"
          ],
          "name": "stdout"
        }
      ]
    },
    {
      "cell_type": "code",
      "metadata": {
        "id": "kY9Tpq4rVkUE"
      },
      "source": [
        "print('Instalarea unor librarii Python cu pip\\n')\n",
        "!pip install deap"
      ],
      "execution_count": null,
      "outputs": []
    },
    {
      "cell_type": "markdown",
      "metadata": {
        "id": "V1_cqTD3piOt"
      },
      "source": [
        "# Încărcare și descărcare de date\n",
        "\n",
        "Datele necesare procesării în Google Colab pot fi încărcate interactiv, montate în Google Drive sau importate din orice sursă de pe internet. La fel, salvarea se poate face în Google Drive sau fișierele pot fi descărcate."
      ]
    },
    {
      "cell_type": "markdown",
      "metadata": {
        "id": "1yxf2fvkWsdo"
      },
      "source": [
        "## Încărcarea fișierelor din sistemul de fișiere local \n",
        "\n",
        "`files.upload` returnează un dicționar al fișierelor încărcate. \n"
      ]
    },
    {
      "cell_type": "code",
      "metadata": {
        "id": "ebiYVKFQLUPK"
      },
      "source": [
        "from google.colab import files\n",
        "\n",
        "uploaded = files.upload()\n",
        "\n",
        "for fn in uploaded.keys():\n",
        "  print('A fost incarcat fisierul \"{name}\" de marimea {length} bytes'.format(\n",
        "      name=fn, length=len(uploaded[fn])))"
      ],
      "execution_count": null,
      "outputs": []
    },
    {
      "cell_type": "markdown",
      "metadata": {
        "id": "mGehZxupctea"
      },
      "source": [
        "## Descărcarea fișierelor\n",
        "\n",
        "`files.download` va invoca o descărcare prin browser a fișierlor. "
      ]
    },
    {
      "cell_type": "code",
      "metadata": {
        "id": "ZvW3s1NPXHE2"
      },
      "source": [
        "from google.colab import files\n",
        "import random\n",
        "\n",
        "x = random.choices(range(0, 9), k=20)\n",
        "print(x)\n",
        "\n",
        "with open('numere.txt', 'w') as f:\n",
        "  f.write(str(x))\n",
        "\n",
        "!cat numere.txt\n",
        "\n",
        "files.download('numere.txt')"
      ],
      "execution_count": null,
      "outputs": []
    },
    {
      "cell_type": "markdown",
      "metadata": {
        "id": "ApRO4XZIdLu7"
      },
      "source": [
        "## Montarea Google Drive\n",
        "\n",
        "Google Drive se poate monta pe runtime folosind un cod de autorizare obținut după un pas de logare-autorizare cu contul Google asociat. După montare, fișierele din Drive sunt accesibile pentru citire și scriere. "
      ]
    },
    {
      "cell_type": "code",
      "metadata": {
        "colab": {
          "base_uri": "https://localhost:8080/"
        },
        "id": "5ONMDxXWa21i",
        "outputId": "68d5ff65-2114-440f-8037-ed17e54db79d"
      },
      "source": [
        "from google.colab import drive\n",
        "drive.mount('/content/drive/')"
      ],
      "execution_count": null,
      "outputs": [
        {
          "output_type": "stream",
          "text": [
            "Mounted at /content/drive/\n"
          ],
          "name": "stdout"
        }
      ]
    },
    {
      "cell_type": "code",
      "metadata": {
        "id": "O9d1bzLarEve",
        "colab": {
          "base_uri": "https://localhost:8080/"
        },
        "outputId": "a0b1839e-95fc-4657-f059-759272e76576"
      },
      "source": [
        "!ls '/content/drive/MyDrive'"
      ],
      "execution_count": null,
      "outputs": [
        {
          "output_type": "stream",
          "text": [
            "ls: cannot access '/content/drive/MyDrive': No such file or directory\n"
          ],
          "name": "stdout"
        }
      ]
    },
    {
      "cell_type": "code",
      "metadata": {
        "id": "0Nr-pcMArNHu",
        "colab": {
          "base_uri": "https://localhost:8080/"
        },
        "outputId": "aad799bf-bf57-47cc-97f4-e78bb5d71a29"
      },
      "source": [
        "with open('/content/drive/MyDrive/hello.txt', 'w') as f:\n",
        "  f.write('Hello, Google Drive!')\n",
        "!cat '/content/drive/MyDrive/hello.txt'"
      ],
      "execution_count": null,
      "outputs": [
        {
          "output_type": "stream",
          "text": [
            "Hello, Google Drive!"
          ],
          "name": "stdout"
        }
      ]
    },
    {
      "cell_type": "code",
      "metadata": {
        "id": "dqpDtki8rly5"
      },
      "source": [
        "drive.flush_and_unmount()\n",
        "print('Toate modificarile efectuate in aceasta sesiune colab sunt acum vizibile în Drive. Verificati accesand drive.google.com')"
      ],
      "execution_count": null,
      "outputs": []
    },
    {
      "cell_type": "markdown",
      "metadata": {
        "id": "9ehupmW71MvZ"
      },
      "source": [
        "\n",
        "\n",
        "---\n",
        "\n",
        "\n"
      ]
    },
    {
      "cell_type": "markdown",
      "metadata": {
        "id": "gaQsvLaHsFPW"
      },
      "source": [
        "# Exerciții\n",
        "\n",
        "\n",
        "1.   Pentru reîmprospătarea și aprofundarea cunoștințelor Python, rulați selectiv exemplele din tutorialul [A Crash Course in Python for Scientists](https://nbviewer.jupyter.org/gist/rpmuller/5920182) în acest notebook, prin inserarea de noi celule cod. Unele exemple trebuie adaptate pentru Python 3 (ex. `print x` devine `print(x)`, `7/3` nu este trunchiat, rezultatul va fi deja tip `float` etc.).\n",
        "2.   Încărcați acest [fișier csv](https://people.sc.fsu.edu/~jburkardt/data/csv/hw_200.csv) în Google Drive-ul personal. Apoi,\n",
        "    * citiți fișierul din Drive și transformați datele în sistemul metric (cm și kg);\n",
        "    * vizualizați datele cu ajutorul unui [scatterplot](https://pythonspot.com/matplotlib-scatterplot/);\n",
        "    * [salvați](https://matplotlib.org/3.1.1/api/_as_gen/matplotlib.pyplot.savefig.html) și descărcați imaginea obținută pe calculator ([nu uitați să etichetați axele](https://matplotlib.org/3.1.0/gallery/pyplots/fig_axes_labels_simple.html));\n",
        "    * afișați care este înălțimea și greutatea minimă, maximă și medie. \n",
        "3. [Generați aleatoriu](https://www.geeksforgeeks.org/random-choices-method-in-python/) 10000 de șiruri binare de lungime 100.\n",
        "4. Calculați suma de biți pentru fiecare șir și vizualizați distribuția sumelor cu o [histogramă](https://matplotlib.org/3.1.1/gallery/statistics/hist.html). \n",
        "5. Salvați într-un fișier din Google Drive șirurile a căror sumă depășește 70.\n",
        "\n",
        "\n",
        "\n",
        "\n",
        "\n"
      ]
    },
    {
      "cell_type": "code",
      "metadata": {
        "colab": {
          "base_uri": "https://localhost:8080/"
        },
        "id": "fEnmlIww4VIF",
        "outputId": "d5b9992a-ac9d-4313-eec6-f0756e96bbf6"
      },
      "source": [
        "import matplotlib.pyplot as plt\r\n",
        "import pandas as pd\r\n",
        "\r\n",
        "\r\n",
        "df=pd.read_csv('/content/drive/MyDrive/bio-lab1/hw_200.csv')\r\n",
        "print(df)"
      ],
      "execution_count": null,
      "outputs": [
        {
          "output_type": "stream",
          "text": [
            "     Index   Height(Inches)\"   \"Weight(Pounds)\"\n",
            "0        1             65.78             112.99\n",
            "1        2             71.52             136.49\n",
            "2        3             69.40             153.03\n",
            "3        4             68.22             142.34\n",
            "4        5             67.79             144.30\n",
            "..     ...               ...                ...\n",
            "195    196             65.80             120.84\n",
            "196    197             66.11             115.78\n",
            "197    198             68.24             128.30\n",
            "198    199             68.02             127.47\n",
            "199    200             71.39             127.88\n",
            "\n",
            "[200 rows x 3 columns]\n"
          ],
          "name": "stdout"
        }
      ]
    },
    {
      "cell_type": "code",
      "metadata": {
        "colab": {
          "base_uri": "https://localhost:8080/",
          "height": 297
        },
        "id": "tO_d2S3s1CfB",
        "outputId": "5e5bfbf1-689e-466d-fa99-65957be03f27"
      },
      "source": [
        "df.describe()"
      ],
      "execution_count": null,
      "outputs": [
        {
          "output_type": "execute_result",
          "data": {
            "text/html": [
              "<div>\n",
              "<style scoped>\n",
              "    .dataframe tbody tr th:only-of-type {\n",
              "        vertical-align: middle;\n",
              "    }\n",
              "\n",
              "    .dataframe tbody tr th {\n",
              "        vertical-align: top;\n",
              "    }\n",
              "\n",
              "    .dataframe thead th {\n",
              "        text-align: right;\n",
              "    }\n",
              "</style>\n",
              "<table border=\"1\" class=\"dataframe\">\n",
              "  <thead>\n",
              "    <tr style=\"text-align: right;\">\n",
              "      <th></th>\n",
              "      <th>Index</th>\n",
              "      <th>Height(Inches)\"</th>\n",
              "      <th>\"Weight(Pounds)\"</th>\n",
              "    </tr>\n",
              "  </thead>\n",
              "  <tbody>\n",
              "    <tr>\n",
              "      <th>count</th>\n",
              "      <td>200.000000</td>\n",
              "      <td>200.000000</td>\n",
              "      <td>200.000000</td>\n",
              "    </tr>\n",
              "    <tr>\n",
              "      <th>mean</th>\n",
              "      <td>100.500000</td>\n",
              "      <td>67.949800</td>\n",
              "      <td>127.221950</td>\n",
              "    </tr>\n",
              "    <tr>\n",
              "      <th>std</th>\n",
              "      <td>57.879185</td>\n",
              "      <td>1.940363</td>\n",
              "      <td>11.960959</td>\n",
              "    </tr>\n",
              "    <tr>\n",
              "      <th>min</th>\n",
              "      <td>1.000000</td>\n",
              "      <td>63.430000</td>\n",
              "      <td>97.900000</td>\n",
              "    </tr>\n",
              "    <tr>\n",
              "      <th>25%</th>\n",
              "      <td>50.750000</td>\n",
              "      <td>66.522500</td>\n",
              "      <td>119.895000</td>\n",
              "    </tr>\n",
              "    <tr>\n",
              "      <th>50%</th>\n",
              "      <td>100.500000</td>\n",
              "      <td>67.935000</td>\n",
              "      <td>127.875000</td>\n",
              "    </tr>\n",
              "    <tr>\n",
              "      <th>75%</th>\n",
              "      <td>150.250000</td>\n",
              "      <td>69.202500</td>\n",
              "      <td>136.097500</td>\n",
              "    </tr>\n",
              "    <tr>\n",
              "      <th>max</th>\n",
              "      <td>200.000000</td>\n",
              "      <td>73.900000</td>\n",
              "      <td>158.960000</td>\n",
              "    </tr>\n",
              "  </tbody>\n",
              "</table>\n",
              "</div>"
            ],
            "text/plain": [
              "            Index   Height(Inches)\"   \"Weight(Pounds)\"\n",
              "count  200.000000        200.000000         200.000000\n",
              "mean   100.500000         67.949800         127.221950\n",
              "std     57.879185          1.940363          11.960959\n",
              "min      1.000000         63.430000          97.900000\n",
              "25%     50.750000         66.522500         119.895000\n",
              "50%    100.500000         67.935000         127.875000\n",
              "75%    150.250000         69.202500         136.097500\n",
              "max    200.000000         73.900000         158.960000"
            ]
          },
          "metadata": {
            "tags": []
          },
          "execution_count": 25
        }
      ]
    },
    {
      "cell_type": "code",
      "metadata": {
        "colab": {
          "base_uri": "https://localhost:8080/",
          "height": 803
        },
        "id": "8DKzZ_lc3YNr",
        "outputId": "f3301c09-d4f0-48fc-dc42-304d71364c5c"
      },
      "source": [
        "df['Inaltime']=df[' Height(Inches)\"']*2.54\r\n",
        "df['Inaltime'].max()\r\n",
        "df['Greutate'] = df[' \"Weight(Pounds)\"'] * 0.453592\r\n",
        "fig = plt.figure(figsize=(12,8))\r\n",
        "\r\n",
        "plt.scatter(df['Inaltime'],df['Greutate'],)\r\n",
        "plt.xlabel('Inaltimea', fontsize=18)\r\n",
        "plt.ylabel('Greutatea', fontsize=18)\r\n",
        "\r\n",
        "fig.suptitle('Relatia dintre inaltime si greutate', fontsize=18)\r\n",
        "fig.savefig('scatter.png')\r\n",
        "\r\n",
        "from google.colab import files\r\n",
        "files.download('scatter.png')\r\n",
        "\r\n",
        "print(df['Inaltime'].max())\r\n",
        "print(df['Inaltime'].min())\r\n",
        "print(df['Greutate'].max())\r\n",
        "print(df['Greutate'].min())\r\n",
        "\r\n",
        "plt.hist(df['Inaltime'])\r\n",
        "\r\n",
        "plt.hist(df['Greutate'])\r\n",
        "\r\n",
        "bmi=df['Greutate']/(df['Inaltime']/100)**2\r\n",
        "\r\n",
        "from sklearn import linear_model\r\n",
        "\r\n",
        "regr=linear_model.LinearRegression()\r\n",
        "x=df['Inaltime'].values.reshape(-1,1)\r\n",
        "y=df['Greutate'].values\r\n",
        "\r\n",
        "regr.fit(x,y)\r\n",
        "\r\n",
        "regr.coef_\r\n",
        "\r\n",
        "y=regr.predict(x)\r\n",
        "\r\n",
        "plt.scatter(df['Inaltime'],df['Greutate'],)\r\n",
        "plt.xlabel('Inaltimea', fontsize=18)\r\n",
        "plt.ylabel('Greutatea', fontsize=18)\r\n",
        "\r\n",
        "plt.plot(x,y, color='red',linewidth=4)\r\n",
        "\r\n",
        "import random\r\n",
        "x= random.choices (range(0,2),k=100)\r\n",
        "print (x)\r\n",
        "\r\n",
        "import numpy as np\r\n",
        "\r\n",
        "pop = np.random.randint(2, size=(10000,100))\r\n",
        "print (len(pop))\r\n",
        "\r\n",
        "fitness=[np.sum(ind)for ind in pop]\r\n",
        "plt.hist(fitness)\r\n",
        "\r\n",
        "selected = np.asarray(list(filter(lambda x: (np.sum(x) > 65), pop)))\r\n",
        "\r\n",
        "print (selected)\r\n",
        "\r\n",
        "np.savetxt('/content/drive/MyDrive/bio-lab1/selected.txt',selected,delimiter=', ')\r\n",
        "\r\n",
        "\r\n",
        "\r\n"
      ],
      "execution_count": null,
      "outputs": [
        {
          "output_type": "display_data",
          "data": {
            "application/javascript": [
              "\n",
              "    async function download(id, filename, size) {\n",
              "      if (!google.colab.kernel.accessAllowed) {\n",
              "        return;\n",
              "      }\n",
              "      const div = document.createElement('div');\n",
              "      const label = document.createElement('label');\n",
              "      label.textContent = `Downloading \"${filename}\": `;\n",
              "      div.appendChild(label);\n",
              "      const progress = document.createElement('progress');\n",
              "      progress.max = size;\n",
              "      div.appendChild(progress);\n",
              "      document.body.appendChild(div);\n",
              "\n",
              "      const buffers = [];\n",
              "      let downloaded = 0;\n",
              "\n",
              "      const channel = await google.colab.kernel.comms.open(id);\n",
              "      // Send a message to notify the kernel that we're ready.\n",
              "      channel.send({})\n",
              "\n",
              "      for await (const message of channel.messages) {\n",
              "        // Send a message to notify the kernel that we're ready.\n",
              "        channel.send({})\n",
              "        if (message.buffers) {\n",
              "          for (const buffer of message.buffers) {\n",
              "            buffers.push(buffer);\n",
              "            downloaded += buffer.byteLength;\n",
              "            progress.value = downloaded;\n",
              "          }\n",
              "        }\n",
              "      }\n",
              "      const blob = new Blob(buffers, {type: 'application/binary'});\n",
              "      const a = document.createElement('a');\n",
              "      a.href = window.URL.createObjectURL(blob);\n",
              "      a.download = filename;\n",
              "      div.appendChild(a);\n",
              "      a.click();\n",
              "      div.remove();\n",
              "    }\n",
              "  "
            ],
            "text/plain": [
              "<IPython.core.display.Javascript object>"
            ]
          },
          "metadata": {
            "tags": []
          }
        },
        {
          "output_type": "display_data",
          "data": {
            "application/javascript": [
              "download(\"download_8be1ec5f-9b0c-4450-acf6-c73b3ec904e9\", \"scatter.png\", 23952)"
            ],
            "text/plain": [
              "<IPython.core.display.Javascript object>"
            ]
          },
          "metadata": {
            "tags": []
          }
        },
        {
          "output_type": "stream",
          "text": [
            "187.70600000000002\n",
            "161.1122\n",
            "72.10298432\n",
            "44.4066568\n",
            "[1, 0, 1, 0, 0, 1, 0, 0, 1, 0, 1, 1, 1, 1, 1, 1, 1, 1, 1, 0, 0, 1, 1, 0, 0, 1, 1, 1, 1, 1, 0, 1, 1, 1, 0, 1, 0, 1, 0, 1, 1, 0, 1, 1, 1, 0, 0, 1, 0, 0, 0, 0, 1, 1, 0, 0, 0, 1, 1, 1, 0, 1, 1, 0, 1, 1, 0, 0, 0, 0, 0, 1, 1, 0, 1, 0, 0, 1, 0, 0, 1, 1, 1, 0, 0, 1, 1, 0, 1, 1, 0, 1, 1, 1, 1, 1, 1, 0, 1, 1]\n",
            "10000\n",
            "[[1 1 0 ... 0 1 1]\n",
            " [0 1 0 ... 0 1 1]\n",
            " [1 0 0 ... 1 0 1]\n",
            " ...\n",
            " [0 0 1 ... 1 0 0]\n",
            " [1 0 1 ... 1 1 0]\n",
            " [0 1 1 ... 1 1 0]]\n"
          ],
          "name": "stdout"
        },
        {
          "output_type": "display_data",
          "data": {
            "image/png": "[encoded data removed]",
            "text/plain": [
              "<Figure size 864x576 with 1 Axes>"
            ]
          },
          "metadata": {
            "tags": [],
            "needs_background": "light"
          }
        }
      ]
    }
  ]
}
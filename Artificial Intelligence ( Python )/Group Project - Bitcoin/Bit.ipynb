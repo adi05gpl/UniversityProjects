{
  "nbformat": 4,
  "nbformat_minor": 0,
  "metadata": {
    "colab": {
      "name": "Untitled15.ipynb",
      "provenance": [],
      "collapsed_sections": [],
      "toc_visible": true
    },
    "kernelspec": {
      "name": "python3",
      "display_name": "Python 3"
    },
    "language_info": {
      "name": "python"
    }
  },
  "cells": [
    {
      "cell_type": "code",
      "metadata": {
        "id": "l7DgKVX_BQV4",
        "colab": {
          "base_uri": "https://localhost:8080/"
        },
        "outputId": "6e366583-99e2-4113-da9b-dbcfc3c0efd8"
      },
      "source": [
        " %pip install \"dask[complete]\""
      ],
      "execution_count": 1,
      "outputs": [
        {
          "output_type": "stream",
          "text": [
            "Requirement already satisfied: dask[complete] in /usr/local/lib/python3.7/dist-packages (2.12.0)\n",
            "Requirement already satisfied: pandas>=0.23.0; extra == \"complete\" in /usr/local/lib/python3.7/dist-packages (from dask[complete]) (1.1.5)\n",
            "Requirement already satisfied: toolz>=0.7.3; extra == \"complete\" in /usr/local/lib/python3.7/dist-packages (from dask[complete]) (0.11.1)\n",
            "Requirement already satisfied: numpy>=1.13.0; extra == \"complete\" in /usr/local/lib/python3.7/dist-packages (from dask[complete]) (1.19.5)\n",
            "Collecting fsspec>=0.6.0; extra == \"complete\"\n",
            "\u001b[?25l  Downloading https://files.pythonhosted.org/packages/91/0d/a6bfee0ddf47b254286b9bd574e6f50978c69897647ae15b14230711806e/fsspec-0.8.7-py3-none-any.whl (103kB)\n",
            "\u001b[K     |████████████████████████████████| 112kB 11.0MB/s \n",
            "\u001b[?25hCollecting partd>=0.3.10; extra == \"complete\"\n",
            "  Downloading https://files.pythonhosted.org/packages/44/e1/68dbe731c9c067655bff1eca5b7d40c20ca4b23fd5ec9f3d17e201a6f36b/partd-1.1.0-py3-none-any.whl\n",
            "Requirement already satisfied: cloudpickle>=0.2.1; extra == \"complete\" in /usr/local/lib/python3.7/dist-packages (from dask[complete]) (1.3.0)\n",
            "Requirement already satisfied: PyYaml; extra == \"complete\" in /usr/local/lib/python3.7/dist-packages (from dask[complete]) (3.13)\n",
            "Requirement already satisfied: bokeh>=1.0.0; extra == \"complete\" in /usr/local/lib/python3.7/dist-packages (from dask[complete]) (2.1.1)\n",
            "Collecting distributed>=2.0; extra == \"complete\"\n",
            "\u001b[?25l  Downloading https://files.pythonhosted.org/packages/96/b7/f58dd1e30f940a8b38de10f5d92b2fce08f38dcba3eb1ddb017260588ed4/distributed-2021.3.0-py3-none-any.whl (675kB)\n",
            "\u001b[K     |████████████████████████████████| 675kB 15.9MB/s \n",
            "\u001b[?25hRequirement already satisfied: python-dateutil>=2.7.3 in /usr/local/lib/python3.7/dist-packages (from pandas>=0.23.0; extra == \"complete\"->dask[complete]) (2.8.1)\n",
            "Requirement already satisfied: pytz>=2017.2 in /usr/local/lib/python3.7/dist-packages (from pandas>=0.23.0; extra == \"complete\"->dask[complete]) (2018.9)\n",
            "Requirement already satisfied: importlib-metadata; python_version < \"3.8\" in /usr/local/lib/python3.7/dist-packages (from fsspec>=0.6.0; extra == \"complete\"->dask[complete]) (3.7.2)\n",
            "Collecting locket\n",
            "  Downloading https://files.pythonhosted.org/packages/50/b8/e789e45b9b9c2db75e9d9e6ceb022c8d1d7e49b2c085ce8c05600f90a96b/locket-0.2.1-py2.py3-none-any.whl\n",
            "Requirement already satisfied: pillow>=4.0 in /usr/local/lib/python3.7/dist-packages (from bokeh>=1.0.0; extra == \"complete\"->dask[complete]) (7.0.0)\n",
            "Requirement already satisfied: packaging>=16.8 in /usr/local/lib/python3.7/dist-packages (from bokeh>=1.0.0; extra == \"complete\"->dask[complete]) (20.9)\n",
            "Requirement already satisfied: typing-extensions>=3.7.4 in /usr/local/lib/python3.7/dist-packages (from bokeh>=1.0.0; extra == \"complete\"->dask[complete]) (3.7.4.3)\n",
            "Requirement already satisfied: Jinja2>=2.7 in /usr/local/lib/python3.7/dist-packages (from bokeh>=1.0.0; extra == \"complete\"->dask[complete]) (2.11.3)\n",
            "Requirement already satisfied: tornado>=5.1 in /usr/local/lib/python3.7/dist-packages (from bokeh>=1.0.0; extra == \"complete\"->dask[complete]) (5.1.1)\n",
            "Requirement already satisfied: tblib>=1.6.0 in /usr/local/lib/python3.7/dist-packages (from distributed>=2.0; extra == \"complete\"->dask[complete]) (1.7.0)\n",
            "Requirement already satisfied: msgpack>=0.6.0 in /usr/local/lib/python3.7/dist-packages (from distributed>=2.0; extra == \"complete\"->dask[complete]) (1.0.2)\n",
            "Requirement already satisfied: zict>=0.1.3 in /usr/local/lib/python3.7/dist-packages (from distributed>=2.0; extra == \"complete\"->dask[complete]) (2.0.0)\n",
            "Requirement already satisfied: psutil>=5.0 in /usr/local/lib/python3.7/dist-packages (from distributed>=2.0; extra == \"complete\"->dask[complete]) (5.4.8)\n",
            "Requirement already satisfied: setuptools in /usr/local/lib/python3.7/dist-packages (from distributed>=2.0; extra == \"complete\"->dask[complete]) (54.1.2)\n",
            "Requirement already satisfied: sortedcontainers!=2.0.0,!=2.0.1 in /usr/local/lib/python3.7/dist-packages (from distributed>=2.0; extra == \"complete\"->dask[complete]) (2.3.0)\n",
            "Requirement already satisfied: click>=6.6 in /usr/local/lib/python3.7/dist-packages (from distributed>=2.0; extra == \"complete\"->dask[complete]) (7.1.2)\n",
            "Requirement already satisfied: six>=1.5 in /usr/local/lib/python3.7/dist-packages (from python-dateutil>=2.7.3->pandas>=0.23.0; extra == \"complete\"->dask[complete]) (1.15.0)\n",
            "Requirement already satisfied: zipp>=0.5 in /usr/local/lib/python3.7/dist-packages (from importlib-metadata; python_version < \"3.8\"->fsspec>=0.6.0; extra == \"complete\"->dask[complete]) (3.4.1)\n",
            "Requirement already satisfied: pyparsing>=2.0.2 in /usr/local/lib/python3.7/dist-packages (from packaging>=16.8->bokeh>=1.0.0; extra == \"complete\"->dask[complete]) (2.4.7)\n",
            "Requirement already satisfied: MarkupSafe>=0.23 in /usr/local/lib/python3.7/dist-packages (from Jinja2>=2.7->bokeh>=1.0.0; extra == \"complete\"->dask[complete]) (1.1.1)\n",
            "Requirement already satisfied: heapdict in /usr/local/lib/python3.7/dist-packages (from zict>=0.1.3->distributed>=2.0; extra == \"complete\"->dask[complete]) (1.0.1)\n",
            "\u001b[31mERROR: distributed 2021.3.0 has requirement cloudpickle>=1.5.0, but you'll have cloudpickle 1.3.0 which is incompatible.\u001b[0m\n",
            "\u001b[31mERROR: distributed 2021.3.0 has requirement dask>=2021.03.0, but you'll have dask 2.12.0 which is incompatible.\u001b[0m\n",
            "Installing collected packages: fsspec, locket, partd, distributed\n",
            "  Found existing installation: distributed 1.25.3\n",
            "    Uninstalling distributed-1.25.3:\n",
            "      Successfully uninstalled distributed-1.25.3\n",
            "Successfully installed distributed-2021.3.0 fsspec-0.8.7 locket-0.2.1 partd-1.1.0\n"
          ],
          "name": "stdout"
        }
      ]
    },
    {
      "cell_type": "code",
      "metadata": {
        "colab": {
          "base_uri": "https://localhost:8080/"
        },
        "id": "6J3xt9fwsXns",
        "outputId": "da2ed64d-068e-4998-91f0-9727042f5ce4"
      },
      "source": [
        "%pip install dask --upgrade"
      ],
      "execution_count": 2,
      "outputs": [
        {
          "output_type": "stream",
          "text": [
            "Collecting dask\n",
            "\u001b[?25l  Downloading https://files.pythonhosted.org/packages/2e/86/95faa4a9c1f7fbfa2df2ae9e7e1a11349cb97a81e2f38ff9dda301606882/dask-2021.3.0-py3-none-any.whl (925kB)\n",
            "\r\u001b[K     |▍                               | 10kB 15.3MB/s eta 0:00:01\r\u001b[K     |▊                               | 20kB 21.7MB/s eta 0:00:01\r\u001b[K     |█                               | 30kB 14.9MB/s eta 0:00:01\r\u001b[K     |█▍                              | 40kB 16.6MB/s eta 0:00:01\r\u001b[K     |█▊                              | 51kB 14.8MB/s eta 0:00:01\r\u001b[K     |██▏                             | 61kB 13.1MB/s eta 0:00:01\r\u001b[K     |██▌                             | 71kB 11.5MB/s eta 0:00:01\r\u001b[K     |██▉                             | 81kB 12.6MB/s eta 0:00:01\r\u001b[K     |███▏                            | 92kB 11.7MB/s eta 0:00:01\r\u001b[K     |███▌                            | 102kB 12.0MB/s eta 0:00:01\r\u001b[K     |████                            | 112kB 12.0MB/s eta 0:00:01\r\u001b[K     |████▎                           | 122kB 12.0MB/s eta 0:00:01\r\u001b[K     |████▋                           | 133kB 12.0MB/s eta 0:00:01\r\u001b[K     |█████                           | 143kB 12.0MB/s eta 0:00:01\r\u001b[K     |█████▎                          | 153kB 12.0MB/s eta 0:00:01\r\u001b[K     |█████▋                          | 163kB 12.0MB/s eta 0:00:01\r\u001b[K     |██████                          | 174kB 12.0MB/s eta 0:00:01\r\u001b[K     |██████▍                         | 184kB 12.0MB/s eta 0:00:01\r\u001b[K     |██████▊                         | 194kB 12.0MB/s eta 0:00:01\r\u001b[K     |███████                         | 204kB 12.0MB/s eta 0:00:01\r\u001b[K     |███████▍                        | 215kB 12.0MB/s eta 0:00:01\r\u001b[K     |███████▉                        | 225kB 12.0MB/s eta 0:00:01\r\u001b[K     |████████▏                       | 235kB 12.0MB/s eta 0:00:01\r\u001b[K     |████████▌                       | 245kB 12.0MB/s eta 0:00:01\r\u001b[K     |████████▉                       | 256kB 12.0MB/s eta 0:00:01\r\u001b[K     |█████████▏                      | 266kB 12.0MB/s eta 0:00:01\r\u001b[K     |█████████▋                      | 276kB 12.0MB/s eta 0:00:01\r\u001b[K     |██████████                      | 286kB 12.0MB/s eta 0:00:01\r\u001b[K     |██████████▎                     | 296kB 12.0MB/s eta 0:00:01\r\u001b[K     |██████████▋                     | 307kB 12.0MB/s eta 0:00:01\r\u001b[K     |███████████                     | 317kB 12.0MB/s eta 0:00:01\r\u001b[K     |███████████▎                    | 327kB 12.0MB/s eta 0:00:01\r\u001b[K     |███████████▊                    | 337kB 12.0MB/s eta 0:00:01\r\u001b[K     |████████████                    | 348kB 12.0MB/s eta 0:00:01\r\u001b[K     |████████████▍                   | 358kB 12.0MB/s eta 0:00:01\r\u001b[K     |████████████▊                   | 368kB 12.0MB/s eta 0:00:01\r\u001b[K     |█████████████                   | 378kB 12.0MB/s eta 0:00:01\r\u001b[K     |█████████████▌                  | 389kB 12.0MB/s eta 0:00:01\r\u001b[K     |█████████████▉                  | 399kB 12.0MB/s eta 0:00:01\r\u001b[K     |██████████████▏                 | 409kB 12.0MB/s eta 0:00:01\r\u001b[K     |██████████████▌                 | 419kB 12.0MB/s eta 0:00:01\r\u001b[K     |██████████████▉                 | 430kB 12.0MB/s eta 0:00:01\r\u001b[K     |███████████████▏                | 440kB 12.0MB/s eta 0:00:01\r\u001b[K     |███████████████▋                | 450kB 12.0MB/s eta 0:00:01\r\u001b[K     |████████████████                | 460kB 12.0MB/s eta 0:00:01\r\u001b[K     |████████████████▎               | 471kB 12.0MB/s eta 0:00:01\r\u001b[K     |████████████████▋               | 481kB 12.0MB/s eta 0:00:01\r\u001b[K     |█████████████████               | 491kB 12.0MB/s eta 0:00:01\r\u001b[K     |█████████████████▍              | 501kB 12.0MB/s eta 0:00:01\r\u001b[K     |█████████████████▊              | 512kB 12.0MB/s eta 0:00:01\r\u001b[K     |██████████████████              | 522kB 12.0MB/s eta 0:00:01\r\u001b[K     |██████████████████▍             | 532kB 12.0MB/s eta 0:00:01\r\u001b[K     |██████████████████▊             | 542kB 12.0MB/s eta 0:00:01\r\u001b[K     |███████████████████▏            | 552kB 12.0MB/s eta 0:00:01\r\u001b[K     |███████████████████▌            | 563kB 12.0MB/s eta 0:00:01\r\u001b[K     |███████████████████▉            | 573kB 12.0MB/s eta 0:00:01\r\u001b[K     |████████████████████▏           | 583kB 12.0MB/s eta 0:00:01\r\u001b[K     |████████████████████▌           | 593kB 12.0MB/s eta 0:00:01\r\u001b[K     |████████████████████▉           | 604kB 12.0MB/s eta 0:00:01\r\u001b[K     |█████████████████████▎          | 614kB 12.0MB/s eta 0:00:01\r\u001b[K     |█████████████████████▋          | 624kB 12.0MB/s eta 0:00:01\r\u001b[K     |██████████████████████          | 634kB 12.0MB/s eta 0:00:01\r\u001b[K     |██████████████████████▎         | 645kB 12.0MB/s eta 0:00:01\r\u001b[K     |██████████████████████▋         | 655kB 12.0MB/s eta 0:00:01\r\u001b[K     |███████████████████████         | 665kB 12.0MB/s eta 0:00:01\r\u001b[K     |███████████████████████▍        | 675kB 12.0MB/s eta 0:00:01\r\u001b[K     |███████████████████████▊        | 686kB 12.0MB/s eta 0:00:01\r\u001b[K     |████████████████████████        | 696kB 12.0MB/s eta 0:00:01\r\u001b[K     |████████████████████████▍       | 706kB 12.0MB/s eta 0:00:01\r\u001b[K     |████████████████████████▉       | 716kB 12.0MB/s eta 0:00:01\r\u001b[K     |█████████████████████████▏      | 727kB 12.0MB/s eta 0:00:01\r\u001b[K     |█████████████████████████▌      | 737kB 12.0MB/s eta 0:00:01\r\u001b[K     |█████████████████████████▉      | 747kB 12.0MB/s eta 0:00:01\r\u001b[K     |██████████████████████████▏     | 757kB 12.0MB/s eta 0:00:01\r\u001b[K     |██████████████████████████▌     | 768kB 12.0MB/s eta 0:00:01\r\u001b[K     |███████████████████████████     | 778kB 12.0MB/s eta 0:00:01\r\u001b[K     |███████████████████████████▎    | 788kB 12.0MB/s eta 0:00:01\r\u001b[K     |███████████████████████████▋    | 798kB 12.0MB/s eta 0:00:01\r\u001b[K     |████████████████████████████    | 808kB 12.0MB/s eta 0:00:01\r\u001b[K     |████████████████████████████▎   | 819kB 12.0MB/s eta 0:00:01\r\u001b[K     |████████████████████████████▊   | 829kB 12.0MB/s eta 0:00:01\r\u001b[K     |█████████████████████████████   | 839kB 12.0MB/s eta 0:00:01\r\u001b[K     |█████████████████████████████▍  | 849kB 12.0MB/s eta 0:00:01\r\u001b[K     |█████████████████████████████▊  | 860kB 12.0MB/s eta 0:00:01\r\u001b[K     |██████████████████████████████  | 870kB 12.0MB/s eta 0:00:01\r\u001b[K     |██████████████████████████████▍ | 880kB 12.0MB/s eta 0:00:01\r\u001b[K     |██████████████████████████████▉ | 890kB 12.0MB/s eta 0:00:01\r\u001b[K     |███████████████████████████████▏| 901kB 12.0MB/s eta 0:00:01\r\u001b[K     |███████████████████████████████▌| 911kB 12.0MB/s eta 0:00:01\r\u001b[K     |███████████████████████████████▉| 921kB 12.0MB/s eta 0:00:01\r\u001b[K     |████████████████████████████████| 931kB 12.0MB/s \n",
            "\u001b[?25hRequirement already satisfied, skipping upgrade: pyyaml in /usr/local/lib/python3.7/dist-packages (from dask) (3.13)\n",
            "\u001b[31mERROR: distributed 2021.3.0 has requirement cloudpickle>=1.5.0, but you'll have cloudpickle 1.3.0 which is incompatible.\u001b[0m\n",
            "Installing collected packages: dask\n",
            "  Found existing installation: dask 2.12.0\n",
            "    Uninstalling dask-2.12.0:\n",
            "      Successfully uninstalled dask-2.12.0\n",
            "Successfully installed dask-2021.3.0\n"
          ],
          "name": "stdout"
        }
      ]
    },
    {
      "cell_type": "code",
      "metadata": {
        "colab": {
          "base_uri": "https://localhost:8080/",
          "height": 245
        },
        "id": "gTR6xRdwscHs",
        "outputId": "4d52fb2c-b8f1-4690-97a8-c5964cda1bc3"
      },
      "source": [
        "%pip install cloudpickle --upgrade"
      ],
      "execution_count": 3,
      "outputs": [
        {
          "output_type": "stream",
          "text": [
            "Collecting cloudpickle\n",
            "  Downloading https://files.pythonhosted.org/packages/e7/e3/898487e5dbeb612054cf2e0c188463acb358167fef749c53c8bb8918cea1/cloudpickle-1.6.0-py3-none-any.whl\n",
            "Installing collected packages: cloudpickle\n",
            "  Found existing installation: cloudpickle 1.3.0\n",
            "    Uninstalling cloudpickle-1.3.0:\n",
            "      Successfully uninstalled cloudpickle-1.3.0\n",
            "Successfully installed cloudpickle-1.6.0\n"
          ],
          "name": "stdout"
        },
        {
          "output_type": "display_data",
          "data": {
            "application/vnd.colab-display-data+json": {
              "pip_warning": {
                "packages": [
                  "cloudpickle"
                ]
              }
            }
          },
          "metadata": {
            "tags": []
          }
        }
      ]
    },
    {
      "cell_type": "code",
      "metadata": {
        "id": "0x1DhvwrBUGr"
      },
      "source": [
        "import dask\n",
        "import dask.array as da\n",
        "import dask.dataframe as dd\n",
        "import dask.delayed as delayed\n",
        "import pandas as pd\n",
        "import matplotlib.pyplot as plt\n",
        "import datetime"
      ],
      "execution_count": 60,
      "outputs": []
    },
    {
      "cell_type": "code",
      "metadata": {
        "id": "DrliEx-WDMVl",
        "colab": {
          "base_uri": "https://localhost:8080/"
        },
        "outputId": "c701675b-8629-4cbc-bff8-9912febb0fa4"
      },
      "source": [
        "dask_sch = {\n",
        "    'THREADS': 'threads',           # planificator pe fire de executie\n",
        "    'PROCESSES': 'processes',       # planificator pe procese\n",
        "    'SYNCRONOUS': 'synchronous'     # planificator sincron (rulare sincron)\n",
        "}\n",
        "dask_scheduler_selected = 'THREADS'\n",
        "dask.config.set(scheduler=dask_sch[dask_scheduler_selected])"
      ],
      "execution_count": 61,
      "outputs": [
        {
          "output_type": "execute_result",
          "data": {
            "text/plain": [
              "<dask.config.set at 0x7f843b525110>"
            ]
          },
          "metadata": {
            "tags": []
          },
          "execution_count": 61
        }
      ]
    },
    {
      "cell_type": "code",
      "metadata": {
        "id": "5rMKcKgctkqM"
      },
      "source": [
        "scheduler_types = {\n",
        "    'MULTIPROCESSING': 'multiprocessing',\n",
        "    'PROCESSES': 'processes',\n",
        "    'SINGLE-THREADED': 'single-threaded',\n",
        "    'SYNC': 'sync',\n",
        "    'SYNCHRONOUS': 'synchronous',\n",
        "    'THREADING': 'threading',\n",
        "    'THREADS': 'threads'\n",
        "}"
      ],
      "execution_count": 62,
      "outputs": []
    },
    {
      "cell_type": "code",
      "metadata": {
        "id": "cxmD_XdCDq-J",
        "colab": {
          "base_uri": "https://localhost:8080/"
        },
        "outputId": "9b1bd331-6735-4a3e-f195-2ecc99183da4"
      },
      "source": [
        "%time bitcoin = dd.read_csv('BitcoinUSD.csv')"
      ],
      "execution_count": 63,
      "outputs": [
        {
          "output_type": "stream",
          "text": [
            "CPU times: user 13.7 ms, sys: 756 µs, total: 14.5 ms\n",
            "Wall time: 17.6 ms\n"
          ],
          "name": "stdout"
        }
      ]
    },
    {
      "cell_type": "code",
      "metadata": {
        "colab": {
          "base_uri": "https://localhost:8080/",
          "height": 953
        },
        "id": "Ea_aX7D1tsVh",
        "outputId": "ff5857d4-0514-4821-8639-e1984cda6c61"
      },
      "source": [
        "for key, value in scheduler_types.items():\n",
        "    print(f'{key} run:')\n",
        "    %time bitcoin.compute(scheduler=value)\n",
        "    print('----------------------------')\n",
        "print('Without scheduler:')\n",
        "%time bitcoin.compute()"
      ],
      "execution_count": 34,
      "outputs": [
        {
          "output_type": "stream",
          "text": [
            "MULTIPROCESSING run:\n",
            "CPU times: user 102 ms, sys: 112 ms, total: 215 ms\n",
            "Wall time: 2.83 s\n",
            "----------------------------\n",
            "PROCESSES run:\n",
            "CPU times: user 82.2 ms, sys: 111 ms, total: 193 ms\n",
            "Wall time: 2.75 s\n",
            "----------------------------\n",
            "SINGLE-THREADED run:\n",
            "CPU times: user 933 ms, sys: 32.2 ms, total: 966 ms\n",
            "Wall time: 968 ms\n",
            "----------------------------\n",
            "SYNC run:\n",
            "CPU times: user 911 ms, sys: 31.6 ms, total: 942 ms\n",
            "Wall time: 952 ms\n",
            "----------------------------\n",
            "SYNCHRONOUS run:\n",
            "CPU times: user 941 ms, sys: 35.6 ms, total: 977 ms\n",
            "Wall time: 984 ms\n",
            "----------------------------\n",
            "THREADING run:\n",
            "CPU times: user 1.12 s, sys: 63.4 ms, total: 1.18 s\n",
            "Wall time: 871 ms\n",
            "----------------------------\n",
            "THREADS run:\n",
            "CPU times: user 1.13 s, sys: 61.9 ms, total: 1.19 s\n",
            "Wall time: 874 ms\n",
            "----------------------------\n",
            "Without scheduler:\n",
            "CPU times: user 1.13 s, sys: 56.6 ms, total: 1.18 s\n",
            "Wall time: 872 ms\n"
          ],
          "name": "stdout"
        },
        {
          "output_type": "execute_result",
          "data": {
            "text/html": [
              "<div>\n",
              "<style scoped>\n",
              "    .dataframe tbody tr th:only-of-type {\n",
              "        vertical-align: middle;\n",
              "    }\n",
              "\n",
              "    .dataframe tbody tr th {\n",
              "        vertical-align: top;\n",
              "    }\n",
              "\n",
              "    .dataframe thead th {\n",
              "        text-align: right;\n",
              "    }\n",
              "</style>\n",
              "<table border=\"1\" class=\"dataframe\">\n",
              "  <thead>\n",
              "    <tr style=\"text-align: right;\">\n",
              "      <th></th>\n",
              "      <th>Timestamp</th>\n",
              "      <th>Open</th>\n",
              "      <th>High</th>\n",
              "      <th>Low</th>\n",
              "      <th>Close</th>\n",
              "      <th>Volume_(BTC)</th>\n",
              "      <th>Volume_(Currency)</th>\n",
              "      <th>Weighted_Price</th>\n",
              "    </tr>\n",
              "  </thead>\n",
              "  <tbody>\n",
              "    <tr>\n",
              "      <th>0</th>\n",
              "      <td>1325317920</td>\n",
              "      <td>4.39</td>\n",
              "      <td>4.39</td>\n",
              "      <td>4.39</td>\n",
              "      <td>4.39</td>\n",
              "      <td>0.455581</td>\n",
              "      <td>2.000000</td>\n",
              "      <td>4.39</td>\n",
              "    </tr>\n",
              "    <tr>\n",
              "      <th>1</th>\n",
              "      <td>1325317980</td>\n",
              "      <td>NaN</td>\n",
              "      <td>NaN</td>\n",
              "      <td>NaN</td>\n",
              "      <td>NaN</td>\n",
              "      <td>NaN</td>\n",
              "      <td>NaN</td>\n",
              "      <td>NaN</td>\n",
              "    </tr>\n",
              "    <tr>\n",
              "      <th>2</th>\n",
              "      <td>1325318040</td>\n",
              "      <td>NaN</td>\n",
              "      <td>NaN</td>\n",
              "      <td>NaN</td>\n",
              "      <td>NaN</td>\n",
              "      <td>NaN</td>\n",
              "      <td>NaN</td>\n",
              "      <td>NaN</td>\n",
              "    </tr>\n",
              "    <tr>\n",
              "      <th>3</th>\n",
              "      <td>1325318100</td>\n",
              "      <td>NaN</td>\n",
              "      <td>NaN</td>\n",
              "      <td>NaN</td>\n",
              "      <td>NaN</td>\n",
              "      <td>NaN</td>\n",
              "      <td>NaN</td>\n",
              "      <td>NaN</td>\n",
              "    </tr>\n",
              "    <tr>\n",
              "      <th>4</th>\n",
              "      <td>1325318160</td>\n",
              "      <td>NaN</td>\n",
              "      <td>NaN</td>\n",
              "      <td>NaN</td>\n",
              "      <td>NaN</td>\n",
              "      <td>NaN</td>\n",
              "      <td>NaN</td>\n",
              "      <td>NaN</td>\n",
              "    </tr>\n",
              "    <tr>\n",
              "      <th>...</th>\n",
              "      <td>...</td>\n",
              "      <td>...</td>\n",
              "      <td>...</td>\n",
              "      <td>...</td>\n",
              "      <td>...</td>\n",
              "      <td>...</td>\n",
              "      <td>...</td>\n",
              "      <td>...</td>\n",
              "    </tr>\n",
              "    <tr>\n",
              "      <th>309098</th>\n",
              "      <td>1420201920</td>\n",
              "      <td>315.33</td>\n",
              "      <td>315.33</td>\n",
              "      <td>315.33</td>\n",
              "      <td>315.33</td>\n",
              "      <td>0.362500</td>\n",
              "      <td>114.307125</td>\n",
              "      <td>315.33</td>\n",
              "    </tr>\n",
              "    <tr>\n",
              "      <th>309099</th>\n",
              "      <td>1420201980</td>\n",
              "      <td>NaN</td>\n",
              "      <td>NaN</td>\n",
              "      <td>NaN</td>\n",
              "      <td>NaN</td>\n",
              "      <td>NaN</td>\n",
              "      <td>NaN</td>\n",
              "      <td>NaN</td>\n",
              "    </tr>\n",
              "    <tr>\n",
              "      <th>309100</th>\n",
              "      <td>1420202040</td>\n",
              "      <td>315.27</td>\n",
              "      <td>315.27</td>\n",
              "      <td>315.27</td>\n",
              "      <td>315.27</td>\n",
              "      <td>0.160973</td>\n",
              "      <td>50.749999</td>\n",
              "      <td>315.27</td>\n",
              "    </tr>\n",
              "    <tr>\n",
              "      <th>309101</th>\n",
              "      <td>1420202100</td>\n",
              "      <td>315.27</td>\n",
              "      <td>315.27</td>\n",
              "      <td>315.27</td>\n",
              "      <td>315.27</td>\n",
              "      <td>0.581200</td>\n",
              "      <td>183.234924</td>\n",
              "      <td>315.27</td>\n",
              "    </tr>\n",
              "    <tr>\n",
              "      <th>309102</th>\n",
              "      <td>1420202160</td>\n",
              "      <td>315.36</td>\n",
              "      <td>315.36</td>\n",
              "      <td>315.36</td>\n",
              "      <td>315.36</td>\n",
              "      <td>0.000000</td>\n",
              "      <td>NaN</td>\n",
              "      <td>NaN</td>\n",
              "    </tr>\n",
              "  </tbody>\n",
              "</table>\n",
              "<p>1581405 rows × 8 columns</p>\n",
              "</div>"
            ],
            "text/plain": [
              "         Timestamp    Open  ...  Volume_(Currency)  Weighted_Price\n",
              "0       1325317920    4.39  ...           2.000000            4.39\n",
              "1       1325317980     NaN  ...                NaN             NaN\n",
              "2       1325318040     NaN  ...                NaN             NaN\n",
              "3       1325318100     NaN  ...                NaN             NaN\n",
              "4       1325318160     NaN  ...                NaN             NaN\n",
              "...            ...     ...  ...                ...             ...\n",
              "309098  1420201920  315.33  ...         114.307125          315.33\n",
              "309099  1420201980     NaN  ...                NaN             NaN\n",
              "309100  1420202040  315.27  ...          50.749999          315.27\n",
              "309101  1420202100  315.27  ...         183.234924          315.27\n",
              "309102  1420202160  315.36  ...                NaN             NaN\n",
              "\n",
              "[1581405 rows x 8 columns]"
            ]
          },
          "metadata": {
            "tags": []
          },
          "execution_count": 34
        }
      ]
    },
    {
      "cell_type": "markdown",
      "metadata": {
        "id": "nXmRqykEfoOu"
      },
      "source": [
        "OLD PROJECT:\n",
        "CPU times: user 261 ms, sys: 63.2 ms, total: 324 ms\n",
        "Wall time: 357 ms"
      ]
    },
    {
      "cell_type": "code",
      "metadata": {
        "id": "X4X463QzGazC",
        "colab": {
          "base_uri": "https://localhost:8080/"
        },
        "outputId": "3ad75a73-5583-4187-dc1c-fb078f79b74b"
      },
      "source": [
        "bitcoin.npartitions"
      ],
      "execution_count": 35,
      "outputs": [
        {
          "output_type": "execute_result",
          "data": {
            "text/plain": [
              "2"
            ]
          },
          "metadata": {
            "tags": []
          },
          "execution_count": 35
        }
      ]
    },
    {
      "cell_type": "code",
      "metadata": {
        "id": "BondnYjwGdhs",
        "colab": {
          "base_uri": "https://localhost:8080/"
        },
        "outputId": "18d5e919-72e7-4262-cc55-b0cbab5d364a"
      },
      "source": [
        "bitcoin.map_partitions(len).compute()"
      ],
      "execution_count": 36,
      "outputs": [
        {
          "output_type": "execute_result",
          "data": {
            "text/plain": [
              "0    1272302\n",
              "1     563832\n",
              "dtype: int64"
            ]
          },
          "metadata": {
            "tags": []
          },
          "execution_count": 36
        }
      ]
    },
    {
      "cell_type": "code",
      "metadata": {
        "id": "j5BM4z1iDxgS",
        "colab": {
          "base_uri": "https://localhost:8080/",
          "height": 662
        },
        "outputId": "6e05e863-f3a4-4364-f1e1-0c3418f18fb5"
      },
      "source": [
        "bitcoin.head(20)\n"
      ],
      "execution_count": 37,
      "outputs": [
        {
          "output_type": "execute_result",
          "data": {
            "text/html": [
              "<div>\n",
              "<style scoped>\n",
              "    .dataframe tbody tr th:only-of-type {\n",
              "        vertical-align: middle;\n",
              "    }\n",
              "\n",
              "    .dataframe tbody tr th {\n",
              "        vertical-align: top;\n",
              "    }\n",
              "\n",
              "    .dataframe thead th {\n",
              "        text-align: right;\n",
              "    }\n",
              "</style>\n",
              "<table border=\"1\" class=\"dataframe\">\n",
              "  <thead>\n",
              "    <tr style=\"text-align: right;\">\n",
              "      <th></th>\n",
              "      <th>Timestamp</th>\n",
              "      <th>Open</th>\n",
              "      <th>High</th>\n",
              "      <th>Low</th>\n",
              "      <th>Close</th>\n",
              "      <th>Volume_(BTC)</th>\n",
              "      <th>Volume_(Currency)</th>\n",
              "      <th>Weighted_Price</th>\n",
              "    </tr>\n",
              "  </thead>\n",
              "  <tbody>\n",
              "    <tr>\n",
              "      <th>0</th>\n",
              "      <td>1325317920</td>\n",
              "      <td>4.39</td>\n",
              "      <td>4.39</td>\n",
              "      <td>4.39</td>\n",
              "      <td>4.39</td>\n",
              "      <td>0.455581</td>\n",
              "      <td>2.0</td>\n",
              "      <td>4.39</td>\n",
              "    </tr>\n",
              "    <tr>\n",
              "      <th>1</th>\n",
              "      <td>1325317980</td>\n",
              "      <td>NaN</td>\n",
              "      <td>NaN</td>\n",
              "      <td>NaN</td>\n",
              "      <td>NaN</td>\n",
              "      <td>NaN</td>\n",
              "      <td>NaN</td>\n",
              "      <td>NaN</td>\n",
              "    </tr>\n",
              "    <tr>\n",
              "      <th>2</th>\n",
              "      <td>1325318040</td>\n",
              "      <td>NaN</td>\n",
              "      <td>NaN</td>\n",
              "      <td>NaN</td>\n",
              "      <td>NaN</td>\n",
              "      <td>NaN</td>\n",
              "      <td>NaN</td>\n",
              "      <td>NaN</td>\n",
              "    </tr>\n",
              "    <tr>\n",
              "      <th>3</th>\n",
              "      <td>1325318100</td>\n",
              "      <td>NaN</td>\n",
              "      <td>NaN</td>\n",
              "      <td>NaN</td>\n",
              "      <td>NaN</td>\n",
              "      <td>NaN</td>\n",
              "      <td>NaN</td>\n",
              "      <td>NaN</td>\n",
              "    </tr>\n",
              "    <tr>\n",
              "      <th>4</th>\n",
              "      <td>1325318160</td>\n",
              "      <td>NaN</td>\n",
              "      <td>NaN</td>\n",
              "      <td>NaN</td>\n",
              "      <td>NaN</td>\n",
              "      <td>NaN</td>\n",
              "      <td>NaN</td>\n",
              "      <td>NaN</td>\n",
              "    </tr>\n",
              "    <tr>\n",
              "      <th>5</th>\n",
              "      <td>1325318220</td>\n",
              "      <td>NaN</td>\n",
              "      <td>NaN</td>\n",
              "      <td>NaN</td>\n",
              "      <td>NaN</td>\n",
              "      <td>NaN</td>\n",
              "      <td>NaN</td>\n",
              "      <td>NaN</td>\n",
              "    </tr>\n",
              "    <tr>\n",
              "      <th>6</th>\n",
              "      <td>1325318280</td>\n",
              "      <td>NaN</td>\n",
              "      <td>NaN</td>\n",
              "      <td>NaN</td>\n",
              "      <td>NaN</td>\n",
              "      <td>NaN</td>\n",
              "      <td>NaN</td>\n",
              "      <td>NaN</td>\n",
              "    </tr>\n",
              "    <tr>\n",
              "      <th>7</th>\n",
              "      <td>1325318340</td>\n",
              "      <td>NaN</td>\n",
              "      <td>NaN</td>\n",
              "      <td>NaN</td>\n",
              "      <td>NaN</td>\n",
              "      <td>NaN</td>\n",
              "      <td>NaN</td>\n",
              "      <td>NaN</td>\n",
              "    </tr>\n",
              "    <tr>\n",
              "      <th>8</th>\n",
              "      <td>1325318400</td>\n",
              "      <td>NaN</td>\n",
              "      <td>NaN</td>\n",
              "      <td>NaN</td>\n",
              "      <td>NaN</td>\n",
              "      <td>NaN</td>\n",
              "      <td>NaN</td>\n",
              "      <td>NaN</td>\n",
              "    </tr>\n",
              "    <tr>\n",
              "      <th>9</th>\n",
              "      <td>1325318460</td>\n",
              "      <td>NaN</td>\n",
              "      <td>NaN</td>\n",
              "      <td>NaN</td>\n",
              "      <td>NaN</td>\n",
              "      <td>NaN</td>\n",
              "      <td>NaN</td>\n",
              "      <td>NaN</td>\n",
              "    </tr>\n",
              "    <tr>\n",
              "      <th>10</th>\n",
              "      <td>1325318520</td>\n",
              "      <td>NaN</td>\n",
              "      <td>NaN</td>\n",
              "      <td>NaN</td>\n",
              "      <td>NaN</td>\n",
              "      <td>NaN</td>\n",
              "      <td>NaN</td>\n",
              "      <td>NaN</td>\n",
              "    </tr>\n",
              "    <tr>\n",
              "      <th>11</th>\n",
              "      <td>1325318580</td>\n",
              "      <td>NaN</td>\n",
              "      <td>NaN</td>\n",
              "      <td>NaN</td>\n",
              "      <td>NaN</td>\n",
              "      <td>NaN</td>\n",
              "      <td>NaN</td>\n",
              "      <td>NaN</td>\n",
              "    </tr>\n",
              "    <tr>\n",
              "      <th>12</th>\n",
              "      <td>1325318640</td>\n",
              "      <td>NaN</td>\n",
              "      <td>NaN</td>\n",
              "      <td>NaN</td>\n",
              "      <td>NaN</td>\n",
              "      <td>NaN</td>\n",
              "      <td>NaN</td>\n",
              "      <td>NaN</td>\n",
              "    </tr>\n",
              "    <tr>\n",
              "      <th>13</th>\n",
              "      <td>1325318700</td>\n",
              "      <td>NaN</td>\n",
              "      <td>NaN</td>\n",
              "      <td>NaN</td>\n",
              "      <td>NaN</td>\n",
              "      <td>NaN</td>\n",
              "      <td>NaN</td>\n",
              "      <td>NaN</td>\n",
              "    </tr>\n",
              "    <tr>\n",
              "      <th>14</th>\n",
              "      <td>1325318760</td>\n",
              "      <td>NaN</td>\n",
              "      <td>NaN</td>\n",
              "      <td>NaN</td>\n",
              "      <td>NaN</td>\n",
              "      <td>NaN</td>\n",
              "      <td>NaN</td>\n",
              "      <td>NaN</td>\n",
              "    </tr>\n",
              "    <tr>\n",
              "      <th>15</th>\n",
              "      <td>1325318820</td>\n",
              "      <td>NaN</td>\n",
              "      <td>NaN</td>\n",
              "      <td>NaN</td>\n",
              "      <td>NaN</td>\n",
              "      <td>NaN</td>\n",
              "      <td>NaN</td>\n",
              "      <td>NaN</td>\n",
              "    </tr>\n",
              "    <tr>\n",
              "      <th>16</th>\n",
              "      <td>1325318880</td>\n",
              "      <td>NaN</td>\n",
              "      <td>NaN</td>\n",
              "      <td>NaN</td>\n",
              "      <td>NaN</td>\n",
              "      <td>NaN</td>\n",
              "      <td>NaN</td>\n",
              "      <td>NaN</td>\n",
              "    </tr>\n",
              "    <tr>\n",
              "      <th>17</th>\n",
              "      <td>1325318940</td>\n",
              "      <td>NaN</td>\n",
              "      <td>NaN</td>\n",
              "      <td>NaN</td>\n",
              "      <td>NaN</td>\n",
              "      <td>NaN</td>\n",
              "      <td>NaN</td>\n",
              "      <td>NaN</td>\n",
              "    </tr>\n",
              "    <tr>\n",
              "      <th>18</th>\n",
              "      <td>1325319000</td>\n",
              "      <td>NaN</td>\n",
              "      <td>NaN</td>\n",
              "      <td>NaN</td>\n",
              "      <td>NaN</td>\n",
              "      <td>NaN</td>\n",
              "      <td>NaN</td>\n",
              "      <td>NaN</td>\n",
              "    </tr>\n",
              "    <tr>\n",
              "      <th>19</th>\n",
              "      <td>1325319060</td>\n",
              "      <td>NaN</td>\n",
              "      <td>NaN</td>\n",
              "      <td>NaN</td>\n",
              "      <td>NaN</td>\n",
              "      <td>NaN</td>\n",
              "      <td>NaN</td>\n",
              "      <td>NaN</td>\n",
              "    </tr>\n",
              "  </tbody>\n",
              "</table>\n",
              "</div>"
            ],
            "text/plain": [
              "     Timestamp  Open  High  ...  Volume_(BTC)  Volume_(Currency)  Weighted_Price\n",
              "0   1325317920  4.39  4.39  ...      0.455581                2.0            4.39\n",
              "1   1325317980   NaN   NaN  ...           NaN                NaN             NaN\n",
              "2   1325318040   NaN   NaN  ...           NaN                NaN             NaN\n",
              "3   1325318100   NaN   NaN  ...           NaN                NaN             NaN\n",
              "4   1325318160   NaN   NaN  ...           NaN                NaN             NaN\n",
              "5   1325318220   NaN   NaN  ...           NaN                NaN             NaN\n",
              "6   1325318280   NaN   NaN  ...           NaN                NaN             NaN\n",
              "7   1325318340   NaN   NaN  ...           NaN                NaN             NaN\n",
              "8   1325318400   NaN   NaN  ...           NaN                NaN             NaN\n",
              "9   1325318460   NaN   NaN  ...           NaN                NaN             NaN\n",
              "10  1325318520   NaN   NaN  ...           NaN                NaN             NaN\n",
              "11  1325318580   NaN   NaN  ...           NaN                NaN             NaN\n",
              "12  1325318640   NaN   NaN  ...           NaN                NaN             NaN\n",
              "13  1325318700   NaN   NaN  ...           NaN                NaN             NaN\n",
              "14  1325318760   NaN   NaN  ...           NaN                NaN             NaN\n",
              "15  1325318820   NaN   NaN  ...           NaN                NaN             NaN\n",
              "16  1325318880   NaN   NaN  ...           NaN                NaN             NaN\n",
              "17  1325318940   NaN   NaN  ...           NaN                NaN             NaN\n",
              "18  1325319000   NaN   NaN  ...           NaN                NaN             NaN\n",
              "19  1325319060   NaN   NaN  ...           NaN                NaN             NaN\n",
              "\n",
              "[20 rows x 8 columns]"
            ]
          },
          "metadata": {
            "tags": []
          },
          "execution_count": 37
        }
      ]
    },
    {
      "cell_type": "code",
      "metadata": {
        "id": "m2IRrc6yDzg0",
        "colab": {
          "base_uri": "https://localhost:8080/"
        },
        "outputId": "777ba1f5-a19e-4b1b-f86f-203055b8045f"
      },
      "source": [
        "type(bitcoin)"
      ],
      "execution_count": 38,
      "outputs": [
        {
          "output_type": "execute_result",
          "data": {
            "text/plain": [
              "dask.dataframe.core.DataFrame"
            ]
          },
          "metadata": {
            "tags": []
          },
          "execution_count": 38
        }
      ]
    },
    {
      "cell_type": "code",
      "metadata": {
        "id": "nCE_kdrGD9p4"
      },
      "source": [
        "bitcoin['time']=dd.to_datetime(bitcoin.Timestamp,unit='s')"
      ],
      "execution_count": 64,
      "outputs": []
    },
    {
      "cell_type": "code",
      "metadata": {
        "id": "9qU6rOobL-14",
        "colab": {
          "base_uri": "https://localhost:8080/",
          "height": 375
        },
        "outputId": "d960bb38-b131-4e18-b613-0af23e229f7b"
      },
      "source": [
        "bitcoin.tail()"
      ],
      "execution_count": 40,
      "outputs": [
        {
          "output_type": "execute_result",
          "data": {
            "text/html": [
              "<div>\n",
              "<style scoped>\n",
              "    .dataframe tbody tr th:only-of-type {\n",
              "        vertical-align: middle;\n",
              "    }\n",
              "\n",
              "    .dataframe tbody tr th {\n",
              "        vertical-align: top;\n",
              "    }\n",
              "\n",
              "    .dataframe thead th {\n",
              "        text-align: right;\n",
              "    }\n",
              "</style>\n",
              "<table border=\"1\" class=\"dataframe\">\n",
              "  <thead>\n",
              "    <tr style=\"text-align: right;\">\n",
              "      <th></th>\n",
              "      <th>Timestamp</th>\n",
              "      <th>Open</th>\n",
              "      <th>High</th>\n",
              "      <th>Low</th>\n",
              "      <th>Close</th>\n",
              "      <th>Volume_(BTC)</th>\n",
              "      <th>Volume_(Currency)</th>\n",
              "      <th>Weighted_Price</th>\n",
              "      <th>time</th>\n",
              "    </tr>\n",
              "  </thead>\n",
              "  <tbody>\n",
              "    <tr>\n",
              "      <th>598634</th>\n",
              "      <td>1437962400</td>\n",
              "      <td>293.73</td>\n",
              "      <td>293.73</td>\n",
              "      <td>293.73</td>\n",
              "      <td>293.73</td>\n",
              "      <td>4.067700</td>\n",
              "      <td>1194.805521</td>\n",
              "      <td>293.730000</td>\n",
              "      <td>2015-07-27 02:00:00</td>\n",
              "    </tr>\n",
              "    <tr>\n",
              "      <th>598635</th>\n",
              "      <td>1437962460</td>\n",
              "      <td>293.73</td>\n",
              "      <td>293.76</td>\n",
              "      <td>293.73</td>\n",
              "      <td>293.76</td>\n",
              "      <td>4.329772</td>\n",
              "      <td>1271.909178</td>\n",
              "      <td>293.758904</td>\n",
              "      <td>2015-07-27 02:01:00</td>\n",
              "    </tr>\n",
              "    <tr>\n",
              "      <th>598636</th>\n",
              "      <td>1437962520</td>\n",
              "      <td>293.75</td>\n",
              "      <td>293.75</td>\n",
              "      <td>293.70</td>\n",
              "      <td>293.70</td>\n",
              "      <td>45.682187</td>\n",
              "      <td>13418.248303</td>\n",
              "      <td>293.730428</td>\n",
              "      <td>2015-07-27 02:02:00</td>\n",
              "    </tr>\n",
              "    <tr>\n",
              "      <th>598637</th>\n",
              "      <td>1437962580</td>\n",
              "      <td>NaN</td>\n",
              "      <td>NaN</td>\n",
              "      <td>NaN</td>\n",
              "      <td>NaN</td>\n",
              "      <td>NaN</td>\n",
              "      <td>NaN</td>\n",
              "      <td>NaN</td>\n",
              "      <td>2015-07-27 02:03:00</td>\n",
              "    </tr>\n",
              "    <tr>\n",
              "      <th>598638</th>\n",
              "      <td>14379626</td>\n",
              "      <td>NaN</td>\n",
              "      <td>NaN</td>\n",
              "      <td>NaN</td>\n",
              "      <td>NaN</td>\n",
              "      <td>NaN</td>\n",
              "      <td>NaN</td>\n",
              "      <td>NaN</td>\n",
              "      <td>1970-06-16 10:20:26</td>\n",
              "    </tr>\n",
              "  </tbody>\n",
              "</table>\n",
              "</div>"
            ],
            "text/plain": [
              "         Timestamp    Open  ...  Weighted_Price                time\n",
              "598634  1437962400  293.73  ...      293.730000 2015-07-27 02:00:00\n",
              "598635  1437962460  293.73  ...      293.758904 2015-07-27 02:01:00\n",
              "598636  1437962520  293.75  ...      293.730428 2015-07-27 02:02:00\n",
              "598637  1437962580     NaN  ...             NaN 2015-07-27 02:03:00\n",
              "598638    14379626     NaN  ...             NaN 1970-06-16 10:20:26\n",
              "\n",
              "[5 rows x 9 columns]"
            ]
          },
          "metadata": {
            "tags": []
          },
          "execution_count": 40
        }
      ]
    },
    {
      "cell_type": "code",
      "metadata": {
        "id": "YmZpx9q6EEuC"
      },
      "source": [
        "dtype = {'Close':'float64','Volume_(BTC)':'float64','Volume_(Currency)':'float64','Weighted_Price':'float64'}"
      ],
      "execution_count": 65,
      "outputs": []
    },
    {
      "cell_type": "code",
      "metadata": {
        "id": "hnc_hiqhEF-A",
        "colab": {
          "base_uri": "https://localhost:8080/",
          "height": 202
        },
        "outputId": "f7fc7ec5-ddbe-4d60-9663-76f8ca66c98e"
      },
      "source": [
        "bitcoin.head()"
      ],
      "execution_count": 42,
      "outputs": [
        {
          "output_type": "execute_result",
          "data": {
            "text/html": [
              "<div>\n",
              "<style scoped>\n",
              "    .dataframe tbody tr th:only-of-type {\n",
              "        vertical-align: middle;\n",
              "    }\n",
              "\n",
              "    .dataframe tbody tr th {\n",
              "        vertical-align: top;\n",
              "    }\n",
              "\n",
              "    .dataframe thead th {\n",
              "        text-align: right;\n",
              "    }\n",
              "</style>\n",
              "<table border=\"1\" class=\"dataframe\">\n",
              "  <thead>\n",
              "    <tr style=\"text-align: right;\">\n",
              "      <th></th>\n",
              "      <th>Timestamp</th>\n",
              "      <th>Open</th>\n",
              "      <th>High</th>\n",
              "      <th>Low</th>\n",
              "      <th>Close</th>\n",
              "      <th>Volume_(BTC)</th>\n",
              "      <th>Volume_(Currency)</th>\n",
              "      <th>Weighted_Price</th>\n",
              "      <th>time</th>\n",
              "    </tr>\n",
              "  </thead>\n",
              "  <tbody>\n",
              "    <tr>\n",
              "      <th>0</th>\n",
              "      <td>1325317920</td>\n",
              "      <td>4.39</td>\n",
              "      <td>4.39</td>\n",
              "      <td>4.39</td>\n",
              "      <td>4.39</td>\n",
              "      <td>0.455581</td>\n",
              "      <td>2.0</td>\n",
              "      <td>4.39</td>\n",
              "      <td>2011-12-31 07:52:00</td>\n",
              "    </tr>\n",
              "    <tr>\n",
              "      <th>1</th>\n",
              "      <td>1325317980</td>\n",
              "      <td>NaN</td>\n",
              "      <td>NaN</td>\n",
              "      <td>NaN</td>\n",
              "      <td>NaN</td>\n",
              "      <td>NaN</td>\n",
              "      <td>NaN</td>\n",
              "      <td>NaN</td>\n",
              "      <td>2011-12-31 07:53:00</td>\n",
              "    </tr>\n",
              "    <tr>\n",
              "      <th>2</th>\n",
              "      <td>1325318040</td>\n",
              "      <td>NaN</td>\n",
              "      <td>NaN</td>\n",
              "      <td>NaN</td>\n",
              "      <td>NaN</td>\n",
              "      <td>NaN</td>\n",
              "      <td>NaN</td>\n",
              "      <td>NaN</td>\n",
              "      <td>2011-12-31 07:54:00</td>\n",
              "    </tr>\n",
              "    <tr>\n",
              "      <th>3</th>\n",
              "      <td>1325318100</td>\n",
              "      <td>NaN</td>\n",
              "      <td>NaN</td>\n",
              "      <td>NaN</td>\n",
              "      <td>NaN</td>\n",
              "      <td>NaN</td>\n",
              "      <td>NaN</td>\n",
              "      <td>NaN</td>\n",
              "      <td>2011-12-31 07:55:00</td>\n",
              "    </tr>\n",
              "    <tr>\n",
              "      <th>4</th>\n",
              "      <td>1325318160</td>\n",
              "      <td>NaN</td>\n",
              "      <td>NaN</td>\n",
              "      <td>NaN</td>\n",
              "      <td>NaN</td>\n",
              "      <td>NaN</td>\n",
              "      <td>NaN</td>\n",
              "      <td>NaN</td>\n",
              "      <td>2011-12-31 07:56:00</td>\n",
              "    </tr>\n",
              "  </tbody>\n",
              "</table>\n",
              "</div>"
            ],
            "text/plain": [
              "    Timestamp  Open  ...  Weighted_Price                time\n",
              "0  1325317920  4.39  ...            4.39 2011-12-31 07:52:00\n",
              "1  1325317980   NaN  ...             NaN 2011-12-31 07:53:00\n",
              "2  1325318040   NaN  ...             NaN 2011-12-31 07:54:00\n",
              "3  1325318100   NaN  ...             NaN 2011-12-31 07:55:00\n",
              "4  1325318160   NaN  ...             NaN 2011-12-31 07:56:00\n",
              "\n",
              "[5 rows x 9 columns]"
            ]
          },
          "metadata": {
            "tags": []
          },
          "execution_count": 42
        }
      ]
    },
    {
      "cell_type": "code",
      "metadata": {
        "id": "G2oVHRC8EiBV",
        "colab": {
          "base_uri": "https://localhost:8080/"
        },
        "outputId": "6ecae568-3a4c-4740-fb87-c20bbf59b302"
      },
      "source": [
        "type(bitcoin)"
      ],
      "execution_count": 43,
      "outputs": [
        {
          "output_type": "execute_result",
          "data": {
            "text/plain": [
              "dask.dataframe.core.DataFrame"
            ]
          },
          "metadata": {
            "tags": []
          },
          "execution_count": 43
        }
      ]
    },
    {
      "cell_type": "code",
      "metadata": {
        "id": "HwniAzVeEj6N"
      },
      "source": [
        "bit_transf = bitcoin.dropna()"
      ],
      "execution_count": 44,
      "outputs": []
    },
    {
      "cell_type": "code",
      "metadata": {
        "id": "dKdQySV1uibl"
      },
      "source": [
        "dtype = {'Close':'float64','Volume_(BTC)':'float64','Volume_(Currency)':'float64','Weighted_Price':'float64'}"
      ],
      "execution_count": 47,
      "outputs": []
    },
    {
      "cell_type": "code",
      "metadata": {
        "colab": {
          "base_uri": "https://localhost:8080/",
          "height": 1000
        },
        "id": "XXG5F5qNtzy9",
        "outputId": "bae5a37d-b665-46af-f514-628e2b02819a"
      },
      "source": [
        "for key, value in scheduler_types.items():\n",
        "    print(f'{key} run:')\n",
        "    %time bit_transf.compute(scheduler=value)\n",
        "    print('----------------------------')\n",
        "print('Without scheduler:')\n",
        "%time bit_transf.compute()"
      ],
      "execution_count": 48,
      "outputs": [
        {
          "output_type": "stream",
          "text": [
            "MULTIPROCESSING run:\n",
            "CPU times: user 222 ms, sys: 169 ms, total: 390 ms\n",
            "Wall time: 3.21 s\n",
            "----------------------------\n",
            "PROCESSES run:\n",
            "CPU times: user 237 ms, sys: 164 ms, total: 400 ms\n",
            "Wall time: 3.16 s\n",
            "----------------------------\n",
            "SINGLE-THREADED run:\n",
            "CPU times: user 1.37 s, sys: 60.2 ms, total: 1.43 s\n",
            "Wall time: 1.44 s\n",
            "----------------------------\n",
            "SYNC run:\n",
            "CPU times: user 1.4 s, sys: 43 ms, total: 1.45 s\n",
            "Wall time: 1.46 s\n",
            "----------------------------\n",
            "SYNCHRONOUS run:\n",
            "CPU times: user 1.38 s, sys: 49.9 ms, total: 1.43 s\n",
            "Wall time: 1.44 s\n",
            "----------------------------\n",
            "THREADING run:\n",
            "CPU times: user 1.98 s, sys: 104 ms, total: 2.08 s\n",
            "Wall time: 1.19 s\n",
            "----------------------------\n",
            "THREADS run:\n",
            "CPU times: user 1.97 s, sys: 117 ms, total: 2.08 s\n",
            "Wall time: 1.23 s\n",
            "----------------------------\n",
            "Without scheduler:\n",
            "CPU times: user 2 s, sys: 115 ms, total: 2.11 s\n",
            "Wall time: 1.21 s\n"
          ],
          "name": "stdout"
        },
        {
          "output_type": "execute_result",
          "data": {
            "text/html": [
              "<div>\n",
              "<style scoped>\n",
              "    .dataframe tbody tr th:only-of-type {\n",
              "        vertical-align: middle;\n",
              "    }\n",
              "\n",
              "    .dataframe tbody tr th {\n",
              "        vertical-align: top;\n",
              "    }\n",
              "\n",
              "    .dataframe thead th {\n",
              "        text-align: right;\n",
              "    }\n",
              "</style>\n",
              "<table border=\"1\" class=\"dataframe\">\n",
              "  <thead>\n",
              "    <tr style=\"text-align: right;\">\n",
              "      <th></th>\n",
              "      <th>Timestamp</th>\n",
              "      <th>Open</th>\n",
              "      <th>High</th>\n",
              "      <th>Low</th>\n",
              "      <th>Close</th>\n",
              "      <th>Volume_(BTC)</th>\n",
              "      <th>Volume_(Currency)</th>\n",
              "      <th>Weighted_Price</th>\n",
              "      <th>time</th>\n",
              "    </tr>\n",
              "  </thead>\n",
              "  <tbody>\n",
              "    <tr>\n",
              "      <th>0</th>\n",
              "      <td>1325317920</td>\n",
              "      <td>4.39</td>\n",
              "      <td>4.39</td>\n",
              "      <td>4.39</td>\n",
              "      <td>4.39</td>\n",
              "      <td>0.455581</td>\n",
              "      <td>2.000000</td>\n",
              "      <td>4.390000</td>\n",
              "      <td>2011-12-31 07:52:00</td>\n",
              "    </tr>\n",
              "    <tr>\n",
              "      <th>478</th>\n",
              "      <td>1325346600</td>\n",
              "      <td>4.39</td>\n",
              "      <td>4.39</td>\n",
              "      <td>4.39</td>\n",
              "      <td>4.39</td>\n",
              "      <td>48.000000</td>\n",
              "      <td>210.720000</td>\n",
              "      <td>4.390000</td>\n",
              "      <td>2011-12-31 15:50:00</td>\n",
              "    </tr>\n",
              "    <tr>\n",
              "      <th>547</th>\n",
              "      <td>1325350740</td>\n",
              "      <td>4.50</td>\n",
              "      <td>4.57</td>\n",
              "      <td>4.50</td>\n",
              "      <td>4.57</td>\n",
              "      <td>37.862297</td>\n",
              "      <td>171.380338</td>\n",
              "      <td>4.526411</td>\n",
              "      <td>2011-12-31 16:59:00</td>\n",
              "    </tr>\n",
              "    <tr>\n",
              "      <th>548</th>\n",
              "      <td>1325350800</td>\n",
              "      <td>4.58</td>\n",
              "      <td>4.58</td>\n",
              "      <td>4.58</td>\n",
              "      <td>4.58</td>\n",
              "      <td>9.000000</td>\n",
              "      <td>41.220000</td>\n",
              "      <td>4.580000</td>\n",
              "      <td>2011-12-31 17:00:00</td>\n",
              "    </tr>\n",
              "    <tr>\n",
              "      <th>1224</th>\n",
              "      <td>1325391360</td>\n",
              "      <td>4.58</td>\n",
              "      <td>4.58</td>\n",
              "      <td>4.58</td>\n",
              "      <td>4.58</td>\n",
              "      <td>1.502000</td>\n",
              "      <td>6.879160</td>\n",
              "      <td>4.580000</td>\n",
              "      <td>2012-01-01 04:16:00</td>\n",
              "    </tr>\n",
              "    <tr>\n",
              "      <th>...</th>\n",
              "      <td>...</td>\n",
              "      <td>...</td>\n",
              "      <td>...</td>\n",
              "      <td>...</td>\n",
              "      <td>...</td>\n",
              "      <td>...</td>\n",
              "      <td>...</td>\n",
              "      <td>...</td>\n",
              "      <td>...</td>\n",
              "    </tr>\n",
              "    <tr>\n",
              "      <th>853507</th>\n",
              "      <td>1453254780</td>\n",
              "      <td>375.85</td>\n",
              "      <td>375.85</td>\n",
              "      <td>375.85</td>\n",
              "      <td>375.85</td>\n",
              "      <td>0.430200</td>\n",
              "      <td>161.690670</td>\n",
              "      <td>375.850000</td>\n",
              "      <td>2016-01-20 01:53:00</td>\n",
              "    </tr>\n",
              "    <tr>\n",
              "      <th>853509</th>\n",
              "      <td>1453254900</td>\n",
              "      <td>375.84</td>\n",
              "      <td>375.84</td>\n",
              "      <td>375.84</td>\n",
              "      <td>375.84</td>\n",
              "      <td>0.239000</td>\n",
              "      <td>89.825760</td>\n",
              "      <td>375.840000</td>\n",
              "      <td>2016-01-20 01:55:00</td>\n",
              "    </tr>\n",
              "    <tr>\n",
              "      <th>853522</th>\n",
              "      <td>1453255680</td>\n",
              "      <td>375.74</td>\n",
              "      <td>375.76</td>\n",
              "      <td>375.74</td>\n",
              "      <td>375.76</td>\n",
              "      <td>4.000000</td>\n",
              "      <td>1503.000098</td>\n",
              "      <td>375.750025</td>\n",
              "      <td>2016-01-20 02:08:00</td>\n",
              "    </tr>\n",
              "    <tr>\n",
              "      <th>853523</th>\n",
              "      <td>1453255740</td>\n",
              "      <td>375.76</td>\n",
              "      <td>375.76</td>\n",
              "      <td>375.76</td>\n",
              "      <td>375.76</td>\n",
              "      <td>4.000000</td>\n",
              "      <td>1503.040000</td>\n",
              "      <td>375.760000</td>\n",
              "      <td>2016-01-20 02:09:00</td>\n",
              "    </tr>\n",
              "    <tr>\n",
              "      <th>853524</th>\n",
              "      <td>1453255800</td>\n",
              "      <td>375.76</td>\n",
              "      <td>375.76</td>\n",
              "      <td>375.05</td>\n",
              "      <td>375.08</td>\n",
              "      <td>12.368000</td>\n",
              "      <td>4641.600311</td>\n",
              "      <td>375.291099</td>\n",
              "      <td>2016-01-20 02:10:00</td>\n",
              "    </tr>\n",
              "  </tbody>\n",
              "</table>\n",
              "<p>1137758 rows × 9 columns</p>\n",
              "</div>"
            ],
            "text/plain": [
              "         Timestamp    Open  ...  Weighted_Price                time\n",
              "0       1325317920    4.39  ...        4.390000 2011-12-31 07:52:00\n",
              "478     1325346600    4.39  ...        4.390000 2011-12-31 15:50:00\n",
              "547     1325350740    4.50  ...        4.526411 2011-12-31 16:59:00\n",
              "548     1325350800    4.58  ...        4.580000 2011-12-31 17:00:00\n",
              "1224    1325391360    4.58  ...        4.580000 2012-01-01 04:16:00\n",
              "...            ...     ...  ...             ...                 ...\n",
              "853507  1453254780  375.85  ...      375.850000 2016-01-20 01:53:00\n",
              "853509  1453254900  375.84  ...      375.840000 2016-01-20 01:55:00\n",
              "853522  1453255680  375.74  ...      375.750025 2016-01-20 02:08:00\n",
              "853523  1453255740  375.76  ...      375.760000 2016-01-20 02:09:00\n",
              "853524  1453255800  375.76  ...      375.291099 2016-01-20 02:10:00\n",
              "\n",
              "[1137758 rows x 9 columns]"
            ]
          },
          "metadata": {
            "tags": []
          },
          "execution_count": 48
        }
      ]
    },
    {
      "cell_type": "code",
      "metadata": {
        "id": "FFdi1eCzEqWK",
        "colab": {
          "base_uri": "https://localhost:8080/"
        },
        "outputId": "aaa00c75-6b07-4363-f1d2-00b775bf5a69"
      },
      "source": [
        "type(bit_transf)"
      ],
      "execution_count": 49,
      "outputs": [
        {
          "output_type": "execute_result",
          "data": {
            "text/plain": [
              "dask.dataframe.core.DataFrame"
            ]
          },
          "metadata": {
            "tags": []
          },
          "execution_count": 49
        }
      ]
    },
    {
      "cell_type": "code",
      "metadata": {
        "id": "9siXN5JFEsAS",
        "colab": {
          "base_uri": "https://localhost:8080/",
          "height": 289
        },
        "outputId": "4a75360d-d544-4b98-a8c1-6b485dd3bd09"
      },
      "source": [
        "bit_transf.head()"
      ],
      "execution_count": 50,
      "outputs": [
        {
          "output_type": "execute_result",
          "data": {
            "text/html": [
              "<div>\n",
              "<style scoped>\n",
              "    .dataframe tbody tr th:only-of-type {\n",
              "        vertical-align: middle;\n",
              "    }\n",
              "\n",
              "    .dataframe tbody tr th {\n",
              "        vertical-align: top;\n",
              "    }\n",
              "\n",
              "    .dataframe thead th {\n",
              "        text-align: right;\n",
              "    }\n",
              "</style>\n",
              "<table border=\"1\" class=\"dataframe\">\n",
              "  <thead>\n",
              "    <tr style=\"text-align: right;\">\n",
              "      <th></th>\n",
              "      <th>Timestamp</th>\n",
              "      <th>Open</th>\n",
              "      <th>High</th>\n",
              "      <th>Low</th>\n",
              "      <th>Close</th>\n",
              "      <th>Volume_(BTC)</th>\n",
              "      <th>Volume_(Currency)</th>\n",
              "      <th>Weighted_Price</th>\n",
              "      <th>time</th>\n",
              "    </tr>\n",
              "  </thead>\n",
              "  <tbody>\n",
              "    <tr>\n",
              "      <th>0</th>\n",
              "      <td>1325317920</td>\n",
              "      <td>4.39</td>\n",
              "      <td>4.39</td>\n",
              "      <td>4.39</td>\n",
              "      <td>4.39</td>\n",
              "      <td>0.455581</td>\n",
              "      <td>2.000000</td>\n",
              "      <td>4.390000</td>\n",
              "      <td>2011-12-31 07:52:00</td>\n",
              "    </tr>\n",
              "    <tr>\n",
              "      <th>478</th>\n",
              "      <td>1325346600</td>\n",
              "      <td>4.39</td>\n",
              "      <td>4.39</td>\n",
              "      <td>4.39</td>\n",
              "      <td>4.39</td>\n",
              "      <td>48.000000</td>\n",
              "      <td>210.720000</td>\n",
              "      <td>4.390000</td>\n",
              "      <td>2011-12-31 15:50:00</td>\n",
              "    </tr>\n",
              "    <tr>\n",
              "      <th>547</th>\n",
              "      <td>1325350740</td>\n",
              "      <td>4.50</td>\n",
              "      <td>4.57</td>\n",
              "      <td>4.50</td>\n",
              "      <td>4.57</td>\n",
              "      <td>37.862297</td>\n",
              "      <td>171.380338</td>\n",
              "      <td>4.526411</td>\n",
              "      <td>2011-12-31 16:59:00</td>\n",
              "    </tr>\n",
              "    <tr>\n",
              "      <th>548</th>\n",
              "      <td>1325350800</td>\n",
              "      <td>4.58</td>\n",
              "      <td>4.58</td>\n",
              "      <td>4.58</td>\n",
              "      <td>4.58</td>\n",
              "      <td>9.000000</td>\n",
              "      <td>41.220000</td>\n",
              "      <td>4.580000</td>\n",
              "      <td>2011-12-31 17:00:00</td>\n",
              "    </tr>\n",
              "    <tr>\n",
              "      <th>1224</th>\n",
              "      <td>1325391360</td>\n",
              "      <td>4.58</td>\n",
              "      <td>4.58</td>\n",
              "      <td>4.58</td>\n",
              "      <td>4.58</td>\n",
              "      <td>1.502000</td>\n",
              "      <td>6.879160</td>\n",
              "      <td>4.580000</td>\n",
              "      <td>2012-01-01 04:16:00</td>\n",
              "    </tr>\n",
              "  </tbody>\n",
              "</table>\n",
              "</div>"
            ],
            "text/plain": [
              "       Timestamp  Open  ...  Weighted_Price                time\n",
              "0     1325317920  4.39  ...        4.390000 2011-12-31 07:52:00\n",
              "478   1325346600  4.39  ...        4.390000 2011-12-31 15:50:00\n",
              "547   1325350740  4.50  ...        4.526411 2011-12-31 16:59:00\n",
              "548   1325350800  4.58  ...        4.580000 2011-12-31 17:00:00\n",
              "1224  1325391360  4.58  ...        4.580000 2012-01-01 04:16:00\n",
              "\n",
              "[5 rows x 9 columns]"
            ]
          },
          "metadata": {
            "tags": []
          },
          "execution_count": 50
        }
      ]
    },
    {
      "cell_type": "code",
      "metadata": {
        "id": "RnhzMcqWExII",
        "colab": {
          "base_uri": "https://localhost:8080/",
          "height": 1000
        },
        "outputId": "2248ebaf-f55e-42ab-e6ac-270acb952336"
      },
      "source": [
        "%time bit_transf.visualize()\n",
        "bit_transf.visualize()"
      ],
      "execution_count": 51,
      "outputs": [
        {
          "output_type": "stream",
          "text": [
            "CPU times: user 881 µs, sys: 11.2 ms, total: 12.1 ms\n",
            "Wall time: 92.8 ms\n"
          ],
          "name": "stdout"
        },
        {
          "output_type": "execute_result",
          "data": {
            "image/png": "[encoded data removed]",
            "text/plain": [
              "<IPython.core.display.Image object>"
            ]
          },
          "metadata": {
            "tags": []
          },
          "execution_count": 51
        }
      ]
    },
    {
      "cell_type": "markdown",
      "metadata": {
        "id": "K71tXQPYILkH"
      },
      "source": [
        "# Stergerea timestamp"
      ]
    },
    {
      "cell_type": "code",
      "metadata": {
        "id": "IdJfvC6YGhXR",
        "colab": {
          "base_uri": "https://localhost:8080/"
        },
        "outputId": "c6810525-c0ff-418e-aa8d-83f52b85cfc6"
      },
      "source": [
        "%time bitcoin_new = bit_transf.drop(['Timestamp'],axis=1)"
      ],
      "execution_count": 52,
      "outputs": [
        {
          "output_type": "stream",
          "text": [
            "CPU times: user 8.33 ms, sys: 0 ns, total: 8.33 ms\n",
            "Wall time: 8.36 ms\n"
          ],
          "name": "stdout"
        }
      ]
    },
    {
      "cell_type": "code",
      "metadata": {
        "id": "9ldQ1GVuIQ2l",
        "colab": {
          "base_uri": "https://localhost:8080/",
          "height": 470
        },
        "outputId": "df38b1a4-fb9c-4783-9520-d6f49f41b19c"
      },
      "source": [
        "bitcoin_new.head(-50)"
      ],
      "execution_count": 53,
      "outputs": [
        {
          "output_type": "stream",
          "text": [
            "/usr/local/lib/python3.7/dist-packages/dask/dataframe/core.py:6383: UserWarning: Insufficient elements for `head`. -50 elements requested, only 519603 elements available. Try passing larger `npartitions` to `head`.\n",
            "  warnings.warn(msg.format(n, len(r)))\n"
          ],
          "name": "stderr"
        },
        {
          "output_type": "execute_result",
          "data": {
            "text/html": [
              "<div>\n",
              "<style scoped>\n",
              "    .dataframe tbody tr th:only-of-type {\n",
              "        vertical-align: middle;\n",
              "    }\n",
              "\n",
              "    .dataframe tbody tr th {\n",
              "        vertical-align: top;\n",
              "    }\n",
              "\n",
              "    .dataframe thead th {\n",
              "        text-align: right;\n",
              "    }\n",
              "</style>\n",
              "<table border=\"1\" class=\"dataframe\">\n",
              "  <thead>\n",
              "    <tr style=\"text-align: right;\">\n",
              "      <th></th>\n",
              "      <th>Open</th>\n",
              "      <th>High</th>\n",
              "      <th>Low</th>\n",
              "      <th>Close</th>\n",
              "      <th>Volume_(BTC)</th>\n",
              "      <th>Volume_(Currency)</th>\n",
              "      <th>Weighted_Price</th>\n",
              "      <th>time</th>\n",
              "    </tr>\n",
              "  </thead>\n",
              "  <tbody>\n",
              "    <tr>\n",
              "      <th>0</th>\n",
              "      <td>4.39</td>\n",
              "      <td>4.39</td>\n",
              "      <td>4.39</td>\n",
              "      <td>4.39</td>\n",
              "      <td>0.455581</td>\n",
              "      <td>2.000000</td>\n",
              "      <td>4.390000</td>\n",
              "      <td>2011-12-31 07:52:00</td>\n",
              "    </tr>\n",
              "    <tr>\n",
              "      <th>478</th>\n",
              "      <td>4.39</td>\n",
              "      <td>4.39</td>\n",
              "      <td>4.39</td>\n",
              "      <td>4.39</td>\n",
              "      <td>48.000000</td>\n",
              "      <td>210.720000</td>\n",
              "      <td>4.390000</td>\n",
              "      <td>2011-12-31 15:50:00</td>\n",
              "    </tr>\n",
              "    <tr>\n",
              "      <th>547</th>\n",
              "      <td>4.50</td>\n",
              "      <td>4.57</td>\n",
              "      <td>4.50</td>\n",
              "      <td>4.57</td>\n",
              "      <td>37.862297</td>\n",
              "      <td>171.380338</td>\n",
              "      <td>4.526411</td>\n",
              "      <td>2011-12-31 16:59:00</td>\n",
              "    </tr>\n",
              "    <tr>\n",
              "      <th>548</th>\n",
              "      <td>4.58</td>\n",
              "      <td>4.58</td>\n",
              "      <td>4.58</td>\n",
              "      <td>4.58</td>\n",
              "      <td>9.000000</td>\n",
              "      <td>41.220000</td>\n",
              "      <td>4.580000</td>\n",
              "      <td>2011-12-31 17:00:00</td>\n",
              "    </tr>\n",
              "    <tr>\n",
              "      <th>1224</th>\n",
              "      <td>4.58</td>\n",
              "      <td>4.58</td>\n",
              "      <td>4.58</td>\n",
              "      <td>4.58</td>\n",
              "      <td>1.502000</td>\n",
              "      <td>6.879160</td>\n",
              "      <td>4.580000</td>\n",
              "      <td>2012-01-01 04:16:00</td>\n",
              "    </tr>\n",
              "    <tr>\n",
              "      <th>...</th>\n",
              "      <td>...</td>\n",
              "      <td>...</td>\n",
              "      <td>...</td>\n",
              "      <td>...</td>\n",
              "      <td>...</td>\n",
              "      <td>...</td>\n",
              "      <td>...</td>\n",
              "      <td>...</td>\n",
              "    </tr>\n",
              "    <tr>\n",
              "      <th>1272244</th>\n",
              "      <td>634.25</td>\n",
              "      <td>639.39</td>\n",
              "      <td>634.11</td>\n",
              "      <td>639.05</td>\n",
              "      <td>9.428325</td>\n",
              "      <td>5979.709327</td>\n",
              "      <td>634.228154</td>\n",
              "      <td>2014-06-01 19:56:00</td>\n",
              "    </tr>\n",
              "    <tr>\n",
              "      <th>1272245</th>\n",
              "      <td>636.14</td>\n",
              "      <td>637.12</td>\n",
              "      <td>634.11</td>\n",
              "      <td>637.12</td>\n",
              "      <td>11.962806</td>\n",
              "      <td>7592.122715</td>\n",
              "      <td>634.643984</td>\n",
              "      <td>2014-06-01 19:57:00</td>\n",
              "    </tr>\n",
              "    <tr>\n",
              "      <th>1272246</th>\n",
              "      <td>637.26</td>\n",
              "      <td>638.88</td>\n",
              "      <td>637.26</td>\n",
              "      <td>638.87</td>\n",
              "      <td>1.930390</td>\n",
              "      <td>1232.304103</td>\n",
              "      <td>638.370578</td>\n",
              "      <td>2014-06-01 19:58:00</td>\n",
              "    </tr>\n",
              "    <tr>\n",
              "      <th>1272247</th>\n",
              "      <td>635.66</td>\n",
              "      <td>638.85</td>\n",
              "      <td>634.87</td>\n",
              "      <td>638.85</td>\n",
              "      <td>0.593840</td>\n",
              "      <td>377.227186</td>\n",
              "      <td>635.233870</td>\n",
              "      <td>2014-06-01 19:59:00</td>\n",
              "    </tr>\n",
              "    <tr>\n",
              "      <th>1272248</th>\n",
              "      <td>638.84</td>\n",
              "      <td>638.84</td>\n",
              "      <td>635.65</td>\n",
              "      <td>638.80</td>\n",
              "      <td>9.845379</td>\n",
              "      <td>6260.352742</td>\n",
              "      <td>635.867118</td>\n",
              "      <td>2014-06-01 20:00:00</td>\n",
              "    </tr>\n",
              "  </tbody>\n",
              "</table>\n",
              "<p>519603 rows × 8 columns</p>\n",
              "</div>"
            ],
            "text/plain": [
              "           Open    High  ...  Weighted_Price                time\n",
              "0          4.39    4.39  ...        4.390000 2011-12-31 07:52:00\n",
              "478        4.39    4.39  ...        4.390000 2011-12-31 15:50:00\n",
              "547        4.50    4.57  ...        4.526411 2011-12-31 16:59:00\n",
              "548        4.58    4.58  ...        4.580000 2011-12-31 17:00:00\n",
              "1224       4.58    4.58  ...        4.580000 2012-01-01 04:16:00\n",
              "...         ...     ...  ...             ...                 ...\n",
              "1272244  634.25  639.39  ...      634.228154 2014-06-01 19:56:00\n",
              "1272245  636.14  637.12  ...      634.643984 2014-06-01 19:57:00\n",
              "1272246  637.26  638.88  ...      638.370578 2014-06-01 19:58:00\n",
              "1272247  635.66  638.85  ...      635.233870 2014-06-01 19:59:00\n",
              "1272248  638.84  638.84  ...      635.867118 2014-06-01 20:00:00\n",
              "\n",
              "[519603 rows x 8 columns]"
            ]
          },
          "metadata": {
            "tags": []
          },
          "execution_count": 53
        }
      ]
    },
    {
      "cell_type": "markdown",
      "metadata": {
        "id": "kAQd0AF7ITtz"
      },
      "source": [
        "# Stergere Nan\n"
      ]
    },
    {
      "cell_type": "code",
      "metadata": {
        "id": "HYeeC_wSCZqb",
        "colab": {
          "base_uri": "https://localhost:8080/"
        },
        "outputId": "e90fa819-b3c4-43f3-c714-1e3502bc4edc"
      },
      "source": [
        "%time clean_bitcoin = bitcoin_new.dropna()"
      ],
      "execution_count": 58,
      "outputs": [
        {
          "output_type": "stream",
          "text": [
            "CPU times: user 9.73 ms, sys: 0 ns, total: 9.73 ms\n",
            "Wall time: 12.8 ms\n"
          ],
          "name": "stdout"
        }
      ]
    },
    {
      "cell_type": "code",
      "metadata": {
        "colab": {
          "base_uri": "https://localhost:8080/",
          "height": 953
        },
        "id": "6IcQ2biyvJxK",
        "outputId": "df40d9f3-fe44-4ee4-e618-7c5ba4639765"
      },
      "source": [
        "for key, value in scheduler_types.items():\n",
        "    print(f'{key} run:')\n",
        "    %time clean_bitcoin.compute(scheduler=value)\n",
        "    print('----------------------------')\n",
        "print('Without scheduler:')\n",
        "%time clean_bitcoin.compute()"
      ],
      "execution_count": 59,
      "outputs": [
        {
          "output_type": "stream",
          "text": [
            "MULTIPROCESSING run:\n",
            "CPU times: user 214 ms, sys: 183 ms, total: 398 ms\n",
            "Wall time: 3.45 s\n",
            "----------------------------\n",
            "PROCESSES run:\n",
            "CPU times: user 280 ms, sys: 182 ms, total: 462 ms\n",
            "Wall time: 3.43 s\n",
            "----------------------------\n",
            "SINGLE-THREADED run:\n",
            "CPU times: user 1.62 s, sys: 92.8 ms, total: 1.71 s\n",
            "Wall time: 1.74 s\n",
            "----------------------------\n",
            "SYNC run:\n",
            "CPU times: user 1.6 s, sys: 91.9 ms, total: 1.69 s\n",
            "Wall time: 1.71 s\n",
            "----------------------------\n",
            "SYNCHRONOUS run:\n",
            "CPU times: user 1.6 s, sys: 90.3 ms, total: 1.69 s\n",
            "Wall time: 1.71 s\n",
            "----------------------------\n",
            "THREADING run:\n",
            "CPU times: user 2.34 s, sys: 162 ms, total: 2.5 s\n",
            "Wall time: 1.38 s\n",
            "----------------------------\n",
            "THREADS run:\n",
            "CPU times: user 2.33 s, sys: 219 ms, total: 2.55 s\n",
            "Wall time: 1.42 s\n",
            "----------------------------\n",
            "Without scheduler:\n",
            "CPU times: user 2.36 s, sys: 214 ms, total: 2.57 s\n",
            "Wall time: 1.44 s\n"
          ],
          "name": "stdout"
        },
        {
          "output_type": "execute_result",
          "data": {
            "text/html": [
              "<div>\n",
              "<style scoped>\n",
              "    .dataframe tbody tr th:only-of-type {\n",
              "        vertical-align: middle;\n",
              "    }\n",
              "\n",
              "    .dataframe tbody tr th {\n",
              "        vertical-align: top;\n",
              "    }\n",
              "\n",
              "    .dataframe thead th {\n",
              "        text-align: right;\n",
              "    }\n",
              "</style>\n",
              "<table border=\"1\" class=\"dataframe\">\n",
              "  <thead>\n",
              "    <tr style=\"text-align: right;\">\n",
              "      <th></th>\n",
              "      <th>Open</th>\n",
              "      <th>High</th>\n",
              "      <th>Low</th>\n",
              "      <th>Close</th>\n",
              "      <th>Volume_(BTC)</th>\n",
              "      <th>Volume_(Currency)</th>\n",
              "      <th>Weighted_Price</th>\n",
              "      <th>time</th>\n",
              "    </tr>\n",
              "  </thead>\n",
              "  <tbody>\n",
              "    <tr>\n",
              "      <th>0</th>\n",
              "      <td>4.39</td>\n",
              "      <td>4.39</td>\n",
              "      <td>4.39</td>\n",
              "      <td>4.39</td>\n",
              "      <td>0.455581</td>\n",
              "      <td>2.000000</td>\n",
              "      <td>4.390000</td>\n",
              "      <td>2011-12-31 07:52:00</td>\n",
              "    </tr>\n",
              "    <tr>\n",
              "      <th>478</th>\n",
              "      <td>4.39</td>\n",
              "      <td>4.39</td>\n",
              "      <td>4.39</td>\n",
              "      <td>4.39</td>\n",
              "      <td>48.000000</td>\n",
              "      <td>210.720000</td>\n",
              "      <td>4.390000</td>\n",
              "      <td>2011-12-31 15:50:00</td>\n",
              "    </tr>\n",
              "    <tr>\n",
              "      <th>547</th>\n",
              "      <td>4.50</td>\n",
              "      <td>4.57</td>\n",
              "      <td>4.50</td>\n",
              "      <td>4.57</td>\n",
              "      <td>37.862297</td>\n",
              "      <td>171.380338</td>\n",
              "      <td>4.526411</td>\n",
              "      <td>2011-12-31 16:59:00</td>\n",
              "    </tr>\n",
              "    <tr>\n",
              "      <th>548</th>\n",
              "      <td>4.58</td>\n",
              "      <td>4.58</td>\n",
              "      <td>4.58</td>\n",
              "      <td>4.58</td>\n",
              "      <td>9.000000</td>\n",
              "      <td>41.220000</td>\n",
              "      <td>4.580000</td>\n",
              "      <td>2011-12-31 17:00:00</td>\n",
              "    </tr>\n",
              "    <tr>\n",
              "      <th>1224</th>\n",
              "      <td>4.58</td>\n",
              "      <td>4.58</td>\n",
              "      <td>4.58</td>\n",
              "      <td>4.58</td>\n",
              "      <td>1.502000</td>\n",
              "      <td>6.879160</td>\n",
              "      <td>4.580000</td>\n",
              "      <td>2012-01-01 04:16:00</td>\n",
              "    </tr>\n",
              "    <tr>\n",
              "      <th>...</th>\n",
              "      <td>...</td>\n",
              "      <td>...</td>\n",
              "      <td>...</td>\n",
              "      <td>...</td>\n",
              "      <td>...</td>\n",
              "      <td>...</td>\n",
              "      <td>...</td>\n",
              "      <td>...</td>\n",
              "    </tr>\n",
              "    <tr>\n",
              "      <th>1044059</th>\n",
              "      <td>547.88</td>\n",
              "      <td>548.00</td>\n",
              "      <td>547.88</td>\n",
              "      <td>548.00</td>\n",
              "      <td>5.000000</td>\n",
              "      <td>2739.984365</td>\n",
              "      <td>547.996873</td>\n",
              "      <td>2016-05-31 09:45:00</td>\n",
              "    </tr>\n",
              "    <tr>\n",
              "      <th>1044060</th>\n",
              "      <td>548.00</td>\n",
              "      <td>548.00</td>\n",
              "      <td>548.00</td>\n",
              "      <td>548.00</td>\n",
              "      <td>0.500000</td>\n",
              "      <td>274.000000</td>\n",
              "      <td>548.000000</td>\n",
              "      <td>2016-05-31 09:46:00</td>\n",
              "    </tr>\n",
              "    <tr>\n",
              "      <th>1044061</th>\n",
              "      <td>546.78</td>\n",
              "      <td>546.78</td>\n",
              "      <td>546.22</td>\n",
              "      <td>546.22</td>\n",
              "      <td>52.178292</td>\n",
              "      <td>28512.632603</td>\n",
              "      <td>546.446260</td>\n",
              "      <td>2016-05-31 09:47:00</td>\n",
              "    </tr>\n",
              "    <tr>\n",
              "      <th>1044062</th>\n",
              "      <td>546.30</td>\n",
              "      <td>547.50</td>\n",
              "      <td>546.30</td>\n",
              "      <td>547.50</td>\n",
              "      <td>7.539040</td>\n",
              "      <td>4126.400452</td>\n",
              "      <td>547.337682</td>\n",
              "      <td>2016-05-31 09:48:00</td>\n",
              "    </tr>\n",
              "    <tr>\n",
              "      <th>1044063</th>\n",
              "      <td>547.50</td>\n",
              "      <td>547.50</td>\n",
              "      <td>546.32</td>\n",
              "      <td>547.49</td>\n",
              "      <td>2.597960</td>\n",
              "      <td>1420.057924</td>\n",
              "      <td>546.604913</td>\n",
              "      <td>2016-05-31 09:49:00</td>\n",
              "    </tr>\n",
              "  </tbody>\n",
              "</table>\n",
              "<p>1275141 rows × 8 columns</p>\n",
              "</div>"
            ],
            "text/plain": [
              "           Open    High  ...  Weighted_Price                time\n",
              "0          4.39    4.39  ...        4.390000 2011-12-31 07:52:00\n",
              "478        4.39    4.39  ...        4.390000 2011-12-31 15:50:00\n",
              "547        4.50    4.57  ...        4.526411 2011-12-31 16:59:00\n",
              "548        4.58    4.58  ...        4.580000 2011-12-31 17:00:00\n",
              "1224       4.58    4.58  ...        4.580000 2012-01-01 04:16:00\n",
              "...         ...     ...  ...             ...                 ...\n",
              "1044059  547.88  548.00  ...      547.996873 2016-05-31 09:45:00\n",
              "1044060  548.00  548.00  ...      548.000000 2016-05-31 09:46:00\n",
              "1044061  546.78  546.78  ...      546.446260 2016-05-31 09:47:00\n",
              "1044062  546.30  547.50  ...      547.337682 2016-05-31 09:48:00\n",
              "1044063  547.50  547.50  ...      546.604913 2016-05-31 09:49:00\n",
              "\n",
              "[1275141 rows x 8 columns]"
            ]
          },
          "metadata": {
            "tags": []
          },
          "execution_count": 59
        }
      ]
    },
    {
      "cell_type": "code",
      "metadata": {
        "id": "Zi-DTSarIZ44",
        "colab": {
          "base_uri": "https://localhost:8080/",
          "height": 470
        },
        "outputId": "f6b505de-2011-4a34-a6ac-4532de5812e1"
      },
      "source": [
        "clean_bitcoin.head(-20)"
      ],
      "execution_count": 55,
      "outputs": [
        {
          "output_type": "stream",
          "text": [
            "/usr/local/lib/python3.7/dist-packages/dask/dataframe/core.py:6383: UserWarning: Insufficient elements for `head`. -20 elements requested, only 519633 elements available. Try passing larger `npartitions` to `head`.\n",
            "  warnings.warn(msg.format(n, len(r)))\n"
          ],
          "name": "stderr"
        },
        {
          "output_type": "execute_result",
          "data": {
            "text/html": [
              "<div>\n",
              "<style scoped>\n",
              "    .dataframe tbody tr th:only-of-type {\n",
              "        vertical-align: middle;\n",
              "    }\n",
              "\n",
              "    .dataframe tbody tr th {\n",
              "        vertical-align: top;\n",
              "    }\n",
              "\n",
              "    .dataframe thead th {\n",
              "        text-align: right;\n",
              "    }\n",
              "</style>\n",
              "<table border=\"1\" class=\"dataframe\">\n",
              "  <thead>\n",
              "    <tr style=\"text-align: right;\">\n",
              "      <th></th>\n",
              "      <th>Open</th>\n",
              "      <th>High</th>\n",
              "      <th>Low</th>\n",
              "      <th>Close</th>\n",
              "      <th>Volume_(BTC)</th>\n",
              "      <th>Volume_(Currency)</th>\n",
              "      <th>Weighted_Price</th>\n",
              "      <th>time</th>\n",
              "    </tr>\n",
              "  </thead>\n",
              "  <tbody>\n",
              "    <tr>\n",
              "      <th>0</th>\n",
              "      <td>4.39</td>\n",
              "      <td>4.39</td>\n",
              "      <td>4.39</td>\n",
              "      <td>4.39</td>\n",
              "      <td>0.455581</td>\n",
              "      <td>2.000000</td>\n",
              "      <td>4.390000</td>\n",
              "      <td>2011-12-31 07:52:00</td>\n",
              "    </tr>\n",
              "    <tr>\n",
              "      <th>478</th>\n",
              "      <td>4.39</td>\n",
              "      <td>4.39</td>\n",
              "      <td>4.39</td>\n",
              "      <td>4.39</td>\n",
              "      <td>48.000000</td>\n",
              "      <td>210.720000</td>\n",
              "      <td>4.390000</td>\n",
              "      <td>2011-12-31 15:50:00</td>\n",
              "    </tr>\n",
              "    <tr>\n",
              "      <th>547</th>\n",
              "      <td>4.50</td>\n",
              "      <td>4.57</td>\n",
              "      <td>4.50</td>\n",
              "      <td>4.57</td>\n",
              "      <td>37.862297</td>\n",
              "      <td>171.380338</td>\n",
              "      <td>4.526411</td>\n",
              "      <td>2011-12-31 16:59:00</td>\n",
              "    </tr>\n",
              "    <tr>\n",
              "      <th>548</th>\n",
              "      <td>4.58</td>\n",
              "      <td>4.58</td>\n",
              "      <td>4.58</td>\n",
              "      <td>4.58</td>\n",
              "      <td>9.000000</td>\n",
              "      <td>41.220000</td>\n",
              "      <td>4.580000</td>\n",
              "      <td>2011-12-31 17:00:00</td>\n",
              "    </tr>\n",
              "    <tr>\n",
              "      <th>1224</th>\n",
              "      <td>4.58</td>\n",
              "      <td>4.58</td>\n",
              "      <td>4.58</td>\n",
              "      <td>4.58</td>\n",
              "      <td>1.502000</td>\n",
              "      <td>6.879160</td>\n",
              "      <td>4.580000</td>\n",
              "      <td>2012-01-01 04:16:00</td>\n",
              "    </tr>\n",
              "    <tr>\n",
              "      <th>...</th>\n",
              "      <td>...</td>\n",
              "      <td>...</td>\n",
              "      <td>...</td>\n",
              "      <td>...</td>\n",
              "      <td>...</td>\n",
              "      <td>...</td>\n",
              "      <td>...</td>\n",
              "      <td>...</td>\n",
              "    </tr>\n",
              "    <tr>\n",
              "      <th>1272275</th>\n",
              "      <td>644.03</td>\n",
              "      <td>645.00</td>\n",
              "      <td>643.02</td>\n",
              "      <td>645.00</td>\n",
              "      <td>1.079979</td>\n",
              "      <td>696.042697</td>\n",
              "      <td>644.496564</td>\n",
              "      <td>2014-06-01 20:27:00</td>\n",
              "    </tr>\n",
              "    <tr>\n",
              "      <th>1272276</th>\n",
              "      <td>645.00</td>\n",
              "      <td>645.00</td>\n",
              "      <td>645.00</td>\n",
              "      <td>645.00</td>\n",
              "      <td>0.180200</td>\n",
              "      <td>116.229000</td>\n",
              "      <td>645.000000</td>\n",
              "      <td>2014-06-01 20:28:00</td>\n",
              "    </tr>\n",
              "    <tr>\n",
              "      <th>1272277</th>\n",
              "      <td>643.02</td>\n",
              "      <td>646.00</td>\n",
              "      <td>643.02</td>\n",
              "      <td>645.73</td>\n",
              "      <td>21.075607</td>\n",
              "      <td>13584.285353</td>\n",
              "      <td>644.550142</td>\n",
              "      <td>2014-06-01 20:29:00</td>\n",
              "    </tr>\n",
              "    <tr>\n",
              "      <th>1272278</th>\n",
              "      <td>645.25</td>\n",
              "      <td>645.98</td>\n",
              "      <td>643.02</td>\n",
              "      <td>645.98</td>\n",
              "      <td>0.057740</td>\n",
              "      <td>37.256623</td>\n",
              "      <td>645.246052</td>\n",
              "      <td>2014-06-01 20:30:00</td>\n",
              "    </tr>\n",
              "    <tr>\n",
              "      <th>1272279</th>\n",
              "      <td>643.02</td>\n",
              "      <td>645.85</td>\n",
              "      <td>643.02</td>\n",
              "      <td>645.82</td>\n",
              "      <td>0.229726</td>\n",
              "      <td>147.802039</td>\n",
              "      <td>643.383325</td>\n",
              "      <td>2014-06-01 20:31:00</td>\n",
              "    </tr>\n",
              "  </tbody>\n",
              "</table>\n",
              "<p>519633 rows × 8 columns</p>\n",
              "</div>"
            ],
            "text/plain": [
              "           Open    High  ...  Weighted_Price                time\n",
              "0          4.39    4.39  ...        4.390000 2011-12-31 07:52:00\n",
              "478        4.39    4.39  ...        4.390000 2011-12-31 15:50:00\n",
              "547        4.50    4.57  ...        4.526411 2011-12-31 16:59:00\n",
              "548        4.58    4.58  ...        4.580000 2011-12-31 17:00:00\n",
              "1224       4.58    4.58  ...        4.580000 2012-01-01 04:16:00\n",
              "...         ...     ...  ...             ...                 ...\n",
              "1272275  644.03  645.00  ...      644.496564 2014-06-01 20:27:00\n",
              "1272276  645.00  645.00  ...      645.000000 2014-06-01 20:28:00\n",
              "1272277  643.02  646.00  ...      644.550142 2014-06-01 20:29:00\n",
              "1272278  645.25  645.98  ...      645.246052 2014-06-01 20:30:00\n",
              "1272279  643.02  645.85  ...      643.383325 2014-06-01 20:31:00\n",
              "\n",
              "[519633 rows x 8 columns]"
            ]
          },
          "metadata": {
            "tags": []
          },
          "execution_count": 55
        }
      ]
    },
    {
      "cell_type": "markdown",
      "metadata": {
        "id": "Q-DZN3XmIbUN"
      },
      "source": [
        "# Index coloana time"
      ]
    },
    {
      "cell_type": "code",
      "metadata": {
        "id": "aPeAa1gMIczB",
        "colab": {
          "base_uri": "https://localhost:8080/"
        },
        "outputId": "e2e57ba2-98a5-46e4-f378-63572ffdadd6"
      },
      "source": [
        "%time clean_bit = clean_bitcoin.set_index('time')"
      ],
      "execution_count": 56,
      "outputs": [
        {
          "output_type": "stream",
          "text": [
            "CPU times: user 2.39 s, sys: 148 ms, total: 2.53 s\n",
            "Wall time: 1.45 s\n"
          ],
          "name": "stdout"
        }
      ]
    },
    {
      "cell_type": "code",
      "metadata": {
        "id": "1pLd5VmBIdd6",
        "colab": {
          "base_uri": "https://localhost:8080/",
          "height": 386
        },
        "outputId": "d3ebd035-0e61-4943-a9b9-d895eb60b6bc"
      },
      "source": [
        "clean_bit.head(10)"
      ],
      "execution_count": 57,
      "outputs": [
        {
          "output_type": "execute_result",
          "data": {
            "text/html": [
              "<div>\n",
              "<style scoped>\n",
              "    .dataframe tbody tr th:only-of-type {\n",
              "        vertical-align: middle;\n",
              "    }\n",
              "\n",
              "    .dataframe tbody tr th {\n",
              "        vertical-align: top;\n",
              "    }\n",
              "\n",
              "    .dataframe thead th {\n",
              "        text-align: right;\n",
              "    }\n",
              "</style>\n",
              "<table border=\"1\" class=\"dataframe\">\n",
              "  <thead>\n",
              "    <tr style=\"text-align: right;\">\n",
              "      <th></th>\n",
              "      <th>Open</th>\n",
              "      <th>High</th>\n",
              "      <th>Low</th>\n",
              "      <th>Close</th>\n",
              "      <th>Volume_(BTC)</th>\n",
              "      <th>Volume_(Currency)</th>\n",
              "      <th>Weighted_Price</th>\n",
              "    </tr>\n",
              "    <tr>\n",
              "      <th>time</th>\n",
              "      <th></th>\n",
              "      <th></th>\n",
              "      <th></th>\n",
              "      <th></th>\n",
              "      <th></th>\n",
              "      <th></th>\n",
              "      <th></th>\n",
              "    </tr>\n",
              "  </thead>\n",
              "  <tbody>\n",
              "    <tr>\n",
              "      <th>2011-12-31 07:52:00</th>\n",
              "      <td>4.39</td>\n",
              "      <td>4.39</td>\n",
              "      <td>4.39</td>\n",
              "      <td>4.39</td>\n",
              "      <td>0.455581</td>\n",
              "      <td>2.000000</td>\n",
              "      <td>4.390000</td>\n",
              "    </tr>\n",
              "    <tr>\n",
              "      <th>2011-12-31 15:50:00</th>\n",
              "      <td>4.39</td>\n",
              "      <td>4.39</td>\n",
              "      <td>4.39</td>\n",
              "      <td>4.39</td>\n",
              "      <td>48.000000</td>\n",
              "      <td>210.720000</td>\n",
              "      <td>4.390000</td>\n",
              "    </tr>\n",
              "    <tr>\n",
              "      <th>2011-12-31 16:59:00</th>\n",
              "      <td>4.50</td>\n",
              "      <td>4.57</td>\n",
              "      <td>4.50</td>\n",
              "      <td>4.57</td>\n",
              "      <td>37.862297</td>\n",
              "      <td>171.380338</td>\n",
              "      <td>4.526411</td>\n",
              "    </tr>\n",
              "    <tr>\n",
              "      <th>2011-12-31 17:00:00</th>\n",
              "      <td>4.58</td>\n",
              "      <td>4.58</td>\n",
              "      <td>4.58</td>\n",
              "      <td>4.58</td>\n",
              "      <td>9.000000</td>\n",
              "      <td>41.220000</td>\n",
              "      <td>4.580000</td>\n",
              "    </tr>\n",
              "    <tr>\n",
              "      <th>2012-01-01 04:16:00</th>\n",
              "      <td>4.58</td>\n",
              "      <td>4.58</td>\n",
              "      <td>4.58</td>\n",
              "      <td>4.58</td>\n",
              "      <td>1.502000</td>\n",
              "      <td>6.879160</td>\n",
              "      <td>4.580000</td>\n",
              "    </tr>\n",
              "    <tr>\n",
              "      <th>2012-01-01 15:28:00</th>\n",
              "      <td>4.84</td>\n",
              "      <td>4.84</td>\n",
              "      <td>4.84</td>\n",
              "      <td>4.84</td>\n",
              "      <td>10.000000</td>\n",
              "      <td>48.400000</td>\n",
              "      <td>4.840000</td>\n",
              "    </tr>\n",
              "    <tr>\n",
              "      <th>2012-01-01 22:45:00</th>\n",
              "      <td>5.00</td>\n",
              "      <td>5.00</td>\n",
              "      <td>5.00</td>\n",
              "      <td>5.00</td>\n",
              "      <td>10.100000</td>\n",
              "      <td>50.500000</td>\n",
              "      <td>5.000000</td>\n",
              "    </tr>\n",
              "    <tr>\n",
              "      <th>2012-01-02 20:04:00</th>\n",
              "      <td>5.00</td>\n",
              "      <td>5.00</td>\n",
              "      <td>5.00</td>\n",
              "      <td>5.00</td>\n",
              "      <td>19.048000</td>\n",
              "      <td>95.240000</td>\n",
              "      <td>5.000000</td>\n",
              "    </tr>\n",
              "    <tr>\n",
              "      <th>2012-01-03 11:45:00</th>\n",
              "      <td>5.32</td>\n",
              "      <td>5.32</td>\n",
              "      <td>5.32</td>\n",
              "      <td>5.32</td>\n",
              "      <td>2.419173</td>\n",
              "      <td>12.870000</td>\n",
              "      <td>5.320000</td>\n",
              "    </tr>\n",
              "    <tr>\n",
              "      <th>2012-01-03 14:22:00</th>\n",
              "      <td>5.14</td>\n",
              "      <td>5.14</td>\n",
              "      <td>5.14</td>\n",
              "      <td>5.14</td>\n",
              "      <td>0.680000</td>\n",
              "      <td>3.495200</td>\n",
              "      <td>5.140000</td>\n",
              "    </tr>\n",
              "  </tbody>\n",
              "</table>\n",
              "</div>"
            ],
            "text/plain": [
              "                     Open  High  ...  Volume_(Currency)  Weighted_Price\n",
              "time                             ...                                   \n",
              "2011-12-31 07:52:00  4.39  4.39  ...           2.000000        4.390000\n",
              "2011-12-31 15:50:00  4.39  4.39  ...         210.720000        4.390000\n",
              "2011-12-31 16:59:00  4.50  4.57  ...         171.380338        4.526411\n",
              "2011-12-31 17:00:00  4.58  4.58  ...          41.220000        4.580000\n",
              "2012-01-01 04:16:00  4.58  4.58  ...           6.879160        4.580000\n",
              "2012-01-01 15:28:00  4.84  4.84  ...          48.400000        4.840000\n",
              "2012-01-01 22:45:00  5.00  5.00  ...          50.500000        5.000000\n",
              "2012-01-02 20:04:00  5.00  5.00  ...          95.240000        5.000000\n",
              "2012-01-03 11:45:00  5.32  5.32  ...          12.870000        5.320000\n",
              "2012-01-03 14:22:00  5.14  5.14  ...           3.495200        5.140000\n",
              "\n",
              "[10 rows x 7 columns]"
            ]
          },
          "metadata": {
            "tags": []
          },
          "execution_count": 57
        }
      ]
    },
    {
      "cell_type": "markdown",
      "metadata": {
        "id": "825yVB6HIiSU"
      },
      "source": [
        "# Impartire date - Daily"
      ]
    },
    {
      "cell_type": "code",
      "metadata": {
        "id": "0O1NN67aIkwZ",
        "colab": {
          "base_uri": "https://localhost:8080/"
        },
        "outputId": "ff315a2a-988a-423e-d060-21fc51ce9bd8"
      },
      "source": [
        "%time clean_bitcoin_daily = clean_bit.resample('D').mean()"
      ],
      "execution_count": 26,
      "outputs": [
        {
          "output_type": "stream",
          "text": [
            "CPU times: user 16.8 ms, sys: 3.04 ms, total: 19.8 ms\n",
            "Wall time: 31 ms\n"
          ],
          "name": "stdout"
        }
      ]
    },
    {
      "cell_type": "code",
      "metadata": {
        "id": "_UTzAWF8Im3H",
        "colab": {
          "base_uri": "https://localhost:8080/",
          "height": 386
        },
        "outputId": "e43c8f12-3645-4b61-9073-f6ddbba1119e"
      },
      "source": [
        "clean_bitcoin_daily.head(10,npartitions=2)"
      ],
      "execution_count": 28,
      "outputs": [
        {
          "output_type": "execute_result",
          "data": {
            "text/html": [
              "<div>\n",
              "<style scoped>\n",
              "    .dataframe tbody tr th:only-of-type {\n",
              "        vertical-align: middle;\n",
              "    }\n",
              "\n",
              "    .dataframe tbody tr th {\n",
              "        vertical-align: top;\n",
              "    }\n",
              "\n",
              "    .dataframe thead th {\n",
              "        text-align: right;\n",
              "    }\n",
              "</style>\n",
              "<table border=\"1\" class=\"dataframe\">\n",
              "  <thead>\n",
              "    <tr style=\"text-align: right;\">\n",
              "      <th></th>\n",
              "      <th>Open</th>\n",
              "      <th>High</th>\n",
              "      <th>Low</th>\n",
              "      <th>Close</th>\n",
              "      <th>Volume_(BTC)</th>\n",
              "      <th>Volume_(Currency)</th>\n",
              "      <th>Weighted_Price</th>\n",
              "    </tr>\n",
              "    <tr>\n",
              "      <th>time</th>\n",
              "      <th></th>\n",
              "      <th></th>\n",
              "      <th></th>\n",
              "      <th></th>\n",
              "      <th></th>\n",
              "      <th></th>\n",
              "      <th></th>\n",
              "    </tr>\n",
              "  </thead>\n",
              "  <tbody>\n",
              "    <tr>\n",
              "      <th>2011-12-31</th>\n",
              "      <td>4.465000</td>\n",
              "      <td>4.482500</td>\n",
              "      <td>4.465000</td>\n",
              "      <td>4.482500</td>\n",
              "      <td>23.829470</td>\n",
              "      <td>106.330084</td>\n",
              "      <td>4.471603</td>\n",
              "    </tr>\n",
              "    <tr>\n",
              "      <th>2012-01-01</th>\n",
              "      <td>4.806667</td>\n",
              "      <td>4.806667</td>\n",
              "      <td>4.806667</td>\n",
              "      <td>4.806667</td>\n",
              "      <td>7.200667</td>\n",
              "      <td>35.259720</td>\n",
              "      <td>4.806667</td>\n",
              "    </tr>\n",
              "    <tr>\n",
              "      <th>2012-01-02</th>\n",
              "      <td>5.000000</td>\n",
              "      <td>5.000000</td>\n",
              "      <td>5.000000</td>\n",
              "      <td>5.000000</td>\n",
              "      <td>19.048000</td>\n",
              "      <td>95.240000</td>\n",
              "      <td>5.000000</td>\n",
              "    </tr>\n",
              "    <tr>\n",
              "      <th>2012-01-03</th>\n",
              "      <td>5.252500</td>\n",
              "      <td>5.252500</td>\n",
              "      <td>5.252500</td>\n",
              "      <td>5.252500</td>\n",
              "      <td>11.004660</td>\n",
              "      <td>58.100651</td>\n",
              "      <td>5.252500</td>\n",
              "    </tr>\n",
              "    <tr>\n",
              "      <th>2012-01-04</th>\n",
              "      <td>5.200000</td>\n",
              "      <td>5.223333</td>\n",
              "      <td>5.200000</td>\n",
              "      <td>5.223333</td>\n",
              "      <td>11.914807</td>\n",
              "      <td>63.119577</td>\n",
              "      <td>5.208159</td>\n",
              "    </tr>\n",
              "    <tr>\n",
              "      <th>2012-01-05</th>\n",
              "      <td>6.281429</td>\n",
              "      <td>6.286190</td>\n",
              "      <td>6.281429</td>\n",
              "      <td>6.286190</td>\n",
              "      <td>4.514373</td>\n",
              "      <td>27.987370</td>\n",
              "      <td>6.284127</td>\n",
              "    </tr>\n",
              "    <tr>\n",
              "      <th>2012-01-06</th>\n",
              "      <td>6.435000</td>\n",
              "      <td>6.445000</td>\n",
              "      <td>6.435000</td>\n",
              "      <td>6.445000</td>\n",
              "      <td>2.420196</td>\n",
              "      <td>15.914659</td>\n",
              "      <td>6.438999</td>\n",
              "    </tr>\n",
              "    <tr>\n",
              "      <th>2012-01-07</th>\n",
              "      <td>6.800000</td>\n",
              "      <td>6.800000</td>\n",
              "      <td>6.800000</td>\n",
              "      <td>6.800000</td>\n",
              "      <td>0.295858</td>\n",
              "      <td>2.011834</td>\n",
              "      <td>6.800000</td>\n",
              "    </tr>\n",
              "    <tr>\n",
              "      <th>2012-01-08</th>\n",
              "      <td>6.950000</td>\n",
              "      <td>6.950000</td>\n",
              "      <td>6.950000</td>\n",
              "      <td>6.950000</td>\n",
              "      <td>2.500000</td>\n",
              "      <td>17.300000</td>\n",
              "      <td>6.950000</td>\n",
              "    </tr>\n",
              "    <tr>\n",
              "      <th>2012-01-09</th>\n",
              "      <td>6.584167</td>\n",
              "      <td>6.584167</td>\n",
              "      <td>6.581667</td>\n",
              "      <td>6.581667</td>\n",
              "      <td>1.857481</td>\n",
              "      <td>12.306798</td>\n",
              "      <td>6.582770</td>\n",
              "    </tr>\n",
              "  </tbody>\n",
              "</table>\n",
              "</div>"
            ],
            "text/plain": [
              "                Open      High  ...  Volume_(Currency)  Weighted_Price\n",
              "time                            ...                                   \n",
              "2011-12-31  4.465000  4.482500  ...         106.330084        4.471603\n",
              "2012-01-01  4.806667  4.806667  ...          35.259720        4.806667\n",
              "2012-01-02  5.000000  5.000000  ...          95.240000        5.000000\n",
              "2012-01-03  5.252500  5.252500  ...          58.100651        5.252500\n",
              "2012-01-04  5.200000  5.223333  ...          63.119577        5.208159\n",
              "2012-01-05  6.281429  6.286190  ...          27.987370        6.284127\n",
              "2012-01-06  6.435000  6.445000  ...          15.914659        6.438999\n",
              "2012-01-07  6.800000  6.800000  ...           2.011834        6.800000\n",
              "2012-01-08  6.950000  6.950000  ...          17.300000        6.950000\n",
              "2012-01-09  6.584167  6.584167  ...          12.306798        6.582770\n",
              "\n",
              "[10 rows x 7 columns]"
            ]
          },
          "metadata": {
            "tags": []
          },
          "execution_count": 28
        }
      ]
    }
  ]
}